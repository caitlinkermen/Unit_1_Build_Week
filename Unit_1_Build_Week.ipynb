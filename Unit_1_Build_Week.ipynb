{
  "nbformat": 4,
  "nbformat_minor": 0,
  "metadata": {
    "colab": {
      "name": "Unit_1_Build_Week_Draft_4.ipynb",
      "provenance": [],
      "collapsed_sections": [],
      "authorship_tag": "ABX9TyNz5k231mPMtQD6banhWVMD",
      "include_colab_link": true
    },
    "kernelspec": {
      "name": "python3",
      "display_name": "Python 3"
    }
  },
  "cells": [
    {
      "cell_type": "markdown",
      "metadata": {
        "id": "view-in-github",
        "colab_type": "text"
      },
      "source": [
        "<a href=\"https://colab.research.google.com/github/caitlinkermen/Unit_1_Build_Week/blob/main/Unit_1_Build_Week.ipynb\" target=\"_parent\"><img src=\"https://colab.research.google.com/assets/colab-badge.svg\" alt=\"Open In Colab\"/></a>"
      ]
    },
    {
      "cell_type": "markdown",
      "metadata": {
        "id": "u3DsDD8t_UbV"
      },
      "source": [
        "# Research Question\n",
        "\n",
        "Of the available Washington Realestate within a reasonable commute to Seattle what property qualities have the largest affect on Affordability for those who work and live in the same county and Seattle workers who live in another county.\n",
        "\n",
        "Research Question components\n",
        "- Zipcode data \n",
        "- MLS (Multiple Listing Service) data\n",
        "- Limited to properties that are livable for a family\n",
        "\n",
        "Research Sources \n",
        "- Redfin.com\n",
        "- https://www.zipcodestogo.com/Washington/\n",
        "- https://smartasset.com/taxes/washington-property-tax-calculator\n",
        "- https://data.ers.usda.gov/reports.aspx?ID=17828"
      ]
    },
    {
      "cell_type": "markdown",
      "metadata": {
        "id": "LKF1XIDH5jZo"
      },
      "source": [
        "# Setup all libraries needed to run this code"
      ]
    },
    {
      "cell_type": "code",
      "metadata": {
        "id": "6uIY2hrs5iMU"
      },
      "source": [
        "import pandas as pd\n",
        "import numpy as np\n",
        "import statistics\n",
        "import scipy as sp\n",
        "from scipy.stats import chi2_contingency\n",
        "from scipy import stats\n",
        "from scipy.stats import t\n",
        "import matplotlib as mpl\n",
        "import matplotlib.pyplot as plt\n",
        "%matplotlib inline\n",
        "plt.style.use('ggplot')\n",
        "#all imported librarys used will be listed here."
      ],
      "execution_count": 2,
      "outputs": []
    },
    {
      "cell_type": "markdown",
      "metadata": {
        "id": "UmoOagxn5xWs"
      },
      "source": [
        "# Load All Data"
      ]
    },
    {
      "cell_type": "code",
      "metadata": {
        "id": "8PLdvnTE5w-o"
      },
      "source": [
        "#For the smaller csv files it was easier to rename the columns at the same time as loading the data\n",
        "Zip_Codes_Counties_Within_Commutable_Distance_url = \"https://raw.githubusercontent.com/caitlinkermen/Unit_1_Build_Week/main/Zip_Codes_Counties_Within_Commutable_Distance.csv\"\n",
        "Zip_Codes_Counties_Within_Commutable_Distance = pd.read_csv(Zip_Codes_Counties_Within_Commutable_Distance_url)\n",
        "Zip_Codes_Counties_Within_Commutable_Distance.columns = [\"Zipcode\",\"City\",\"County\"]\n",
        "\n",
        "zipcode_property_tax_rate_url = \"https://raw.githubusercontent.com/caitlinkermen/Unit_1_Build_Week/main/Zip_Code_Tax_Rate.csv\"\n",
        "zipcode_property_tax_rate = pd.read_csv(zipcode_property_tax_rate_url)\n",
        "zipcode_property_tax_rate.columns = [\"County\",\"Property_Tax_Rate\"]\n",
        "\n",
        "mean_income_csv_url = \"https://raw.githubusercontent.com/caitlinkermen/Unit_1_Build_Week/main/UnemploymentReport_and_Mean_Income.csv\"\n",
        "mean_income_csv = pd.read_csv(mean_income_csv_url)\n",
        "mean_income_csv.columns = ['FIPS ', 'Name', '2011', '2012', '2013', '2014', '2015', '2016', '2017',\n",
        "       '2018', '2019', 'Mean Household Income (2018)',\n",
        "       '% of State Mean HH Income']"
      ],
      "execution_count": 3,
      "outputs": []
    },
    {
      "cell_type": "code",
      "metadata": {
        "id": "shDKPS-FGO7q"
      },
      "source": [
        "#MLS Data for all counties within a reasonable commute to seattle\n",
        "all_counties_url = \"https://raw.githubusercontent.com/caitlinkermen/Unit_1_Build_Week/main/All_Counties_MLS%20-%20Sheet1.csv\"\n",
        "all_counties = pd.read_csv(all_counties_url)\n",
        "\n",
        "#Two weeks after loading the first datasets I decided to get an updated MLS \n",
        "all_counties_new_url = \"https://raw.githubusercontent.com/caitlinkermen/Unit_1_Build_Week/main/All_Counties.csv\"\n",
        "all_counties_new = pd.read_csv(all_counties_new_url)\n",
        "\n",
        "#I got an updated MLS again\n",
        "all_counties_newer_url = \"https://raw.githubusercontent.com/caitlinkermen/Unit_1_Build_Week/main/ALL_COUNTIES%20-%20redfin_2020-10-16-18-22-05.csv\"\n",
        "all_counties_newer = pd.read_csv(all_counties_newer_url)\n",
        "\n",
        "#I also loaded the sold data for the past 5 years I may or may not use this.\n",
        "all_counties_sold_5yr_url = \"https://raw.githubusercontent.com/caitlinkermen/Unit_1_Build_Week/main/MLS_All_Counties_Sold_5Yr.csv\"\n",
        "all_counties_sold_5yr = pd.read_csv(all_counties_sold_5yr_url)"
      ],
      "execution_count": 4,
      "outputs": []
    },
    {
      "cell_type": "markdown",
      "metadata": {
        "id": "KUB1jgn251rC"
      },
      "source": [
        "# Check that they loaded properly"
      ]
    },
    {
      "cell_type": "code",
      "metadata": {
        "id": "PzlD68Un55Dv"
      },
      "source": [
        "#Zip_Codes_Counties_Within_Commutable_Distance.head(2)"
      ],
      "execution_count": 5,
      "outputs": []
    },
    {
      "cell_type": "code",
      "metadata": {
        "id": "giuj4QzQA7Gl"
      },
      "source": [
        "#mean_income_csv.head(2)"
      ],
      "execution_count": 6,
      "outputs": []
    },
    {
      "cell_type": "code",
      "metadata": {
        "id": "2v6j0iCEG4VA"
      },
      "source": [
        "#all_counties.head(2)"
      ],
      "execution_count": 7,
      "outputs": []
    },
    {
      "cell_type": "code",
      "metadata": {
        "id": "P1MhKQQvG4Ni"
      },
      "source": [
        "#all_counties_new.head(2)"
      ],
      "execution_count": 8,
      "outputs": []
    },
    {
      "cell_type": "code",
      "metadata": {
        "id": "oqCSkbZSNoE5"
      },
      "source": [
        "#all_counties_newer.head(2)"
      ],
      "execution_count": 9,
      "outputs": []
    },
    {
      "cell_type": "code",
      "metadata": {
        "id": "KcnLdaVbHC7F"
      },
      "source": [
        "#all_counties_sold_5yr.head(2)"
      ],
      "execution_count": 10,
      "outputs": []
    },
    {
      "cell_type": "markdown",
      "metadata": {
        "id": "igyjKKca55jQ"
      },
      "source": [
        "# Clean the Data\n",
        "\n",
        "To clean the data I will need to:\n",
        "- combine datasets as needed\n",
        "  - using filters \n",
        "  - by matching column values\n",
        "- ensure there are no duplicates\n",
        "  - specific datapoints should not have duplicate values\n",
        "- Standardize column labling\n",
        "- Drop Columns as needed\n",
        "- Drop rows with Nan values in specific columns\n",
        "- Organize Column order\n",
        "- Change float to int on specific columns as needed\n",
        "- Set Year Built column to date"
      ]
    },
    {
      "cell_type": "markdown",
      "metadata": {
        "id": "_LHYkuhbBAtq"
      },
      "source": [
        "Zip Code Data"
      ]
    },
    {
      "cell_type": "code",
      "metadata": {
        "id": "gSdOpt2v58Vh",
        "outputId": "f108c8ab-1f01-4e81-cb5c-0489024adb47",
        "colab": {
          "base_uri": "https://localhost:8080/",
          "height": 170
        }
      },
      "source": [
        "#I used the Zip_Codes_Counties_Within_Commutable_Distance dataframe \n",
        "#to limit the zipcode_property_tax_rate dataframe to only include \n",
        "#Counties that are within a reasonable commute to Seattle\n",
        "property_tax_condition = zipcode_property_tax_rate[\"County\"].isin(Zip_Codes_Counties_Within_Commutable_Distance[\"County\"])\n",
        "property_tax_subset = zipcode_property_tax_rate[property_tax_condition]\n",
        "print(property_tax_subset.shape)\n",
        "print(property_tax_subset)"
      ],
      "execution_count": 11,
      "outputs": [
        {
          "output_type": "stream",
          "text": [
            "(7, 2)\n",
            "       County  Property_Tax_Rate\n",
            "14     Island             0.0084\n",
            "16       King             0.0095\n",
            "17     Kitsap             0.0101\n",
            "26     Pierce             0.0121\n",
            "28     Skagit             0.0101\n",
            "30  Snohomish             0.0100\n",
            "36    Whatcom             0.0087\n"
          ],
          "name": "stdout"
        }
      ]
    },
    {
      "cell_type": "code",
      "metadata": {
        "id": "yHdPqInpC5ye"
      },
      "source": [
        "mean_income_csv = mean_income_csv.drop(['FIPS ', '2011', '2012', '2013', '2014', '2015', '2016', '2017',\n",
        "       '2018', '2019', '% of State Mean HH Income'],axis = 1)\n",
        "mean_income_csv = mean_income_csv.drop(0)\n",
        "mean_income_csv = mean_income_csv.drop(40)\n",
        "mean_income_csv = mean_income_csv.drop(41)"
      ],
      "execution_count": 12,
      "outputs": []
    },
    {
      "cell_type": "code",
      "metadata": {
        "id": "fyIX3XciDBe_"
      },
      "source": [
        "mean_income_csv.columns = ['County', 'Mean_Income']"
      ],
      "execution_count": 13,
      "outputs": []
    },
    {
      "cell_type": "code",
      "metadata": {
        "id": "zUZCNd47DEbO"
      },
      "source": [
        "#clean up strings\n",
        "def clean_str(dirty_str):\n",
        "  if isinstance(dirty_str, str):\n",
        "    return dirty_str.replace(\" County, WA\",\"\").strip()\n",
        "  else:\n",
        "    return dirty_str"
      ],
      "execution_count": 14,
      "outputs": []
    },
    {
      "cell_type": "code",
      "metadata": {
        "id": "q2zHSmunDGk6"
      },
      "source": [
        "mean_income_csv[\"County\"] = mean_income_csv[\"County\"].apply(clean_str)"
      ],
      "execution_count": 15,
      "outputs": []
    },
    {
      "cell_type": "code",
      "metadata": {
        "id": "FX1XlbR_DJJy"
      },
      "source": [
        "#clean up strings\n",
        "def remove_dollar_comma(dirty_str):\n",
        "  if isinstance(dirty_str, str):\n",
        "    return dirty_str.replace(\"$\",\"\").replace(\",\",\"\").strip()\n",
        "  else:\n",
        "    return dirty_str"
      ],
      "execution_count": 16,
      "outputs": []
    },
    {
      "cell_type": "code",
      "metadata": {
        "id": "KACgLhFtDLdg"
      },
      "source": [
        "mean_income_csv[\"Mean_Income\"] = mean_income_csv[\"Mean_Income\"].apply(remove_dollar_comma)\n",
        "mean_income_csv[\"Mean_Income\"] = mean_income_csv[\"Mean_Income\"].astype(int)"
      ],
      "execution_count": 17,
      "outputs": []
    },
    {
      "cell_type": "code",
      "metadata": {
        "id": "HtFdGJgFA-9M",
        "outputId": "b577b66c-5eae-4c23-9805-1c6ed5e37d6d",
        "colab": {
          "base_uri": "https://localhost:8080/",
          "height": 136
        }
      },
      "source": [
        "#I used the Zip_Codes_Counties_Within_Commutable_Distance dataframe \n",
        "#to limit the zipcode_mean_income dataframe to only include \n",
        "#Zipcodes that are within a reasonable commute to Seattle\n",
        "mean_income_condition = mean_income_csv[\"County\"].isin(Zip_Codes_Counties_Within_Commutable_Distance[\"County\"])\n",
        "mean_income_subset = mean_income_csv[mean_income_condition]\n",
        "print(mean_income_subset.shape)\n",
        "print(mean_income_subset.head())"
      ],
      "execution_count": 18,
      "outputs": [
        {
          "output_type": "stream",
          "text": [
            "(7, 2)\n",
            "    County  Mean_Income\n",
            "15  Island        65987\n",
            "17    King        94822\n",
            "18  Kitsap        76530\n",
            "27  Pierce        75022\n",
            "29  Skagit        70955\n"
          ],
          "name": "stdout"
        }
      ]
    },
    {
      "cell_type": "code",
      "metadata": {
        "id": "CoeMy35pET1F",
        "outputId": "37d514ff-170a-489c-e35a-f918bddfdfcb",
        "colab": {
          "base_uri": "https://localhost:8080/",
          "height": 142
        }
      },
      "source": [
        "mean_income_subset.head(3)"
      ],
      "execution_count": 19,
      "outputs": [
        {
          "output_type": "execute_result",
          "data": {
            "text/html": [
              "<div>\n",
              "<style scoped>\n",
              "    .dataframe tbody tr th:only-of-type {\n",
              "        vertical-align: middle;\n",
              "    }\n",
              "\n",
              "    .dataframe tbody tr th {\n",
              "        vertical-align: top;\n",
              "    }\n",
              "\n",
              "    .dataframe thead th {\n",
              "        text-align: right;\n",
              "    }\n",
              "</style>\n",
              "<table border=\"1\" class=\"dataframe\">\n",
              "  <thead>\n",
              "    <tr style=\"text-align: right;\">\n",
              "      <th></th>\n",
              "      <th>County</th>\n",
              "      <th>Mean_Income</th>\n",
              "    </tr>\n",
              "  </thead>\n",
              "  <tbody>\n",
              "    <tr>\n",
              "      <th>15</th>\n",
              "      <td>Island</td>\n",
              "      <td>65987</td>\n",
              "    </tr>\n",
              "    <tr>\n",
              "      <th>17</th>\n",
              "      <td>King</td>\n",
              "      <td>94822</td>\n",
              "    </tr>\n",
              "    <tr>\n",
              "      <th>18</th>\n",
              "      <td>Kitsap</td>\n",
              "      <td>76530</td>\n",
              "    </tr>\n",
              "  </tbody>\n",
              "</table>\n",
              "</div>"
            ],
            "text/plain": [
              "    County  Mean_Income\n",
              "15  Island        65987\n",
              "17    King        94822\n",
              "18  Kitsap        76530"
            ]
          },
          "metadata": {
            "tags": []
          },
          "execution_count": 19
        }
      ]
    },
    {
      "cell_type": "code",
      "metadata": {
        "id": "gnQ5mcQeBIwA",
        "outputId": "1f798a67-dd22-4810-dc52-b51fe2bac216",
        "colab": {
          "base_uri": "https://localhost:8080/",
          "height": 306
        }
      },
      "source": [
        "#this may not have been the best way to do this but I needed to round \n",
        "#the mean income down to the nearest int for easier calculations later.\n",
        "mean_income_subset[\"Mean_Income\"] = mean_income_subset[\"Mean_Income\"].astype(int)\n",
        "mean_income_subset.head()"
      ],
      "execution_count": 20,
      "outputs": [
        {
          "output_type": "stream",
          "text": [
            "/usr/local/lib/python3.6/dist-packages/ipykernel_launcher.py:3: SettingWithCopyWarning: \n",
            "A value is trying to be set on a copy of a slice from a DataFrame.\n",
            "Try using .loc[row_indexer,col_indexer] = value instead\n",
            "\n",
            "See the caveats in the documentation: https://pandas.pydata.org/pandas-docs/stable/user_guide/indexing.html#returning-a-view-versus-a-copy\n",
            "  This is separate from the ipykernel package so we can avoid doing imports until\n"
          ],
          "name": "stderr"
        },
        {
          "output_type": "execute_result",
          "data": {
            "text/html": [
              "<div>\n",
              "<style scoped>\n",
              "    .dataframe tbody tr th:only-of-type {\n",
              "        vertical-align: middle;\n",
              "    }\n",
              "\n",
              "    .dataframe tbody tr th {\n",
              "        vertical-align: top;\n",
              "    }\n",
              "\n",
              "    .dataframe thead th {\n",
              "        text-align: right;\n",
              "    }\n",
              "</style>\n",
              "<table border=\"1\" class=\"dataframe\">\n",
              "  <thead>\n",
              "    <tr style=\"text-align: right;\">\n",
              "      <th></th>\n",
              "      <th>County</th>\n",
              "      <th>Mean_Income</th>\n",
              "    </tr>\n",
              "  </thead>\n",
              "  <tbody>\n",
              "    <tr>\n",
              "      <th>15</th>\n",
              "      <td>Island</td>\n",
              "      <td>65987</td>\n",
              "    </tr>\n",
              "    <tr>\n",
              "      <th>17</th>\n",
              "      <td>King</td>\n",
              "      <td>94822</td>\n",
              "    </tr>\n",
              "    <tr>\n",
              "      <th>18</th>\n",
              "      <td>Kitsap</td>\n",
              "      <td>76530</td>\n",
              "    </tr>\n",
              "    <tr>\n",
              "      <th>27</th>\n",
              "      <td>Pierce</td>\n",
              "      <td>75022</td>\n",
              "    </tr>\n",
              "    <tr>\n",
              "      <th>29</th>\n",
              "      <td>Skagit</td>\n",
              "      <td>70955</td>\n",
              "    </tr>\n",
              "  </tbody>\n",
              "</table>\n",
              "</div>"
            ],
            "text/plain": [
              "    County  Mean_Income\n",
              "15  Island        65987\n",
              "17    King        94822\n",
              "18  Kitsap        76530\n",
              "27  Pierce        75022\n",
              "29  Skagit        70955"
            ]
          },
          "metadata": {
            "tags": []
          },
          "execution_count": 20
        }
      ]
    },
    {
      "cell_type": "code",
      "metadata": {
        "id": "VHsF0ulrBLR6",
        "outputId": "e5c34a6d-c7c7-4f5f-fc4b-e926ed5eda65",
        "colab": {
          "base_uri": "https://localhost:8080/",
          "height": 204
        }
      },
      "source": [
        "#Merging the dataframes\n",
        "commute_and_mean_income = pd.merge(Zip_Codes_Counties_Within_Commutable_Distance,mean_income_subset,on = \"County\", how = \"inner\")\n",
        "commute_and_mean_income.head()"
      ],
      "execution_count": 21,
      "outputs": [
        {
          "output_type": "execute_result",
          "data": {
            "text/html": [
              "<div>\n",
              "<style scoped>\n",
              "    .dataframe tbody tr th:only-of-type {\n",
              "        vertical-align: middle;\n",
              "    }\n",
              "\n",
              "    .dataframe tbody tr th {\n",
              "        vertical-align: top;\n",
              "    }\n",
              "\n",
              "    .dataframe thead th {\n",
              "        text-align: right;\n",
              "    }\n",
              "</style>\n",
              "<table border=\"1\" class=\"dataframe\">\n",
              "  <thead>\n",
              "    <tr style=\"text-align: right;\">\n",
              "      <th></th>\n",
              "      <th>Zipcode</th>\n",
              "      <th>City</th>\n",
              "      <th>County</th>\n",
              "      <th>Mean_Income</th>\n",
              "    </tr>\n",
              "  </thead>\n",
              "  <tbody>\n",
              "    <tr>\n",
              "      <th>0</th>\n",
              "      <td>98282</td>\n",
              "      <td>Camano Island</td>\n",
              "      <td>Island</td>\n",
              "      <td>65987</td>\n",
              "    </tr>\n",
              "    <tr>\n",
              "      <th>1</th>\n",
              "      <td>98236</td>\n",
              "      <td>Clinton</td>\n",
              "      <td>Island</td>\n",
              "      <td>65987</td>\n",
              "    </tr>\n",
              "    <tr>\n",
              "      <th>2</th>\n",
              "      <td>98239</td>\n",
              "      <td>Coupeville</td>\n",
              "      <td>Island</td>\n",
              "      <td>65987</td>\n",
              "    </tr>\n",
              "    <tr>\n",
              "      <th>3</th>\n",
              "      <td>98249</td>\n",
              "      <td>Freeland</td>\n",
              "      <td>Island</td>\n",
              "      <td>65987</td>\n",
              "    </tr>\n",
              "    <tr>\n",
              "      <th>4</th>\n",
              "      <td>98253</td>\n",
              "      <td>Greenbank</td>\n",
              "      <td>Island</td>\n",
              "      <td>65987</td>\n",
              "    </tr>\n",
              "  </tbody>\n",
              "</table>\n",
              "</div>"
            ],
            "text/plain": [
              "   Zipcode           City  County  Mean_Income\n",
              "0    98282  Camano Island  Island        65987\n",
              "1    98236        Clinton  Island        65987\n",
              "2    98239     Coupeville  Island        65987\n",
              "3    98249       Freeland  Island        65987\n",
              "4    98253      Greenbank  Island        65987"
            ]
          },
          "metadata": {
            "tags": []
          },
          "execution_count": 21
        }
      ]
    },
    {
      "cell_type": "code",
      "metadata": {
        "id": "BqxwxhCUBN7U",
        "outputId": "b136450c-3dc7-47de-be10-3528fa71822f",
        "colab": {
          "base_uri": "https://localhost:8080/",
          "height": 204
        }
      },
      "source": [
        "#Merging the dataframes \n",
        "zipcode_data = pd.merge(commute_and_mean_income,property_tax_subset,on = \"County\", how = \"inner\")\n",
        "zipcode_data.head()"
      ],
      "execution_count": 22,
      "outputs": [
        {
          "output_type": "execute_result",
          "data": {
            "text/html": [
              "<div>\n",
              "<style scoped>\n",
              "    .dataframe tbody tr th:only-of-type {\n",
              "        vertical-align: middle;\n",
              "    }\n",
              "\n",
              "    .dataframe tbody tr th {\n",
              "        vertical-align: top;\n",
              "    }\n",
              "\n",
              "    .dataframe thead th {\n",
              "        text-align: right;\n",
              "    }\n",
              "</style>\n",
              "<table border=\"1\" class=\"dataframe\">\n",
              "  <thead>\n",
              "    <tr style=\"text-align: right;\">\n",
              "      <th></th>\n",
              "      <th>Zipcode</th>\n",
              "      <th>City</th>\n",
              "      <th>County</th>\n",
              "      <th>Mean_Income</th>\n",
              "      <th>Property_Tax_Rate</th>\n",
              "    </tr>\n",
              "  </thead>\n",
              "  <tbody>\n",
              "    <tr>\n",
              "      <th>0</th>\n",
              "      <td>98282</td>\n",
              "      <td>Camano Island</td>\n",
              "      <td>Island</td>\n",
              "      <td>65987</td>\n",
              "      <td>0.0084</td>\n",
              "    </tr>\n",
              "    <tr>\n",
              "      <th>1</th>\n",
              "      <td>98236</td>\n",
              "      <td>Clinton</td>\n",
              "      <td>Island</td>\n",
              "      <td>65987</td>\n",
              "      <td>0.0084</td>\n",
              "    </tr>\n",
              "    <tr>\n",
              "      <th>2</th>\n",
              "      <td>98239</td>\n",
              "      <td>Coupeville</td>\n",
              "      <td>Island</td>\n",
              "      <td>65987</td>\n",
              "      <td>0.0084</td>\n",
              "    </tr>\n",
              "    <tr>\n",
              "      <th>3</th>\n",
              "      <td>98249</td>\n",
              "      <td>Freeland</td>\n",
              "      <td>Island</td>\n",
              "      <td>65987</td>\n",
              "      <td>0.0084</td>\n",
              "    </tr>\n",
              "    <tr>\n",
              "      <th>4</th>\n",
              "      <td>98253</td>\n",
              "      <td>Greenbank</td>\n",
              "      <td>Island</td>\n",
              "      <td>65987</td>\n",
              "      <td>0.0084</td>\n",
              "    </tr>\n",
              "  </tbody>\n",
              "</table>\n",
              "</div>"
            ],
            "text/plain": [
              "   Zipcode           City  County  Mean_Income  Property_Tax_Rate\n",
              "0    98282  Camano Island  Island        65987             0.0084\n",
              "1    98236        Clinton  Island        65987             0.0084\n",
              "2    98239     Coupeville  Island        65987             0.0084\n",
              "3    98249       Freeland  Island        65987             0.0084\n",
              "4    98253      Greenbank  Island        65987             0.0084"
            ]
          },
          "metadata": {
            "tags": []
          },
          "execution_count": 22
        }
      ]
    },
    {
      "cell_type": "markdown",
      "metadata": {
        "id": "SMoxrDg7BDwi"
      },
      "source": [
        "MLS Data"
      ]
    },
    {
      "cell_type": "code",
      "metadata": {
        "id": "B-ymDDlEC4Mq",
        "outputId": "a44faf83-24f5-4987-c074-0e5ec2ed931c",
        "colab": {
          "base_uri": "https://localhost:8080/",
          "height": 34
        }
      },
      "source": [
        "#Combining the data for the previous MLS download and the more current one. \n",
        "all_counties_mls_list = [all_counties,all_counties_new,all_counties_newer,all_counties_sold_5yr]\n",
        "#Combining all the data\n",
        "all_counties_mls = pd.concat(all_counties_mls_list)\n",
        "print(all_counties_mls.shape)"
      ],
      "execution_count": 23,
      "outputs": [
        {
          "output_type": "stream",
          "text": [
            "(4277, 27)\n"
          ],
          "name": "stdout"
        }
      ]
    },
    {
      "cell_type": "code",
      "metadata": {
        "id": "bh6Ao5-DIJnp",
        "outputId": "685f9f36-9fc8-4f55-d8c6-15ef7f7d02a1",
        "colab": {
          "base_uri": "https://localhost:8080/",
          "height": 85
        }
      },
      "source": [
        "all_counties_mls[\"PROPERTY TYPE\"].unique()"
      ],
      "execution_count": 24,
      "outputs": [
        {
          "output_type": "execute_result",
          "data": {
            "text/plain": [
              "array(['Single Family Residential', 'Vacant Land', 'Condo/Co-op',\n",
              "       'Mobile/Manufactured Home', 'Multi-Family (2-4 Unit)', 'Ranch',\n",
              "       'Moorage', 'Townhouse', 'Multi-Family (5+ Unit)', 'Parking',\n",
              "       'Other', 'Unknown'], dtype=object)"
            ]
          },
          "metadata": {
            "tags": []
          },
          "execution_count": 24
        }
      ]
    },
    {
      "cell_type": "markdown",
      "metadata": {
        "id": "Ufn_r82rIVVw"
      },
      "source": [
        "I do not want these properties to be included:\n",
        "\n",
        "'Vacant Land', 'Ranch', 'Moorage', 'Multi-Family (5+ Unit)', 'Parking', 'Other', 'Unknown'\n",
        "\n"
      ]
    },
    {
      "cell_type": "code",
      "metadata": {
        "id": "RkMA4HcNJNdk",
        "outputId": "66bcf6ed-4ee1-4b8d-92f9-876968f048bb",
        "colab": {
          "base_uri": "https://localhost:8080/",
          "height": 301
        }
      },
      "source": [
        "property_condition = all_counties_mls[\"PROPERTY TYPE\"].isin(['Single Family Residential', 'Condo/Co-op',\n",
        "       'Mobile/Manufactured Home', 'Townhouse','Multi-Family (2-4 Unit)'])\n",
        "all_counties_mls = all_counties_mls[property_condition]\n",
        "print(all_counties_mls.shape)\n",
        "all_counties_mls.head(2)"
      ],
      "execution_count": 25,
      "outputs": [
        {
          "output_type": "stream",
          "text": [
            "(3426, 27)\n"
          ],
          "name": "stdout"
        },
        {
          "output_type": "execute_result",
          "data": {
            "text/html": [
              "<div>\n",
              "<style scoped>\n",
              "    .dataframe tbody tr th:only-of-type {\n",
              "        vertical-align: middle;\n",
              "    }\n",
              "\n",
              "    .dataframe tbody tr th {\n",
              "        vertical-align: top;\n",
              "    }\n",
              "\n",
              "    .dataframe thead th {\n",
              "        text-align: right;\n",
              "    }\n",
              "</style>\n",
              "<table border=\"1\" class=\"dataframe\">\n",
              "  <thead>\n",
              "    <tr style=\"text-align: right;\">\n",
              "      <th></th>\n",
              "      <th>SALE TYPE</th>\n",
              "      <th>SOLD DATE</th>\n",
              "      <th>PROPERTY TYPE</th>\n",
              "      <th>ADDRESS</th>\n",
              "      <th>CITY</th>\n",
              "      <th>STATE OR PROVINCE</th>\n",
              "      <th>ZIP OR POSTAL CODE</th>\n",
              "      <th>PRICE</th>\n",
              "      <th>BEDS</th>\n",
              "      <th>BATHS</th>\n",
              "      <th>LOCATION</th>\n",
              "      <th>SQUARE FEET</th>\n",
              "      <th>LOT SIZE</th>\n",
              "      <th>YEAR BUILT</th>\n",
              "      <th>DAYS ON MARKET</th>\n",
              "      <th>$/SQUARE FEET</th>\n",
              "      <th>HOA/MONTH</th>\n",
              "      <th>STATUS</th>\n",
              "      <th>NEXT OPEN HOUSE START TIME</th>\n",
              "      <th>NEXT OPEN HOUSE END TIME</th>\n",
              "      <th>URL (SEE http://www.redfin.com/buy-a-home/comparative-market-analysis FOR INFO ON PRICING)</th>\n",
              "      <th>SOURCE</th>\n",
              "      <th>MLS#</th>\n",
              "      <th>FAVORITE</th>\n",
              "      <th>INTERESTED</th>\n",
              "      <th>LATITUDE</th>\n",
              "      <th>LONGITUDE</th>\n",
              "    </tr>\n",
              "  </thead>\n",
              "  <tbody>\n",
              "    <tr>\n",
              "      <th>0</th>\n",
              "      <td>MLS Listing</td>\n",
              "      <td>NaN</td>\n",
              "      <td>Single Family Residential</td>\n",
              "      <td>520 E Highland Ave</td>\n",
              "      <td>Mount Vernon</td>\n",
              "      <td>WA</td>\n",
              "      <td>98273.0</td>\n",
              "      <td>380000</td>\n",
              "      <td>3.0</td>\n",
              "      <td>2.25</td>\n",
              "      <td>Mount Vernon</td>\n",
              "      <td>1540.0</td>\n",
              "      <td>4792.0</td>\n",
              "      <td>1983.0</td>\n",
              "      <td>6.0</td>\n",
              "      <td>247.0</td>\n",
              "      <td>NaN</td>\n",
              "      <td>Active</td>\n",
              "      <td>NaN</td>\n",
              "      <td>NaN</td>\n",
              "      <td>http://www.redfin.com/WA/Mt-Vernon/520-E-Highl...</td>\n",
              "      <td>NWMLS</td>\n",
              "      <td>1666770.0</td>\n",
              "      <td>N</td>\n",
              "      <td>Y</td>\n",
              "      <td>48.424872</td>\n",
              "      <td>-122.329990</td>\n",
              "    </tr>\n",
              "    <tr>\n",
              "      <th>1</th>\n",
              "      <td>MLS Listing</td>\n",
              "      <td>NaN</td>\n",
              "      <td>Single Family Residential</td>\n",
              "      <td>4601 Beaver Pond Dr S</td>\n",
              "      <td>Mount Vernon</td>\n",
              "      <td>WA</td>\n",
              "      <td>98274.0</td>\n",
              "      <td>908000</td>\n",
              "      <td>5.0</td>\n",
              "      <td>4.00</td>\n",
              "      <td>Mount Vernon</td>\n",
              "      <td>5392.0</td>\n",
              "      <td>13939.0</td>\n",
              "      <td>2008.0</td>\n",
              "      <td>91.0</td>\n",
              "      <td>168.0</td>\n",
              "      <td>55.0</td>\n",
              "      <td>Active</td>\n",
              "      <td>NaN</td>\n",
              "      <td>NaN</td>\n",
              "      <td>http://www.redfin.com/WA/Mt-Vernon/4601-Beaver...</td>\n",
              "      <td>NWMLS</td>\n",
              "      <td>1622974.0</td>\n",
              "      <td>N</td>\n",
              "      <td>Y</td>\n",
              "      <td>48.405891</td>\n",
              "      <td>-122.279209</td>\n",
              "    </tr>\n",
              "  </tbody>\n",
              "</table>\n",
              "</div>"
            ],
            "text/plain": [
              "     SALE TYPE SOLD DATE  ...   LATITUDE   LONGITUDE\n",
              "0  MLS Listing       NaN  ...  48.424872 -122.329990\n",
              "1  MLS Listing       NaN  ...  48.405891 -122.279209\n",
              "\n",
              "[2 rows x 27 columns]"
            ]
          },
          "metadata": {
            "tags": []
          },
          "execution_count": 25
        }
      ]
    },
    {
      "cell_type": "markdown",
      "metadata": {
        "id": "Lij0IxsFNBvj"
      },
      "source": [
        "I must delete any duplicate entries. They may be found by looking for double entries in the Address column and the MLS# column"
      ]
    },
    {
      "cell_type": "code",
      "metadata": {
        "id": "_itR7JWFLpEs",
        "outputId": "cf3cf820-087e-45b7-bbe2-8f085d74dc5a",
        "colab": {
          "base_uri": "https://localhost:8080/",
          "height": 34
        }
      },
      "source": [
        "#look for duplicate data\n",
        "any(all_counties_mls[\"MLS#\"].duplicated())\n",
        "any(all_counties_mls[\"ADDRESS\"].duplicated())"
      ],
      "execution_count": 26,
      "outputs": [
        {
          "output_type": "execute_result",
          "data": {
            "text/plain": [
              "True"
            ]
          },
          "metadata": {
            "tags": []
          },
          "execution_count": 26
        }
      ]
    },
    {
      "cell_type": "code",
      "metadata": {
        "id": "oa1hVFxpMRec",
        "outputId": "2d66fb3a-65a4-4689-d8d7-31731cd6b1d9",
        "colab": {
          "base_uri": "https://localhost:8080/",
          "height": 34
        }
      },
      "source": [
        "#Drop any duplicates \n",
        "all_counties_mls = all_counties_mls.drop_duplicates(\"MLS#\")\n",
        "all_counties_mls =all_counties_mls.drop_duplicates(\"ADDRESS\")\n",
        "print(all_counties_mls.shape)"
      ],
      "execution_count": 27,
      "outputs": [
        {
          "output_type": "stream",
          "text": [
            "(2764, 27)\n"
          ],
          "name": "stdout"
        }
      ]
    },
    {
      "cell_type": "code",
      "metadata": {
        "id": "OI32dJpIYPmH",
        "outputId": "e49a6bd5-0ff1-42d7-d53d-b41ef9d4d48a",
        "colab": {
          "base_uri": "https://localhost:8080/",
          "height": 34
        }
      },
      "source": [
        "#Look for null values in MLS# column\n",
        "any(all_counties_mls[\"MLS#\"].isnull())"
      ],
      "execution_count": 28,
      "outputs": [
        {
          "output_type": "execute_result",
          "data": {
            "text/plain": [
              "True"
            ]
          },
          "metadata": {
            "tags": []
          },
          "execution_count": 28
        }
      ]
    },
    {
      "cell_type": "code",
      "metadata": {
        "id": "FrYZCeT1X9Hk"
      },
      "source": [
        "all_counties_mls = all_counties_mls.dropna(subset= [\"MLS#\"])"
      ],
      "execution_count": 29,
      "outputs": []
    },
    {
      "cell_type": "markdown",
      "metadata": {
        "id": "sIF8_mfPNQ8x"
      },
      "source": [
        "At this point I want to clean up the MLS data column headers"
      ]
    },
    {
      "cell_type": "code",
      "metadata": {
        "id": "0kSpAvHSNqjy"
      },
      "source": [
        " #Changing the column names to be more concise and any spaces are replaced with _\n",
        " all_counties_mls.columns = ['Sale_Type', 'Sold_Date', 'Property_Type', 'Address', 'City',\n",
        "       'STATE_OR_PROVINCE', 'Zipcode', 'Price', 'Beds', 'Baths',\n",
        "       'LOCATION', 'Square_feet', 'Lot_Size', 'Year_Built', 'DAYS_ON MARKET',\n",
        "       '$/Square_feet', 'HOA/MONTH', 'STATUS', 'NEXT_OPEN_HOUSE_START_TIME',\n",
        "       'NEXT_OPEN_HOUSE_END TIME','URL',\n",
        "       'SOURCE', 'MLS#', 'FAVORITE', 'INTERESTED', 'LATITUDE', 'LONGITUDE']"
      ],
      "execution_count": 30,
      "outputs": []
    },
    {
      "cell_type": "code",
      "metadata": {
        "id": "TiBJlGdwNtUE"
      },
      "source": [
        "#drop unnessary columns\n",
        "mls = all_counties_mls.drop(['STATE_OR_PROVINCE',\n",
        "       'LOCATION', 'DAYS_ON MARKET',\n",
        "       'HOA/MONTH', 'STATUS', 'NEXT_OPEN_HOUSE_START_TIME',\n",
        "       'NEXT_OPEN_HOUSE_END TIME','URL',\n",
        "       'SOURCE', 'FAVORITE', 'INTERESTED', 'LATITUDE', 'LONGITUDE'],axis = 1)"
      ],
      "execution_count": 31,
      "outputs": []
    },
    {
      "cell_type": "code",
      "metadata": {
        "id": "sSlk3KVDNye-"
      },
      "source": [
        "#mls.head(2)"
      ],
      "execution_count": 32,
      "outputs": []
    },
    {
      "cell_type": "markdown",
      "metadata": {
        "id": "1H4WRIt358-h"
      },
      "source": [
        "# Combine the Datasets"
      ]
    },
    {
      "cell_type": "markdown",
      "metadata": {
        "id": "BiwwZFbCN745"
      },
      "source": [
        "I combined the zipcode dataset and the mls dataset using the zipcode column."
      ]
    },
    {
      "cell_type": "code",
      "metadata": {
        "id": "YKqbTySk6C5S",
        "outputId": "a7bf6a82-013d-475f-8193-e05d07838918",
        "colab": {
          "base_uri": "https://localhost:8080/",
          "height": 199
        }
      },
      "source": [
        "mls_and_zipcode_data = pd.merge(mls,zipcode_data,on = \"Zipcode\", how = \"inner\")\n",
        "mls_and_zipcode_data.head(2)"
      ],
      "execution_count": 33,
      "outputs": [
        {
          "output_type": "execute_result",
          "data": {
            "text/html": [
              "<div>\n",
              "<style scoped>\n",
              "    .dataframe tbody tr th:only-of-type {\n",
              "        vertical-align: middle;\n",
              "    }\n",
              "\n",
              "    .dataframe tbody tr th {\n",
              "        vertical-align: top;\n",
              "    }\n",
              "\n",
              "    .dataframe thead th {\n",
              "        text-align: right;\n",
              "    }\n",
              "</style>\n",
              "<table border=\"1\" class=\"dataframe\">\n",
              "  <thead>\n",
              "    <tr style=\"text-align: right;\">\n",
              "      <th></th>\n",
              "      <th>Sale_Type</th>\n",
              "      <th>Sold_Date</th>\n",
              "      <th>Property_Type</th>\n",
              "      <th>Address</th>\n",
              "      <th>City_x</th>\n",
              "      <th>Zipcode</th>\n",
              "      <th>Price</th>\n",
              "      <th>Beds</th>\n",
              "      <th>Baths</th>\n",
              "      <th>Square_feet</th>\n",
              "      <th>Lot_Size</th>\n",
              "      <th>Year_Built</th>\n",
              "      <th>$/Square_feet</th>\n",
              "      <th>MLS#</th>\n",
              "      <th>City_y</th>\n",
              "      <th>County</th>\n",
              "      <th>Mean_Income</th>\n",
              "      <th>Property_Tax_Rate</th>\n",
              "    </tr>\n",
              "  </thead>\n",
              "  <tbody>\n",
              "    <tr>\n",
              "      <th>0</th>\n",
              "      <td>MLS Listing</td>\n",
              "      <td>NaN</td>\n",
              "      <td>Single Family Residential</td>\n",
              "      <td>520 E Highland Ave</td>\n",
              "      <td>Mount Vernon</td>\n",
              "      <td>98273.0</td>\n",
              "      <td>380000</td>\n",
              "      <td>3.0</td>\n",
              "      <td>2.25</td>\n",
              "      <td>1540.0</td>\n",
              "      <td>4792.0</td>\n",
              "      <td>1983.0</td>\n",
              "      <td>247.0</td>\n",
              "      <td>1666770.0</td>\n",
              "      <td>Mount Vernon</td>\n",
              "      <td>Skagit</td>\n",
              "      <td>70955</td>\n",
              "      <td>0.0101</td>\n",
              "    </tr>\n",
              "    <tr>\n",
              "      <th>1</th>\n",
              "      <td>MLS Listing</td>\n",
              "      <td>NaN</td>\n",
              "      <td>Single Family Residential</td>\n",
              "      <td>2222 E Fulton St</td>\n",
              "      <td>Mount Vernon</td>\n",
              "      <td>98273.0</td>\n",
              "      <td>300000</td>\n",
              "      <td>2.0</td>\n",
              "      <td>1.00</td>\n",
              "      <td>916.0</td>\n",
              "      <td>4972.0</td>\n",
              "      <td>1982.0</td>\n",
              "      <td>328.0</td>\n",
              "      <td>1670882.0</td>\n",
              "      <td>Mount Vernon</td>\n",
              "      <td>Skagit</td>\n",
              "      <td>70955</td>\n",
              "      <td>0.0101</td>\n",
              "    </tr>\n",
              "  </tbody>\n",
              "</table>\n",
              "</div>"
            ],
            "text/plain": [
              "     Sale_Type Sold_Date  ... Mean_Income Property_Tax_Rate\n",
              "0  MLS Listing       NaN  ...       70955            0.0101\n",
              "1  MLS Listing       NaN  ...       70955            0.0101\n",
              "\n",
              "[2 rows x 18 columns]"
            ]
          },
          "metadata": {
            "tags": []
          },
          "execution_count": 33
        }
      ]
    },
    {
      "cell_type": "code",
      "metadata": {
        "id": "CrCIu9yyOLwY"
      },
      "source": [
        "#I noticed that the merge created two City columns. \n",
        "#I decided to drop City_y and Rename City_x to City\n",
        "mls_and_zipcode_data = mls_and_zipcode_data.drop([\"City_y\"],axis=1)"
      ],
      "execution_count": 34,
      "outputs": []
    },
    {
      "cell_type": "code",
      "metadata": {
        "id": "993PrPrBOPCf",
        "outputId": "3aa6e3e8-693a-4866-915b-8536066a6e11",
        "colab": {
          "base_uri": "https://localhost:8080/",
          "height": 102
        }
      },
      "source": [
        "#To get the current column name list so I can rename City_x to City\n",
        "print(mls_and_zipcode_data.columns)"
      ],
      "execution_count": 35,
      "outputs": [
        {
          "output_type": "stream",
          "text": [
            "Index(['Sale_Type', 'Sold_Date', 'Property_Type', 'Address', 'City_x',\n",
            "       'Zipcode', 'Price', 'Beds', 'Baths', 'Square_feet', 'Lot_Size',\n",
            "       'Year_Built', '$/Square_feet', 'MLS#', 'County', 'Mean_Income',\n",
            "       'Property_Tax_Rate'],\n",
            "      dtype='object')\n"
          ],
          "name": "stdout"
        }
      ]
    },
    {
      "cell_type": "code",
      "metadata": {
        "id": "xiz40oBUORWC"
      },
      "source": [
        "#Re name column City_x to City\n",
        "mls_and_zipcode_data.columns = ['Sale_Type', 'Sold_Date', 'Property_Type', 'Address', 'City',\n",
        "       'Zipcode', 'Price', 'Beds', 'Baths', 'Square_Feet', 'Lot_Size',\n",
        "       'Year_Built', '$/Square_Feet', 'MLS#', 'County', 'Mean_Income',\n",
        "       'Property_Tax_Rate']\n",
        "#mls_and_zipcode_data.head()\n",
        "#print(mls_and_zipcode_data.dtypes)"
      ],
      "execution_count": 36,
      "outputs": []
    },
    {
      "cell_type": "code",
      "metadata": {
        "id": "cGTXS7PcOW-x",
        "outputId": "5db5c2aa-bd06-453e-b93b-89a3d532076e",
        "colab": {
          "base_uri": "https://localhost:8080/",
          "height": 216
        }
      },
      "source": [
        "#These columns are critical to my analysis so I must eliminate any data where these fields are null\n",
        "valid_data_only = mls_and_zipcode_data.dropna(subset=['Beds', 'Baths', 'Square_Feet', 'Lot_Size', 'Year_Built', '$/Square_Feet'])\n",
        "print(valid_data_only.shape)\n",
        "valid_data_only.head(2)"
      ],
      "execution_count": 37,
      "outputs": [
        {
          "output_type": "stream",
          "text": [
            "(2332, 17)\n"
          ],
          "name": "stdout"
        },
        {
          "output_type": "execute_result",
          "data": {
            "text/html": [
              "<div>\n",
              "<style scoped>\n",
              "    .dataframe tbody tr th:only-of-type {\n",
              "        vertical-align: middle;\n",
              "    }\n",
              "\n",
              "    .dataframe tbody tr th {\n",
              "        vertical-align: top;\n",
              "    }\n",
              "\n",
              "    .dataframe thead th {\n",
              "        text-align: right;\n",
              "    }\n",
              "</style>\n",
              "<table border=\"1\" class=\"dataframe\">\n",
              "  <thead>\n",
              "    <tr style=\"text-align: right;\">\n",
              "      <th></th>\n",
              "      <th>Sale_Type</th>\n",
              "      <th>Sold_Date</th>\n",
              "      <th>Property_Type</th>\n",
              "      <th>Address</th>\n",
              "      <th>City</th>\n",
              "      <th>Zipcode</th>\n",
              "      <th>Price</th>\n",
              "      <th>Beds</th>\n",
              "      <th>Baths</th>\n",
              "      <th>Square_Feet</th>\n",
              "      <th>Lot_Size</th>\n",
              "      <th>Year_Built</th>\n",
              "      <th>$/Square_Feet</th>\n",
              "      <th>MLS#</th>\n",
              "      <th>County</th>\n",
              "      <th>Mean_Income</th>\n",
              "      <th>Property_Tax_Rate</th>\n",
              "    </tr>\n",
              "  </thead>\n",
              "  <tbody>\n",
              "    <tr>\n",
              "      <th>0</th>\n",
              "      <td>MLS Listing</td>\n",
              "      <td>NaN</td>\n",
              "      <td>Single Family Residential</td>\n",
              "      <td>520 E Highland Ave</td>\n",
              "      <td>Mount Vernon</td>\n",
              "      <td>98273.0</td>\n",
              "      <td>380000</td>\n",
              "      <td>3.0</td>\n",
              "      <td>2.25</td>\n",
              "      <td>1540.0</td>\n",
              "      <td>4792.0</td>\n",
              "      <td>1983.0</td>\n",
              "      <td>247.0</td>\n",
              "      <td>1666770.0</td>\n",
              "      <td>Skagit</td>\n",
              "      <td>70955</td>\n",
              "      <td>0.0101</td>\n",
              "    </tr>\n",
              "    <tr>\n",
              "      <th>1</th>\n",
              "      <td>MLS Listing</td>\n",
              "      <td>NaN</td>\n",
              "      <td>Single Family Residential</td>\n",
              "      <td>2222 E Fulton St</td>\n",
              "      <td>Mount Vernon</td>\n",
              "      <td>98273.0</td>\n",
              "      <td>300000</td>\n",
              "      <td>2.0</td>\n",
              "      <td>1.00</td>\n",
              "      <td>916.0</td>\n",
              "      <td>4972.0</td>\n",
              "      <td>1982.0</td>\n",
              "      <td>328.0</td>\n",
              "      <td>1670882.0</td>\n",
              "      <td>Skagit</td>\n",
              "      <td>70955</td>\n",
              "      <td>0.0101</td>\n",
              "    </tr>\n",
              "  </tbody>\n",
              "</table>\n",
              "</div>"
            ],
            "text/plain": [
              "     Sale_Type Sold_Date  ... Mean_Income Property_Tax_Rate\n",
              "0  MLS Listing       NaN  ...       70955            0.0101\n",
              "1  MLS Listing       NaN  ...       70955            0.0101\n",
              "\n",
              "[2 rows x 17 columns]"
            ]
          },
          "metadata": {
            "tags": []
          },
          "execution_count": 37
        }
      ]
    },
    {
      "cell_type": "markdown",
      "metadata": {
        "id": "3wzHEVJLOah0"
      },
      "source": [
        "I want to reorganize the column order to make it more readable"
      ]
    },
    {
      "cell_type": "code",
      "metadata": {
        "id": "4QE_ORf_OZzV",
        "outputId": "a2aab7da-1712-4df6-a6c7-1a529260bdae",
        "colab": {
          "base_uri": "https://localhost:8080/",
          "height": 199
        }
      },
      "source": [
        "reordered_data = valid_data_only[\n",
        "       ['Sale_Type','Sold_Date','MLS#','County','City','Address','Zipcode','Lot_Size','Square_Feet','$/Square_Feet','Beds','Baths','Year_Built','Price',\n",
        "       'Property_Tax_Rate','Mean_Income']]\n",
        "reordered_data.head(2)"
      ],
      "execution_count": 38,
      "outputs": [
        {
          "output_type": "execute_result",
          "data": {
            "text/html": [
              "<div>\n",
              "<style scoped>\n",
              "    .dataframe tbody tr th:only-of-type {\n",
              "        vertical-align: middle;\n",
              "    }\n",
              "\n",
              "    .dataframe tbody tr th {\n",
              "        vertical-align: top;\n",
              "    }\n",
              "\n",
              "    .dataframe thead th {\n",
              "        text-align: right;\n",
              "    }\n",
              "</style>\n",
              "<table border=\"1\" class=\"dataframe\">\n",
              "  <thead>\n",
              "    <tr style=\"text-align: right;\">\n",
              "      <th></th>\n",
              "      <th>Sale_Type</th>\n",
              "      <th>Sold_Date</th>\n",
              "      <th>MLS#</th>\n",
              "      <th>County</th>\n",
              "      <th>City</th>\n",
              "      <th>Address</th>\n",
              "      <th>Zipcode</th>\n",
              "      <th>Lot_Size</th>\n",
              "      <th>Square_Feet</th>\n",
              "      <th>$/Square_Feet</th>\n",
              "      <th>Beds</th>\n",
              "      <th>Baths</th>\n",
              "      <th>Year_Built</th>\n",
              "      <th>Price</th>\n",
              "      <th>Property_Tax_Rate</th>\n",
              "      <th>Mean_Income</th>\n",
              "    </tr>\n",
              "  </thead>\n",
              "  <tbody>\n",
              "    <tr>\n",
              "      <th>0</th>\n",
              "      <td>MLS Listing</td>\n",
              "      <td>NaN</td>\n",
              "      <td>1666770.0</td>\n",
              "      <td>Skagit</td>\n",
              "      <td>Mount Vernon</td>\n",
              "      <td>520 E Highland Ave</td>\n",
              "      <td>98273.0</td>\n",
              "      <td>4792.0</td>\n",
              "      <td>1540.0</td>\n",
              "      <td>247.0</td>\n",
              "      <td>3.0</td>\n",
              "      <td>2.25</td>\n",
              "      <td>1983.0</td>\n",
              "      <td>380000</td>\n",
              "      <td>0.0101</td>\n",
              "      <td>70955</td>\n",
              "    </tr>\n",
              "    <tr>\n",
              "      <th>1</th>\n",
              "      <td>MLS Listing</td>\n",
              "      <td>NaN</td>\n",
              "      <td>1670882.0</td>\n",
              "      <td>Skagit</td>\n",
              "      <td>Mount Vernon</td>\n",
              "      <td>2222 E Fulton St</td>\n",
              "      <td>98273.0</td>\n",
              "      <td>4972.0</td>\n",
              "      <td>916.0</td>\n",
              "      <td>328.0</td>\n",
              "      <td>2.0</td>\n",
              "      <td>1.00</td>\n",
              "      <td>1982.0</td>\n",
              "      <td>300000</td>\n",
              "      <td>0.0101</td>\n",
              "      <td>70955</td>\n",
              "    </tr>\n",
              "  </tbody>\n",
              "</table>\n",
              "</div>"
            ],
            "text/plain": [
              "     Sale_Type Sold_Date       MLS#  ...   Price Property_Tax_Rate Mean_Income\n",
              "0  MLS Listing       NaN  1666770.0  ...  380000            0.0101       70955\n",
              "1  MLS Listing       NaN  1670882.0  ...  300000            0.0101       70955\n",
              "\n",
              "[2 rows x 16 columns]"
            ]
          },
          "metadata": {
            "tags": []
          },
          "execution_count": 38
        }
      ]
    },
    {
      "cell_type": "code",
      "metadata": {
        "id": "BRTGF2A1O8fI",
        "outputId": "83a4470e-112c-45b5-ed6f-e5fc533a8343",
        "colab": {
          "base_uri": "https://localhost:8080/",
          "height": 119
        }
      },
      "source": [
        "#There are entries in the Beds column that show as 0. These need to be removed. \n",
        "for col in reordered_data[['Beds', 'Baths']]:\n",
        "  print(col)\n",
        "  print(reordered_data[col].unique())"
      ],
      "execution_count": 39,
      "outputs": [
        {
          "output_type": "stream",
          "text": [
            "Beds\n",
            "[ 3.  2.  4.  1.  5.  6.  0.  9.  8.  7. 11. 14. 12.]\n",
            "Baths\n",
            "[ 2.25  1.    2.    2.5   1.75  1.5   3.    0.75  3.25  3.5   4.    3.75\n",
            "  1.25  2.75  5.5   5.    4.25  5.25  9.    4.5   6.25  4.75 10.5   0.5\n",
            "  5.75  6.    6.75  7.5   7.  ]\n"
          ],
          "name": "stdout"
        }
      ]
    },
    {
      "cell_type": "code",
      "metadata": {
        "id": "ieHsrFNyPCdO",
        "outputId": "8961402c-7ac4-4d75-d0dc-69e99effcc11",
        "colab": {
          "base_uri": "https://localhost:8080/",
          "height": 34
        }
      },
      "source": [
        "#save a version of the dataframe where the beds column does not equal 0.\n",
        "reordered_data = reordered_data[reordered_data.Beds != 0.]\n",
        "\n",
        "#Check that there are no more 0. entries in the Beds column\n",
        "reordered_data[\"Beds\"].unique()"
      ],
      "execution_count": 40,
      "outputs": [
        {
          "output_type": "execute_result",
          "data": {
            "text/plain": [
              "array([ 3.,  2.,  4.,  1.,  5.,  6.,  9.,  8.,  7., 11., 14., 12.])"
            ]
          },
          "metadata": {
            "tags": []
          },
          "execution_count": 40
        }
      ]
    },
    {
      "cell_type": "code",
      "metadata": {
        "id": "xnVAhi2RPK72",
        "outputId": "6873e324-dbfb-4823-d31b-f18753ce2bf6",
        "colab": {
          "base_uri": "https://localhost:8080/",
          "height": 306
        }
      },
      "source": [
        "display(reordered_data.dtypes)"
      ],
      "execution_count": 41,
      "outputs": [
        {
          "output_type": "display_data",
          "data": {
            "text/plain": [
              "Sale_Type             object\n",
              "Sold_Date             object\n",
              "MLS#                 float64\n",
              "County                object\n",
              "City                  object\n",
              "Address               object\n",
              "Zipcode              float64\n",
              "Lot_Size             float64\n",
              "Square_Feet          float64\n",
              "$/Square_Feet        float64\n",
              "Beds                 float64\n",
              "Baths                float64\n",
              "Year_Built           float64\n",
              "Price                  int64\n",
              "Property_Tax_Rate    float64\n",
              "Mean_Income            int64\n",
              "dtype: object"
            ]
          },
          "metadata": {
            "tags": []
          }
        }
      ]
    },
    {
      "cell_type": "code",
      "metadata": {
        "id": "Ch4cLzNiPRGK"
      },
      "source": [
        "#set Lot_Size, Square_Feet, $/Square_Feet, Beds, Year_Built columns to int\n",
        "reordered_data = reordered_data.astype({\"MLS#\":'int',\"Zipcode\":'int',\"Lot_Size\":'int',\"Square_Feet\":'int',\"$/Square_Feet\":'int',\"Beds\":'int',\"Year_Built\":'int'})"
      ],
      "execution_count": 42,
      "outputs": []
    },
    {
      "cell_type": "code",
      "metadata": {
        "id": "gve0b4usPUuA",
        "outputId": "61213deb-7a54-4ada-a299-62e8fdbc1579",
        "colab": {
          "base_uri": "https://localhost:8080/",
          "height": 306
        }
      },
      "source": [
        "#The only floats should be in Baths and Property_Tax_Rate columns\n",
        "print(reordered_data.dtypes)"
      ],
      "execution_count": 43,
      "outputs": [
        {
          "output_type": "stream",
          "text": [
            "Sale_Type             object\n",
            "Sold_Date             object\n",
            "MLS#                   int64\n",
            "County                object\n",
            "City                  object\n",
            "Address               object\n",
            "Zipcode                int64\n",
            "Lot_Size               int64\n",
            "Square_Feet            int64\n",
            "$/Square_Feet          int64\n",
            "Beds                   int64\n",
            "Baths                float64\n",
            "Year_Built             int64\n",
            "Price                  int64\n",
            "Property_Tax_Rate    float64\n",
            "Mean_Income            int64\n",
            "dtype: object\n"
          ],
          "name": "stdout"
        }
      ]
    },
    {
      "cell_type": "code",
      "metadata": {
        "id": "M6ywddqlPez9",
        "outputId": "2ef58a1e-f216-4069-b2d0-e74a0b46323b",
        "colab": {
          "base_uri": "https://localhost:8080/",
          "height": 199
        }
      },
      "source": [
        "#set Year_Built to date\n",
        "reordered_data[\"Year_Built\"] = pd.to_datetime(reordered_data[\"Year_Built\"], infer_datetime_format=True)\n",
        "\n",
        "reordered_data[\"Year_Built\"] = reordered_data[\"Year_Built\"].dt.year \n",
        "reordered_data.head(2)"
      ],
      "execution_count": 44,
      "outputs": [
        {
          "output_type": "execute_result",
          "data": {
            "text/html": [
              "<div>\n",
              "<style scoped>\n",
              "    .dataframe tbody tr th:only-of-type {\n",
              "        vertical-align: middle;\n",
              "    }\n",
              "\n",
              "    .dataframe tbody tr th {\n",
              "        vertical-align: top;\n",
              "    }\n",
              "\n",
              "    .dataframe thead th {\n",
              "        text-align: right;\n",
              "    }\n",
              "</style>\n",
              "<table border=\"1\" class=\"dataframe\">\n",
              "  <thead>\n",
              "    <tr style=\"text-align: right;\">\n",
              "      <th></th>\n",
              "      <th>Sale_Type</th>\n",
              "      <th>Sold_Date</th>\n",
              "      <th>MLS#</th>\n",
              "      <th>County</th>\n",
              "      <th>City</th>\n",
              "      <th>Address</th>\n",
              "      <th>Zipcode</th>\n",
              "      <th>Lot_Size</th>\n",
              "      <th>Square_Feet</th>\n",
              "      <th>$/Square_Feet</th>\n",
              "      <th>Beds</th>\n",
              "      <th>Baths</th>\n",
              "      <th>Year_Built</th>\n",
              "      <th>Price</th>\n",
              "      <th>Property_Tax_Rate</th>\n",
              "      <th>Mean_Income</th>\n",
              "    </tr>\n",
              "  </thead>\n",
              "  <tbody>\n",
              "    <tr>\n",
              "      <th>0</th>\n",
              "      <td>MLS Listing</td>\n",
              "      <td>NaN</td>\n",
              "      <td>1666770</td>\n",
              "      <td>Skagit</td>\n",
              "      <td>Mount Vernon</td>\n",
              "      <td>520 E Highland Ave</td>\n",
              "      <td>98273</td>\n",
              "      <td>4792</td>\n",
              "      <td>1540</td>\n",
              "      <td>247</td>\n",
              "      <td>3</td>\n",
              "      <td>2.25</td>\n",
              "      <td>1970</td>\n",
              "      <td>380000</td>\n",
              "      <td>0.0101</td>\n",
              "      <td>70955</td>\n",
              "    </tr>\n",
              "    <tr>\n",
              "      <th>1</th>\n",
              "      <td>MLS Listing</td>\n",
              "      <td>NaN</td>\n",
              "      <td>1670882</td>\n",
              "      <td>Skagit</td>\n",
              "      <td>Mount Vernon</td>\n",
              "      <td>2222 E Fulton St</td>\n",
              "      <td>98273</td>\n",
              "      <td>4972</td>\n",
              "      <td>916</td>\n",
              "      <td>328</td>\n",
              "      <td>2</td>\n",
              "      <td>1.00</td>\n",
              "      <td>1970</td>\n",
              "      <td>300000</td>\n",
              "      <td>0.0101</td>\n",
              "      <td>70955</td>\n",
              "    </tr>\n",
              "  </tbody>\n",
              "</table>\n",
              "</div>"
            ],
            "text/plain": [
              "     Sale_Type Sold_Date     MLS#  ...   Price Property_Tax_Rate Mean_Income\n",
              "0  MLS Listing       NaN  1666770  ...  380000            0.0101       70955\n",
              "1  MLS Listing       NaN  1670882  ...  300000            0.0101       70955\n",
              "\n",
              "[2 rows x 16 columns]"
            ]
          },
          "metadata": {
            "tags": []
          },
          "execution_count": 44
        }
      ]
    },
    {
      "cell_type": "code",
      "metadata": {
        "id": "foNLzul-88Nu",
        "outputId": "7e5c3911-23e3-4d8f-cf69-7e5ca02ea701",
        "colab": {
          "base_uri": "https://localhost:8080/",
          "height": 199
        }
      },
      "source": [
        "#set Sold_Date to date\n",
        "reordered_data[\"Sold_Date\"] = pd.to_datetime(reordered_data[\"Sold_Date\"], infer_datetime_format=True)\n",
        "\n",
        "reordered_data[\"Sold_Date\"] = reordered_data[\"Sold_Date\"].dt.year \n",
        "reordered_data.head(2)"
      ],
      "execution_count": 45,
      "outputs": [
        {
          "output_type": "execute_result",
          "data": {
            "text/html": [
              "<div>\n",
              "<style scoped>\n",
              "    .dataframe tbody tr th:only-of-type {\n",
              "        vertical-align: middle;\n",
              "    }\n",
              "\n",
              "    .dataframe tbody tr th {\n",
              "        vertical-align: top;\n",
              "    }\n",
              "\n",
              "    .dataframe thead th {\n",
              "        text-align: right;\n",
              "    }\n",
              "</style>\n",
              "<table border=\"1\" class=\"dataframe\">\n",
              "  <thead>\n",
              "    <tr style=\"text-align: right;\">\n",
              "      <th></th>\n",
              "      <th>Sale_Type</th>\n",
              "      <th>Sold_Date</th>\n",
              "      <th>MLS#</th>\n",
              "      <th>County</th>\n",
              "      <th>City</th>\n",
              "      <th>Address</th>\n",
              "      <th>Zipcode</th>\n",
              "      <th>Lot_Size</th>\n",
              "      <th>Square_Feet</th>\n",
              "      <th>$/Square_Feet</th>\n",
              "      <th>Beds</th>\n",
              "      <th>Baths</th>\n",
              "      <th>Year_Built</th>\n",
              "      <th>Price</th>\n",
              "      <th>Property_Tax_Rate</th>\n",
              "      <th>Mean_Income</th>\n",
              "    </tr>\n",
              "  </thead>\n",
              "  <tbody>\n",
              "    <tr>\n",
              "      <th>0</th>\n",
              "      <td>MLS Listing</td>\n",
              "      <td>NaN</td>\n",
              "      <td>1666770</td>\n",
              "      <td>Skagit</td>\n",
              "      <td>Mount Vernon</td>\n",
              "      <td>520 E Highland Ave</td>\n",
              "      <td>98273</td>\n",
              "      <td>4792</td>\n",
              "      <td>1540</td>\n",
              "      <td>247</td>\n",
              "      <td>3</td>\n",
              "      <td>2.25</td>\n",
              "      <td>1970</td>\n",
              "      <td>380000</td>\n",
              "      <td>0.0101</td>\n",
              "      <td>70955</td>\n",
              "    </tr>\n",
              "    <tr>\n",
              "      <th>1</th>\n",
              "      <td>MLS Listing</td>\n",
              "      <td>NaN</td>\n",
              "      <td>1670882</td>\n",
              "      <td>Skagit</td>\n",
              "      <td>Mount Vernon</td>\n",
              "      <td>2222 E Fulton St</td>\n",
              "      <td>98273</td>\n",
              "      <td>4972</td>\n",
              "      <td>916</td>\n",
              "      <td>328</td>\n",
              "      <td>2</td>\n",
              "      <td>1.00</td>\n",
              "      <td>1970</td>\n",
              "      <td>300000</td>\n",
              "      <td>0.0101</td>\n",
              "      <td>70955</td>\n",
              "    </tr>\n",
              "  </tbody>\n",
              "</table>\n",
              "</div>"
            ],
            "text/plain": [
              "     Sale_Type  Sold_Date     MLS#  ...   Price Property_Tax_Rate Mean_Income\n",
              "0  MLS Listing        NaN  1666770  ...  380000            0.0101       70955\n",
              "1  MLS Listing        NaN  1670882  ...  300000            0.0101       70955\n",
              "\n",
              "[2 rows x 16 columns]"
            ]
          },
          "metadata": {
            "tags": []
          },
          "execution_count": 45
        }
      ]
    },
    {
      "cell_type": "markdown",
      "metadata": {
        "id": "R-UCpiA_6GiA"
      },
      "source": [
        "# Create Features"
      ]
    },
    {
      "cell_type": "code",
      "metadata": {
        "id": "muwPYwA36LNm"
      },
      "source": [
        "#Save a copy in case I need to back-track\n",
        "feature_creation = reordered_data"
      ],
      "execution_count": 46,
      "outputs": []
    },
    {
      "cell_type": "code",
      "metadata": {
        "id": "aYMbWawtPsHk"
      },
      "source": [
        "#Years from Year_Built\n",
        "feature_creation[\"Age\"] = 2020-feature_creation[\"Year_Built\"]"
      ],
      "execution_count": 47,
      "outputs": []
    },
    {
      "cell_type": "code",
      "metadata": {
        "id": "HycjKUQkPyTr"
      },
      "source": [
        "#Percentage for home maintenance savings\n",
        "percentage_conditions = [\n",
        "(feature_creation[\"Age\"]<=8),\n",
        "(feature_creation[\"Age\"]>8)&(feature_creation[\"Age\"]<=17),\n",
        "(feature_creation[\"Age\"]>17)&(feature_creation[\"Age\"]<=26),\n",
        "(feature_creation[\"Age\"]>26)\n",
        "]\n",
        "values = [.01,.02,.03,.04]\n",
        "\n",
        "feature_creation[\"%For_Home_Maintenance\"] = np.select(percentage_conditions,values)"
      ],
      "execution_count": 48,
      "outputs": []
    },
    {
      "cell_type": "code",
      "metadata": {
        "id": "IVXhebO7P0yH"
      },
      "source": [
        "#Financed Amount (80%)\n",
        "feature_creation[\"Financed$\"] = (.8*feature_creation[\"Price\"])"
      ],
      "execution_count": 49,
      "outputs": []
    },
    {
      "cell_type": "code",
      "metadata": {
        "id": "niQPl24uP4QB"
      },
      "source": [
        "feature_creation[\"Financed$\"] = feature_creation[\"Financed$\"].astype(int)"
      ],
      "execution_count": 50,
      "outputs": []
    },
    {
      "cell_type": "markdown",
      "metadata": {
        "id": "LxzATEUJP97C"
      },
      "source": [
        "## To calculate the mortgage payment I need to make the follwoing assumptions:\n",
        "\n",
        "# Consumer data \n",
        "- Credit score above 680\n",
        "- 30-year fixed rate mortgage at 3% interest\n",
        "- Down payment of 20%\n",
        "\n",
        "# Cost to own \n",
        "- Maintenance cost 1-4% of total home value annually\n",
        "- Homeowner’s insurance 1% of total home value annually\n",
        "- PMI insurance is avoided with a 20% down payment\n",
        "- Property Tax is calculated based on location/zip code\n",
        "\n",
        "# Mortgage Math\n",
        "- https://www.mtgprofessor.com/formulas.htm\n",
        "\n",
        "The following formula is used to calculate the fixed monthly payment (P) required to fully amortize a loan of L dollars over a term of n months at a monthly interest rate of c. \n",
        "\n",
        "If the quoted rate is 6%, for example, c is .06/12 or .005.\n",
        "\n",
        "P = L[c(1 + c)**n]/[(1 + c)**n - 1]\n",
        "\n",
        "Payment = Financed $[(interest/12)(1+(interest/12))^number of months]/[(1+(interest/12))^number of months-1]\n",
        "\n",
        ".004216 =[.0025(1 + .0025)**360]/[(1 + .0025)**360 - 1]"
      ]
    },
    {
      "cell_type": "code",
      "metadata": {
        "id": "R67nhU8XQPTB"
      },
      "source": [
        "#Mortgage Payment\n",
        "feature_creation[\"Mortgage\"] = round((.004216*feature_creation[\"Financed$\"]),2)"
      ],
      "execution_count": 51,
      "outputs": []
    },
    {
      "cell_type": "code",
      "metadata": {
        "id": "q6hpWgVsQVbq"
      },
      "source": [
        "#Total % Cost to own\n",
        "feature_creation[\"Total%_Cost_To_Own\"] = (feature_creation[\"Property_Tax_Rate\"] + feature_creation[\"%For_Home_Maintenance\"] + .01)"
      ],
      "execution_count": 52,
      "outputs": []
    },
    {
      "cell_type": "code",
      "metadata": {
        "id": "Au3OhKOdQcxg"
      },
      "source": [
        "#Total $ Cost to own\n",
        "feature_creation[\"Total$_Cost_To_Own\"] = round(((feature_creation[\"Price\"]*feature_creation[\"Total%_Cost_To_Own\"])/12)+feature_creation[\"Mortgage\"],2)"
      ],
      "execution_count": 53,
      "outputs": []
    },
    {
      "cell_type": "markdown",
      "metadata": {
        "id": "txZWZuRpPLNX"
      },
      "source": [
        "As a general rule banks will usually decline a loan application if the cost to own the home is not below 30% of the applicant's income."
      ]
    },
    {
      "cell_type": "code",
      "metadata": {
        "id": "celgtFXQQfGq"
      },
      "source": [
        "#Income required to Afford\n",
        "feature_creation[\"Income_Req_To_Afford\"] = round((feature_creation[\"Total$_Cost_To_Own\"]*12)*(100/30),2)"
      ],
      "execution_count": 54,
      "outputs": []
    },
    {
      "cell_type": "code",
      "metadata": {
        "id": "Z9xyG-f4Qibd"
      },
      "source": [
        "#Affordable\n",
        "feature_creation[\"Affordable\"] = np.where(feature_creation[\"Mean_Income\"]>=feature_creation[\"Income_Req_To_Afford\"],True,False)"
      ],
      "execution_count": 55,
      "outputs": []
    },
    {
      "cell_type": "code",
      "metadata": {
        "id": "o-xb2y3HMeFb"
      },
      "source": [
        "#Cost to own % of mean income\n",
        "feature_creation[\"Cost_to_Own%of_Mean_Income\"] = (feature_creation[\"Total$_Cost_To_Own\"])/(feature_creation[\"Mean_Income\"]/12)"
      ],
      "execution_count": 56,
      "outputs": []
    },
    {
      "cell_type": "markdown",
      "metadata": {
        "id": "ePeL3RWHPdWj"
      },
      "source": [
        "To illustrate how close some of these properties are to being affordable I have added the column %Above_Below_Affordable"
      ]
    },
    {
      "cell_type": "code",
      "metadata": {
        "id": "b8Nhc9mEOLdX"
      },
      "source": [
        "#% Above Below Affordable\n",
        "feature_creation[\"%Above_Below_Affordable\"] = round((feature_creation[\"Cost_to_Own%of_Mean_Income\"] - .30),2)"
      ],
      "execution_count": 57,
      "outputs": []
    },
    {
      "cell_type": "code",
      "metadata": {
        "id": "y979B_EzQkMf",
        "outputId": "6749eccc-b3e7-4721-9d64-1cea70feddc1",
        "colab": {
          "base_uri": "https://localhost:8080/",
          "height": 51
        }
      },
      "source": [
        "#check for number of categorical vs numeric columns\n",
        "cat_cols = feature_creation.columns[feature_creation.dtypes=='object']\n",
        "num_cols = feature_creation.columns[feature_creation.dtypes!='object']\n",
        "\n",
        "print(f'{len(cat_cols)} categorical columns')\n",
        "print(f'{len(num_cols)} numerical columns')"
      ],
      "execution_count": 58,
      "outputs": [
        {
          "output_type": "stream",
          "text": [
            "4 categorical columns\n",
            "22 numerical columns\n"
          ],
          "name": "stdout"
        }
      ]
    },
    {
      "cell_type": "code",
      "metadata": {
        "id": "1TjbFGEWTx4C"
      },
      "source": [
        "#I am going to set County and City to categorical values so I want to save a copy with the string values in a new column\n",
        "feature_creation[\"County_Name\"] = feature_creation[\"County\"]\n",
        "feature_creation[\"City_Name\"] = feature_creation[\"City\"]"
      ],
      "execution_count": 59,
      "outputs": []
    },
    {
      "cell_type": "code",
      "metadata": {
        "id": "i9fxdlhmcPAW"
      },
      "source": [
        "#set County and City to category\n",
        "feature_creation= feature_creation.astype({\"County\":'category',\"City\":'category'})"
      ],
      "execution_count": 60,
      "outputs": []
    },
    {
      "cell_type": "code",
      "metadata": {
        "id": "reMMYEpKa0CN",
        "outputId": "a7833e55-7875-44d3-b47a-391d54b72eb7",
        "colab": {
          "base_uri": "https://localhost:8080/",
          "height": 216
        }
      },
      "source": [
        "#set category columns to numerical values \n",
        "for col in feature_creation[[\"County\",\"City\"]]:\n",
        "  feature_creation[col] = feature_creation[col].cat.codes\n",
        "\n",
        "print(feature_creation.shape)\n",
        "feature_creation.head(2)"
      ],
      "execution_count": 61,
      "outputs": [
        {
          "output_type": "stream",
          "text": [
            "(2327, 28)\n"
          ],
          "name": "stdout"
        },
        {
          "output_type": "execute_result",
          "data": {
            "text/html": [
              "<div>\n",
              "<style scoped>\n",
              "    .dataframe tbody tr th:only-of-type {\n",
              "        vertical-align: middle;\n",
              "    }\n",
              "\n",
              "    .dataframe tbody tr th {\n",
              "        vertical-align: top;\n",
              "    }\n",
              "\n",
              "    .dataframe thead th {\n",
              "        text-align: right;\n",
              "    }\n",
              "</style>\n",
              "<table border=\"1\" class=\"dataframe\">\n",
              "  <thead>\n",
              "    <tr style=\"text-align: right;\">\n",
              "      <th></th>\n",
              "      <th>Sale_Type</th>\n",
              "      <th>Sold_Date</th>\n",
              "      <th>MLS#</th>\n",
              "      <th>County</th>\n",
              "      <th>City</th>\n",
              "      <th>Address</th>\n",
              "      <th>Zipcode</th>\n",
              "      <th>Lot_Size</th>\n",
              "      <th>Square_Feet</th>\n",
              "      <th>$/Square_Feet</th>\n",
              "      <th>Beds</th>\n",
              "      <th>Baths</th>\n",
              "      <th>Year_Built</th>\n",
              "      <th>Price</th>\n",
              "      <th>Property_Tax_Rate</th>\n",
              "      <th>Mean_Income</th>\n",
              "      <th>Age</th>\n",
              "      <th>%For_Home_Maintenance</th>\n",
              "      <th>Financed$</th>\n",
              "      <th>Mortgage</th>\n",
              "      <th>Total%_Cost_To_Own</th>\n",
              "      <th>Total$_Cost_To_Own</th>\n",
              "      <th>Income_Req_To_Afford</th>\n",
              "      <th>Affordable</th>\n",
              "      <th>Cost_to_Own%of_Mean_Income</th>\n",
              "      <th>%Above_Below_Affordable</th>\n",
              "      <th>County_Name</th>\n",
              "      <th>City_Name</th>\n",
              "    </tr>\n",
              "  </thead>\n",
              "  <tbody>\n",
              "    <tr>\n",
              "      <th>0</th>\n",
              "      <td>MLS Listing</td>\n",
              "      <td>NaN</td>\n",
              "      <td>1666770</td>\n",
              "      <td>4</td>\n",
              "      <td>80</td>\n",
              "      <td>520 E Highland Ave</td>\n",
              "      <td>98273</td>\n",
              "      <td>4792</td>\n",
              "      <td>1540</td>\n",
              "      <td>247</td>\n",
              "      <td>3</td>\n",
              "      <td>2.25</td>\n",
              "      <td>1970</td>\n",
              "      <td>380000</td>\n",
              "      <td>0.0101</td>\n",
              "      <td>70955</td>\n",
              "      <td>50</td>\n",
              "      <td>0.04</td>\n",
              "      <td>304000</td>\n",
              "      <td>1281.66</td>\n",
              "      <td>0.0601</td>\n",
              "      <td>3184.83</td>\n",
              "      <td>127393.2</td>\n",
              "      <td>False</td>\n",
              "      <td>0.538623</td>\n",
              "      <td>0.24</td>\n",
              "      <td>Skagit</td>\n",
              "      <td>Mount Vernon</td>\n",
              "    </tr>\n",
              "    <tr>\n",
              "      <th>1</th>\n",
              "      <td>MLS Listing</td>\n",
              "      <td>NaN</td>\n",
              "      <td>1670882</td>\n",
              "      <td>4</td>\n",
              "      <td>80</td>\n",
              "      <td>2222 E Fulton St</td>\n",
              "      <td>98273</td>\n",
              "      <td>4972</td>\n",
              "      <td>916</td>\n",
              "      <td>328</td>\n",
              "      <td>2</td>\n",
              "      <td>1.00</td>\n",
              "      <td>1970</td>\n",
              "      <td>300000</td>\n",
              "      <td>0.0101</td>\n",
              "      <td>70955</td>\n",
              "      <td>50</td>\n",
              "      <td>0.04</td>\n",
              "      <td>240000</td>\n",
              "      <td>1011.84</td>\n",
              "      <td>0.0601</td>\n",
              "      <td>2514.34</td>\n",
              "      <td>100573.6</td>\n",
              "      <td>False</td>\n",
              "      <td>0.425228</td>\n",
              "      <td>0.13</td>\n",
              "      <td>Skagit</td>\n",
              "      <td>Mount Vernon</td>\n",
              "    </tr>\n",
              "  </tbody>\n",
              "</table>\n",
              "</div>"
            ],
            "text/plain": [
              "     Sale_Type  Sold_Date  ...  County_Name     City_Name\n",
              "0  MLS Listing        NaN  ...       Skagit  Mount Vernon\n",
              "1  MLS Listing        NaN  ...       Skagit  Mount Vernon\n",
              "\n",
              "[2 rows x 28 columns]"
            ]
          },
          "metadata": {
            "tags": []
          },
          "execution_count": 61
        }
      ]
    },
    {
      "cell_type": "code",
      "metadata": {
        "id": "GKOZKPXlhpmY"
      },
      "source": [
        "#calculate the ratio of bedrooms to bathrooms\n",
        "feature_creation[\"Ratio_BedBath\"] = feature_creation[\"Beds\"]//feature_creation[\"Baths\"]"
      ],
      "execution_count": 62,
      "outputs": []
    },
    {
      "cell_type": "code",
      "metadata": {
        "id": "vuSeWfl4ZNHi"
      },
      "source": [
        "#Create subset to only inclued King County \n",
        "kingcounty_condition = feature_creation[\"County_Name\"]==\"King\"\n",
        "seattle_subset = feature_creation[kingcounty_condition]"
      ],
      "execution_count": 63,
      "outputs": []
    },
    {
      "cell_type": "code",
      "metadata": {
        "id": "vYz5VWp0aG2g",
        "outputId": "2296f726-83eb-4125-cbcb-43ca1945aa20",
        "colab": {
          "base_uri": "https://localhost:8080/",
          "height": 34
        }
      },
      "source": [
        "#Find the Mean income for the subset\n",
        "seattle_subset[\"Mean_Income\"].unique()"
      ],
      "execution_count": 64,
      "outputs": [
        {
          "output_type": "execute_result",
          "data": {
            "text/plain": [
              "array([94822])"
            ]
          },
          "metadata": {
            "tags": []
          },
          "execution_count": 64
        }
      ]
    },
    {
      "cell_type": "code",
      "metadata": {
        "id": "Bggq2VfLS0TQ"
      },
      "source": [
        "#set column to mean income for Seattle(King County)\n",
        "feature_creation[\"Seattle_Mean_Income\"] = 94822"
      ],
      "execution_count": 65,
      "outputs": []
    },
    {
      "cell_type": "code",
      "metadata": {
        "id": "OlF6lIVgiubE"
      },
      "source": [
        "#Seattle_Cost_to_Own%of_Mean_Income\n",
        "feature_creation[\"Seattle_Cost_to_Own%of_Mean_Income\"] =(feature_creation[\"Total$_Cost_To_Own\"])/(feature_creation[\"Seattle_Mean_Income\"]/12)"
      ],
      "execution_count": 66,
      "outputs": []
    },
    {
      "cell_type": "code",
      "metadata": {
        "id": "fpTzB_SGhcIl"
      },
      "source": [
        "#% Above/Below Affordable for Seattle Mean Income\n",
        "feature_creation[\"Seattle%AboveBelow_Affordable\"] = round((feature_creation[\"Seattle_Cost_to_Own%of_Mean_Income\"] - .30),2)"
      ],
      "execution_count": 67,
      "outputs": []
    },
    {
      "cell_type": "code",
      "metadata": {
        "id": "b0o-0Uy2ghM7"
      },
      "source": [
        "#Affordable for Seattle Mean Income\n",
        "feature_creation[\"Affordable_Seattle_Mean_Income\"] = np.where(feature_creation[\"Seattle_Mean_Income\"]>=feature_creation[\"Income_Req_To_Afford\"],True,False)"
      ],
      "execution_count": 68,
      "outputs": []
    },
    {
      "cell_type": "code",
      "metadata": {
        "id": "KecPNmrKgczs"
      },
      "source": [
        "#feature_creation.head(2)"
      ],
      "execution_count": 69,
      "outputs": []
    },
    {
      "cell_type": "markdown",
      "metadata": {
        "id": "Fiib91HxMQF3"
      },
      "source": [
        "I need to include only the columns that will be used in hypothesis testing \n",
        "\n",
        "I dont need the following columns:\n",
        "- Sale_Type\n",
        "- Sold_Date\n",
        "- Address"
      ]
    },
    {
      "cell_type": "code",
      "metadata": {
        "id": "Da1x1iNBQrsY"
      },
      "source": [
        "#saving a copy in case I need to back-track\n",
        "cleaned_data = feature_creation[['MLS#', 'County', 'City',\n",
        "       'Zipcode', 'Lot_Size', 'Square_Feet', '$/Square_Feet', 'Beds', 'Baths',\n",
        "       'Year_Built', 'Price', 'Property_Tax_Rate', 'Mean_Income', 'Age',\n",
        "       '%For_Home_Maintenance', 'Financed$', 'Mortgage', 'Total%_Cost_To_Own',\n",
        "       'Total$_Cost_To_Own', 'Income_Req_To_Afford', 'Affordable',\n",
        "       'Cost_to_Own%of_Mean_Income', '%Above_Below_Affordable', 'County_Name',\n",
        "       'City_Name', 'Ratio_BedBath',\"Affordable_Seattle_Mean_Income\",\n",
        "       \"Seattle%AboveBelow_Affordable\"]]"
      ],
      "execution_count": 70,
      "outputs": []
    },
    {
      "cell_type": "code",
      "metadata": {
        "id": "e0243Qgdbvow"
      },
      "source": [
        "#Reorganizing the column order\n",
        "cleaned_data = cleaned_data[['MLS#', 'County','County_Name', 'City','City_Name',\n",
        "       'Zipcode', 'Lot_Size', 'Square_Feet', '$/Square_Feet', 'Beds', 'Baths','Ratio_BedBath',\n",
        "       'Year_Built', 'Price', 'Property_Tax_Rate', 'Mean_Income', 'Age',\n",
        "       '%For_Home_Maintenance', 'Financed$', 'Mortgage', 'Total%_Cost_To_Own',\n",
        "       'Total$_Cost_To_Own', 'Income_Req_To_Afford', 'Affordable',\n",
        "       'Cost_to_Own%of_Mean_Income', '%Above_Below_Affordable', \n",
        "       \"Affordable_Seattle_Mean_Income\",\"Seattle%AboveBelow_Affordable\"]]"
      ],
      "execution_count": 71,
      "outputs": []
    },
    {
      "cell_type": "code",
      "metadata": {
        "id": "5nonr-TzR4t4",
        "outputId": "8a225d39-1f2b-47c2-f31f-d82e2a4c8bbc",
        "colab": {
          "base_uri": "https://localhost:8080/",
          "height": 165
        }
      },
      "source": [
        "cleaned_data.head(2)"
      ],
      "execution_count": 72,
      "outputs": [
        {
          "output_type": "execute_result",
          "data": {
            "text/html": [
              "<div>\n",
              "<style scoped>\n",
              "    .dataframe tbody tr th:only-of-type {\n",
              "        vertical-align: middle;\n",
              "    }\n",
              "\n",
              "    .dataframe tbody tr th {\n",
              "        vertical-align: top;\n",
              "    }\n",
              "\n",
              "    .dataframe thead th {\n",
              "        text-align: right;\n",
              "    }\n",
              "</style>\n",
              "<table border=\"1\" class=\"dataframe\">\n",
              "  <thead>\n",
              "    <tr style=\"text-align: right;\">\n",
              "      <th></th>\n",
              "      <th>MLS#</th>\n",
              "      <th>County</th>\n",
              "      <th>County_Name</th>\n",
              "      <th>City</th>\n",
              "      <th>City_Name</th>\n",
              "      <th>Zipcode</th>\n",
              "      <th>Lot_Size</th>\n",
              "      <th>Square_Feet</th>\n",
              "      <th>$/Square_Feet</th>\n",
              "      <th>Beds</th>\n",
              "      <th>Baths</th>\n",
              "      <th>Ratio_BedBath</th>\n",
              "      <th>Year_Built</th>\n",
              "      <th>Price</th>\n",
              "      <th>Property_Tax_Rate</th>\n",
              "      <th>Mean_Income</th>\n",
              "      <th>Age</th>\n",
              "      <th>%For_Home_Maintenance</th>\n",
              "      <th>Financed$</th>\n",
              "      <th>Mortgage</th>\n",
              "      <th>Total%_Cost_To_Own</th>\n",
              "      <th>Total$_Cost_To_Own</th>\n",
              "      <th>Income_Req_To_Afford</th>\n",
              "      <th>Affordable</th>\n",
              "      <th>Cost_to_Own%of_Mean_Income</th>\n",
              "      <th>%Above_Below_Affordable</th>\n",
              "      <th>Affordable_Seattle_Mean_Income</th>\n",
              "      <th>Seattle%AboveBelow_Affordable</th>\n",
              "    </tr>\n",
              "  </thead>\n",
              "  <tbody>\n",
              "    <tr>\n",
              "      <th>0</th>\n",
              "      <td>1666770</td>\n",
              "      <td>4</td>\n",
              "      <td>Skagit</td>\n",
              "      <td>80</td>\n",
              "      <td>Mount Vernon</td>\n",
              "      <td>98273</td>\n",
              "      <td>4792</td>\n",
              "      <td>1540</td>\n",
              "      <td>247</td>\n",
              "      <td>3</td>\n",
              "      <td>2.25</td>\n",
              "      <td>1.0</td>\n",
              "      <td>1970</td>\n",
              "      <td>380000</td>\n",
              "      <td>0.0101</td>\n",
              "      <td>70955</td>\n",
              "      <td>50</td>\n",
              "      <td>0.04</td>\n",
              "      <td>304000</td>\n",
              "      <td>1281.66</td>\n",
              "      <td>0.0601</td>\n",
              "      <td>3184.83</td>\n",
              "      <td>127393.2</td>\n",
              "      <td>False</td>\n",
              "      <td>0.538623</td>\n",
              "      <td>0.24</td>\n",
              "      <td>False</td>\n",
              "      <td>0.10</td>\n",
              "    </tr>\n",
              "    <tr>\n",
              "      <th>1</th>\n",
              "      <td>1670882</td>\n",
              "      <td>4</td>\n",
              "      <td>Skagit</td>\n",
              "      <td>80</td>\n",
              "      <td>Mount Vernon</td>\n",
              "      <td>98273</td>\n",
              "      <td>4972</td>\n",
              "      <td>916</td>\n",
              "      <td>328</td>\n",
              "      <td>2</td>\n",
              "      <td>1.00</td>\n",
              "      <td>2.0</td>\n",
              "      <td>1970</td>\n",
              "      <td>300000</td>\n",
              "      <td>0.0101</td>\n",
              "      <td>70955</td>\n",
              "      <td>50</td>\n",
              "      <td>0.04</td>\n",
              "      <td>240000</td>\n",
              "      <td>1011.84</td>\n",
              "      <td>0.0601</td>\n",
              "      <td>2514.34</td>\n",
              "      <td>100573.6</td>\n",
              "      <td>False</td>\n",
              "      <td>0.425228</td>\n",
              "      <td>0.13</td>\n",
              "      <td>False</td>\n",
              "      <td>0.02</td>\n",
              "    </tr>\n",
              "  </tbody>\n",
              "</table>\n",
              "</div>"
            ],
            "text/plain": [
              "      MLS#  ...  Seattle%AboveBelow_Affordable\n",
              "0  1666770  ...                           0.10\n",
              "1  1670882  ...                           0.02\n",
              "\n",
              "[2 rows x 28 columns]"
            ]
          },
          "metadata": {
            "tags": []
          },
          "execution_count": 72
        }
      ]
    },
    {
      "cell_type": "markdown",
      "metadata": {
        "id": "JPKOVhkj6Llp"
      },
      "source": [
        "# **Hypothesis Testing**"
      ]
    },
    {
      "cell_type": "code",
      "metadata": {
        "id": "Ge7pKASILusT"
      },
      "source": [
        "#cleaned_data.describe()"
      ],
      "execution_count": 73,
      "outputs": []
    },
    {
      "cell_type": "code",
      "metadata": {
        "id": "JVTHsJgx6Qqh",
        "outputId": "3fb02bb4-9093-4890-dd69-4a308ffd4739",
        "colab": {
          "base_uri": "https://localhost:8080/",
          "height": 165
        }
      },
      "source": [
        "cleaned_data.head(2)"
      ],
      "execution_count": 74,
      "outputs": [
        {
          "output_type": "execute_result",
          "data": {
            "text/html": [
              "<div>\n",
              "<style scoped>\n",
              "    .dataframe tbody tr th:only-of-type {\n",
              "        vertical-align: middle;\n",
              "    }\n",
              "\n",
              "    .dataframe tbody tr th {\n",
              "        vertical-align: top;\n",
              "    }\n",
              "\n",
              "    .dataframe thead th {\n",
              "        text-align: right;\n",
              "    }\n",
              "</style>\n",
              "<table border=\"1\" class=\"dataframe\">\n",
              "  <thead>\n",
              "    <tr style=\"text-align: right;\">\n",
              "      <th></th>\n",
              "      <th>MLS#</th>\n",
              "      <th>County</th>\n",
              "      <th>County_Name</th>\n",
              "      <th>City</th>\n",
              "      <th>City_Name</th>\n",
              "      <th>Zipcode</th>\n",
              "      <th>Lot_Size</th>\n",
              "      <th>Square_Feet</th>\n",
              "      <th>$/Square_Feet</th>\n",
              "      <th>Beds</th>\n",
              "      <th>Baths</th>\n",
              "      <th>Ratio_BedBath</th>\n",
              "      <th>Year_Built</th>\n",
              "      <th>Price</th>\n",
              "      <th>Property_Tax_Rate</th>\n",
              "      <th>Mean_Income</th>\n",
              "      <th>Age</th>\n",
              "      <th>%For_Home_Maintenance</th>\n",
              "      <th>Financed$</th>\n",
              "      <th>Mortgage</th>\n",
              "      <th>Total%_Cost_To_Own</th>\n",
              "      <th>Total$_Cost_To_Own</th>\n",
              "      <th>Income_Req_To_Afford</th>\n",
              "      <th>Affordable</th>\n",
              "      <th>Cost_to_Own%of_Mean_Income</th>\n",
              "      <th>%Above_Below_Affordable</th>\n",
              "      <th>Affordable_Seattle_Mean_Income</th>\n",
              "      <th>Seattle%AboveBelow_Affordable</th>\n",
              "    </tr>\n",
              "  </thead>\n",
              "  <tbody>\n",
              "    <tr>\n",
              "      <th>0</th>\n",
              "      <td>1666770</td>\n",
              "      <td>4</td>\n",
              "      <td>Skagit</td>\n",
              "      <td>80</td>\n",
              "      <td>Mount Vernon</td>\n",
              "      <td>98273</td>\n",
              "      <td>4792</td>\n",
              "      <td>1540</td>\n",
              "      <td>247</td>\n",
              "      <td>3</td>\n",
              "      <td>2.25</td>\n",
              "      <td>1.0</td>\n",
              "      <td>1970</td>\n",
              "      <td>380000</td>\n",
              "      <td>0.0101</td>\n",
              "      <td>70955</td>\n",
              "      <td>50</td>\n",
              "      <td>0.04</td>\n",
              "      <td>304000</td>\n",
              "      <td>1281.66</td>\n",
              "      <td>0.0601</td>\n",
              "      <td>3184.83</td>\n",
              "      <td>127393.2</td>\n",
              "      <td>False</td>\n",
              "      <td>0.538623</td>\n",
              "      <td>0.24</td>\n",
              "      <td>False</td>\n",
              "      <td>0.10</td>\n",
              "    </tr>\n",
              "    <tr>\n",
              "      <th>1</th>\n",
              "      <td>1670882</td>\n",
              "      <td>4</td>\n",
              "      <td>Skagit</td>\n",
              "      <td>80</td>\n",
              "      <td>Mount Vernon</td>\n",
              "      <td>98273</td>\n",
              "      <td>4972</td>\n",
              "      <td>916</td>\n",
              "      <td>328</td>\n",
              "      <td>2</td>\n",
              "      <td>1.00</td>\n",
              "      <td>2.0</td>\n",
              "      <td>1970</td>\n",
              "      <td>300000</td>\n",
              "      <td>0.0101</td>\n",
              "      <td>70955</td>\n",
              "      <td>50</td>\n",
              "      <td>0.04</td>\n",
              "      <td>240000</td>\n",
              "      <td>1011.84</td>\n",
              "      <td>0.0601</td>\n",
              "      <td>2514.34</td>\n",
              "      <td>100573.6</td>\n",
              "      <td>False</td>\n",
              "      <td>0.425228</td>\n",
              "      <td>0.13</td>\n",
              "      <td>False</td>\n",
              "      <td>0.02</td>\n",
              "    </tr>\n",
              "  </tbody>\n",
              "</table>\n",
              "</div>"
            ],
            "text/plain": [
              "      MLS#  ...  Seattle%AboveBelow_Affordable\n",
              "0  1666770  ...                           0.10\n",
              "1  1670882  ...                           0.02\n",
              "\n",
              "[2 rows x 28 columns]"
            ]
          },
          "metadata": {
            "tags": []
          },
          "execution_count": 74
        }
      ]
    },
    {
      "cell_type": "code",
      "metadata": {
        "id": "YCX9mBPrPVV9"
      },
      "source": [
        "hypothesis_county = cleaned_data[[\"County\",\"County_Name\",\"Beds\",\"Baths\",\"Square_Feet\",\"$/Square_Feet\",\"Price\",\"Affordable\",\"%Above_Below_Affordable\",\"Affordable_Seattle_Mean_Income\",\"Seattle%AboveBelow_Affordable\",\"Mean_Income\"]]"
      ],
      "execution_count": 75,
      "outputs": []
    },
    {
      "cell_type": "markdown",
      "metadata": {
        "id": "iOGgr0wehuON"
      },
      "source": [
        "County code, name listed north to south\n",
        "\n",
        "- 6 = Whatcom\n",
        "- 0 = Island\n",
        "- 4 = Skagit\n",
        "- 5 = Snohomish\n",
        "- 1 = King (Seattle)\n",
        "- 3 = Pierce\n",
        "- 2 = Kitsap\n"
      ]
    },
    {
      "cell_type": "code",
      "metadata": {
        "id": "eupGmjYg5J02"
      },
      "source": [
        "whatcom = hypothesis_county.where(hypothesis_county[\"County\"]==6)\n",
        "whatcom = whatcom.dropna()\n",
        "island = hypothesis_county.where(hypothesis_county[\"County\"]==0)\n",
        "island = island.dropna()\n",
        "skagit = hypothesis_county.where(hypothesis_county[\"County\"]==4)\n",
        "skagit = skagit.dropna()\n",
        "snohomish = hypothesis_county.where(hypothesis_county[\"County\"]==5)\n",
        "snohomish = snohomish.dropna()\n",
        "king = hypothesis_county.where(hypothesis_county[\"County\"]==1)\n",
        "king = king.dropna()\n",
        "pierce = hypothesis_county.where(hypothesis_county[\"County\"]==3)\n",
        "pierce = pierce.dropna()\n",
        "kitsap = hypothesis_county.where(hypothesis_county[\"County\"]==2)\n",
        "kitsap = kitsap.dropna();"
      ],
      "execution_count": 76,
      "outputs": []
    },
    {
      "cell_type": "markdown",
      "metadata": {
        "id": "dLwfvtmwP6jG"
      },
      "source": [
        "## Number of Beds \n",
        "\n",
        "**Null Hypothesis**\n",
        "- The Number of Beds WILL NOT have a statistically signifigant affect on the price or affordability of the property. \n",
        "\n",
        "**Alternative Hypothesis**\n",
        "- The Number of Beds WILL have a statistically signifigant affect on the price or affordability of the property. "
      ]
    },
    {
      "cell_type": "code",
      "metadata": {
        "id": "caXKw8fYSRU8",
        "outputId": "f96c92e8-acec-40c9-db24-610509d24553",
        "colab": {
          "base_uri": "https://localhost:8080/",
          "height": 34
        }
      },
      "source": [
        "#TTEST\n",
        "stats.ttest_ind(cleaned_data[\"Beds\"],cleaned_data[\"Price\"],nan_policy=\"omit\")"
      ],
      "execution_count": 77,
      "outputs": [
        {
          "output_type": "execute_result",
          "data": {
            "text/plain": [
              "Ttest_indResult(statistic=-63.88169004480672, pvalue=0.0)"
            ]
          },
          "metadata": {
            "tags": []
          },
          "execution_count": 77
        }
      ]
    },
    {
      "cell_type": "code",
      "metadata": {
        "id": "gRSMI70nP2rZ",
        "outputId": "a0ce1057-731f-43ed-f866-e67a0f60ddf7",
        "colab": {
          "base_uri": "https://localhost:8080/",
          "height": 136
        }
      },
      "source": [
        "#Testing to see for each county if the # of beds affects property price\n",
        "print(stats.ttest_ind(whatcom[\"Beds\"],whatcom[\"Price\"],nan_policy=\"omit\"))\n",
        "print(stats.ttest_ind(island[\"Beds\"],island[\"Price\"],nan_policy=\"omit\"))\n",
        "print(stats.ttest_ind(skagit[\"Beds\"],skagit[\"Price\"],nan_policy=\"omit\"))\n",
        "print(stats.ttest_ind(snohomish[\"Beds\"],snohomish[\"Price\"],nan_policy=\"omit\"))\n",
        "print(stats.ttest_ind(king[\"Beds\"],king[\"Price\"],nan_policy=\"omit\"))\n",
        "print(stats.ttest_ind(pierce[\"Beds\"],pierce[\"Price\"],nan_policy=\"omit\"))\n",
        "print(stats.ttest_ind(kitsap[\"Beds\"],kitsap[\"Price\"],nan_policy=\"omit\"))"
      ],
      "execution_count": 78,
      "outputs": [
        {
          "output_type": "stream",
          "text": [
            "Ttest_indResult(statistic=-23.810409904663842, pvalue=6.171411227108107e-90)\n",
            "Ttest_indResult(statistic=-14.75274817365891, pvalue=7.751759659956203e-38)\n",
            "Ttest_indResult(statistic=-17.48368347286431, pvalue=4.6629194293731935e-49)\n",
            "Ttest_indResult(statistic=-34.98128005592451, pvalue=8.206380073142853e-156)\n",
            "Ttest_indResult(statistic=-33.46449205889797, pvalue=2.584454176724414e-162)\n",
            "Ttest_indResult(statistic=-40.082706703545554, pvalue=1.217073516802573e-189)\n",
            "Ttest_indResult(statistic=-24.048291861398045, pvalue=2.3542917088728997e-100)\n"
          ],
          "name": "stdout"
        }
      ]
    },
    {
      "cell_type": "code",
      "metadata": {
        "id": "mc4Y0HpcVqWv",
        "outputId": "638c18a9-e6a0-4dee-a97b-c3e051dc717b",
        "colab": {
          "base_uri": "https://localhost:8080/",
          "height": 136
        }
      },
      "source": [
        "#Testing to see for each county if the # of beds affects affordability\n",
        "print(stats.ttest_ind(whatcom[\"Beds\"],whatcom[\"%Above_Below_Affordable\"],nan_policy=\"omit\"))\n",
        "print(stats.ttest_ind(island[\"Beds\"],island[\"%Above_Below_Affordable\"],nan_policy=\"omit\"))\n",
        "print(stats.ttest_ind(skagit[\"Beds\"],skagit[\"%Above_Below_Affordable\"],nan_policy=\"omit\"))\n",
        "print(stats.ttest_ind(snohomish[\"Beds\"],snohomish[\"%Above_Below_Affordable\"],nan_policy=\"omit\"))\n",
        "print(stats.ttest_ind(king[\"Beds\"],king[\"%Above_Below_Affordable\"],nan_policy=\"omit\"))\n",
        "print(stats.ttest_ind(pierce[\"Beds\"],pierce[\"%Above_Below_Affordable\"],nan_policy=\"omit\"))\n",
        "print(stats.ttest_ind(kitsap[\"Beds\"],kitsap[\"%Above_Below_Affordable\"],nan_policy=\"omit\"))"
      ],
      "execution_count": 79,
      "outputs": [
        {
          "output_type": "stream",
          "text": [
            "Ttest_indResult(statistic=32.82628687840371, pvalue=1.0863320132743358e-138)\n",
            "Ttest_indResult(statistic=17.179955145498745, pvalue=3.527464473147406e-47)\n",
            "Ttest_indResult(statistic=27.78723089905933, pvalue=7.366453513661882e-89)\n",
            "Ttest_indResult(statistic=53.56623892134478, pvalue=8.034286263689271e-250)\n",
            "Ttest_indResult(statistic=48.635388193698304, pvalue=6.644724577741647e-259)\n",
            "Ttest_indResult(statistic=48.06614912876036, pvalue=1.260301966067171e-232)\n",
            "Ttest_indResult(statistic=53.141810493920985, pvalue=6.561833399860562e-288)\n"
          ],
          "name": "stdout"
        }
      ]
    },
    {
      "cell_type": "code",
      "metadata": {
        "id": "PW-LFEP3lNfp"
      },
      "source": [
        "bed1 = cleaned_data.where(cleaned_data[\"Beds\"]==1).dropna()\n",
        "bed2 = cleaned_data.where(cleaned_data[\"Beds\"]==2).dropna()\n",
        "bed3 = cleaned_data.where(cleaned_data[\"Beds\"]==3).dropna()\n",
        "bed4 = cleaned_data.where(cleaned_data[\"Beds\"]==4).dropna()\n",
        "bed5 = cleaned_data.where(cleaned_data[\"Beds\"]==5).dropna()\n",
        "bed6 = cleaned_data.where(cleaned_data[\"Beds\"]==6).dropna()\n",
        "bed7 = cleaned_data.where(cleaned_data[\"Beds\"]==7).dropna()\n",
        "bed8 = cleaned_data.where(cleaned_data[\"Beds\"]==8).dropna()\n",
        "bed9 = cleaned_data.where(cleaned_data[\"Beds\"]==9).dropna()\n",
        "bed11 = cleaned_data.where(cleaned_data[\"Beds\"]==11).dropna()\n",
        "bed12 = cleaned_data.where(cleaned_data[\"Beds\"]==12).dropna()\n",
        "bed14 = cleaned_data.where(cleaned_data[\"Beds\"]==14).dropna()"
      ],
      "execution_count": 80,
      "outputs": []
    },
    {
      "cell_type": "code",
      "metadata": {
        "id": "8Z94llYKsg__",
        "outputId": "a3aad8ac-0ced-46d5-88ed-da31a4926cc8",
        "colab": {
          "base_uri": "https://localhost:8080/",
          "height": 34
        }
      },
      "source": [
        "bed1[\"Price\"].mean()"
      ],
      "execution_count": 81,
      "outputs": [
        {
          "output_type": "execute_result",
          "data": {
            "text/plain": [
              "339899.08771929826"
            ]
          },
          "metadata": {
            "tags": []
          },
          "execution_count": 81
        }
      ]
    },
    {
      "cell_type": "code",
      "metadata": {
        "id": "vOYJa8qMj1eI"
      },
      "source": [
        "prices_beds = [\n",
        "               bed1[\"Price\"].mean(),bed2[\"Price\"].mean(),\n",
        "               bed3[\"Price\"].mean(),bed4[\"Price\"].mean(),\n",
        "               bed5[\"Price\"].mean(),bed6[\"Price\"].mean(),\n",
        "               bed7[\"Price\"].mean(),bed8[\"Price\"].mean(),\n",
        "               bed9[\"Price\"].mean(),bed11[\"Price\"].mean(),\n",
        "               bed12[\"Price\"].mean(),bed14[\"Price\"].mean()\n",
        "]"
      ],
      "execution_count": 82,
      "outputs": []
    },
    {
      "cell_type": "code",
      "metadata": {
        "id": "N9JBC818auAU"
      },
      "source": [
        "number_of_beds = cleaned_data[\"Beds\"].unique().tolist()\n",
        "number_of_beds.sort()"
      ],
      "execution_count": 83,
      "outputs": []
    },
    {
      "cell_type": "code",
      "metadata": {
        "id": "sFJ3lWzfc8Z4",
        "outputId": "e5dc2bed-a534-4219-9ed4-179db20a5c9e",
        "colab": {
          "base_uri": "https://localhost:8080/",
          "height": 299
        }
      },
      "source": [
        "#GRAPH all properties # of Beds vs Price\n",
        "%matplotlib inline\n",
        "plt.style.use('ggplot')\n",
        "\n",
        "x = number_of_beds\n",
        "y = prices_beds\n",
        "\n",
        "x_pos = [i for i, _ in enumerate(x)]\n",
        "\n",
        "plt.bar(x_pos, y, color='orange')\n",
        "plt.xlabel(\"Number of Beds\")\n",
        "plt.ylabel(\"Average Price\")\n",
        "plt.title(\"Price and Number of Beds\")\n",
        "\n",
        "plt.xticks(x_pos, x)\n",
        "\n",
        "plt.show()"
      ],
      "execution_count": 84,
      "outputs": [
        {
          "output_type": "display_data",
          "data": {
            "image/png": "[encoded data removed]",
            "text/plain": [
              "<Figure size 432x288 with 1 Axes>"
            ]
          },
          "metadata": {
            "tags": []
          }
        }
      ]
    },
    {
      "cell_type": "code",
      "metadata": {
        "id": "P59DBR-Ft_8S"
      },
      "source": [
        "affordpercent_beds = [\n",
        "               bed1[\"%Above_Below_Affordable\"].mean(),bed2[\"%Above_Below_Affordable\"].mean(),\n",
        "               bed3[\"%Above_Below_Affordable\"].mean(),bed4[\"%Above_Below_Affordable\"].mean(),\n",
        "               bed5[\"%Above_Below_Affordable\"].mean(),bed6[\"%Above_Below_Affordable\"].mean(),\n",
        "               bed7[\"%Above_Below_Affordable\"].mean(),bed8[\"%Above_Below_Affordable\"].mean(),\n",
        "               bed9[\"%Above_Below_Affordable\"].mean(),bed11[\"%Above_Below_Affordable\"].mean(),\n",
        "               bed12[\"%Above_Below_Affordable\"].mean(),bed14[\"%Above_Below_Affordable\"].mean()\n",
        "]"
      ],
      "execution_count": 85,
      "outputs": []
    },
    {
      "cell_type": "code",
      "metadata": {
        "id": "Kbl9Jg5DalKL",
        "outputId": "ad369060-55f6-44db-862b-d55c87e244d8",
        "colab": {
          "base_uri": "https://localhost:8080/",
          "height": 299
        }
      },
      "source": [
        "#GRAPH all propeerties # of Beds vs Affordability\n",
        "%matplotlib inline\n",
        "plt.style.use('ggplot')\n",
        "\n",
        "x = number_of_beds\n",
        "y = affordpercent_beds\n",
        "\n",
        "x_pos = [i for i, _ in enumerate(x)]\n",
        "\n",
        "plt.bar(x_pos, y, color='purple')\n",
        "plt.xlabel(\"Number of Beds\")\n",
        "plt.ylabel(\"Percent Above Affordable\")\n",
        "plt.title(\"Percent Above Affordable and Number of Beds\")\n",
        "\n",
        "plt.xticks(x_pos, x)\n",
        "\n",
        "plt.show()"
      ],
      "execution_count": 86,
      "outputs": [
        {
          "output_type": "display_data",
          "data": {
            "image/png": "[encoded data removed]",
            "text/plain": [
              "<Figure size 432x288 with 1 Axes>"
            ]
          },
          "metadata": {
            "tags": []
          }
        }
      ]
    },
    {
      "cell_type": "code",
      "metadata": {
        "id": "AVjeMUR-xi8x"
      },
      "source": [
        "afford_beds = [\n",
        "               sum(bed1[\"Affordable\"]),sum(bed2[\"Affordable\"]),\n",
        "               sum(bed3[\"Affordable\"]),sum(bed4[\"Affordable\"]),\n",
        "               sum(bed5[\"Affordable\"]),sum(bed6[\"Affordable\"]),\n",
        "               sum(bed7[\"Affordable\"]),sum(bed8[\"Affordable\"]),\n",
        "               sum(bed9[\"Affordable\"]),sum(bed11[\"Affordable\"]),\n",
        "               sum(bed12[\"Affordable\"]),sum(bed14[\"Affordable\"])\n",
        "]"
      ],
      "execution_count": 87,
      "outputs": []
    },
    {
      "cell_type": "code",
      "metadata": {
        "id": "a9vzqJezyiIr",
        "outputId": "5924ece9-d4fa-4f26-dbdb-661144182d2a",
        "colab": {
          "base_uri": "https://localhost:8080/",
          "height": 299
        }
      },
      "source": [
        "#GRAPH all propeerties # of Beds vs Affordability\n",
        "%matplotlib inline\n",
        "plt.style.use('ggplot')\n",
        "\n",
        "x = number_of_beds\n",
        "y = afford_beds\n",
        "\n",
        "x_pos = [i for i, _ in enumerate(x)]\n",
        "\n",
        "plt.bar(x_pos, y, color='yellow')\n",
        "plt.xlabel(\"Number of Beds\")\n",
        "plt.ylabel(\"Number of Affordable Properties\")\n",
        "plt.title(\"Affordable Properties and Number of Beds\")\n",
        "\n",
        "plt.xticks(x_pos, x)\n",
        "\n",
        "plt.show()"
      ],
      "execution_count": 166,
      "outputs": [
        {
          "output_type": "display_data",
          "data": {
            "image/png": "[encoded data removed]",
            "text/plain": [
              "<Figure size 432x288 with 1 Axes>"
            ]
          },
          "metadata": {
            "tags": []
          }
        }
      ]
    },
    {
      "cell_type": "markdown",
      "metadata": {
        "id": "YsusorioP6Fp"
      },
      "source": [
        "## Number of Beds \n",
        "\n",
        "**Null Hypothesis**\n",
        "- The Number of Beds WILL NOT have a statistically signifigant affect on the price or affordability of the property. \n",
        "\n",
        "**Alternative Hypothesis**\n",
        "- The Number of Beds WILL have a statistically signifigant affect on the price or affordability of the property. \n",
        "\n",
        "**Conclusions**\n",
        "- I reject the null hypothesis"
      ]
    },
    {
      "cell_type": "markdown",
      "metadata": {
        "id": "SAicpN5LQSHA"
      },
      "source": [
        "## Number of Baths \n",
        "\n",
        "**Null Hypothesis**\n",
        "- The Number of Baths WILL NOT have a statistically signifigant affect on the price or affordability of the property. \n",
        "\n",
        "**Alternative Hypothesis**\n",
        "- The Number of Baths WILL have a statistically signifigant affect on the price or affordability of the property. "
      ]
    },
    {
      "cell_type": "code",
      "metadata": {
        "id": "-cfI5GXOSTLk",
        "outputId": "cf821f13-b496-4000-923f-213fe80127b4",
        "colab": {
          "base_uri": "https://localhost:8080/",
          "height": 34
        }
      },
      "source": [
        "#TTEST\n",
        "stats.ttest_ind(cleaned_data[\"Baths\"],cleaned_data[\"Price\"],nan_policy=\"omit\")"
      ],
      "execution_count": 88,
      "outputs": [
        {
          "output_type": "execute_result",
          "data": {
            "text/plain": [
              "Ttest_indResult(statistic=-63.8817873425829, pvalue=0.0)"
            ]
          },
          "metadata": {
            "tags": []
          },
          "execution_count": 88
        }
      ]
    },
    {
      "cell_type": "code",
      "metadata": {
        "id": "8Tlqzby9SOBN",
        "outputId": "b4f405a6-246d-42dd-9307-df820b66e8da",
        "colab": {
          "base_uri": "https://localhost:8080/",
          "height": 136
        }
      },
      "source": [
        "#Testing to see for each county if the # of baths affects the property price\n",
        "print(stats.ttest_ind(whatcom[\"Baths\"],whatcom[\"Price\"],nan_policy=\"omit\"))\n",
        "print(stats.ttest_ind(island[\"Baths\"],island[\"Price\"],nan_policy=\"omit\"))\n",
        "print(stats.ttest_ind(skagit[\"Baths\"],skagit[\"Price\"],nan_policy=\"omit\"))\n",
        "print(stats.ttest_ind(snohomish[\"Baths\"],snohomish[\"Price\"],nan_policy=\"omit\"))\n",
        "print(stats.ttest_ind(king[\"Baths\"],king[\"Price\"],nan_policy=\"omit\"))\n",
        "print(stats.ttest_ind(pierce[\"Baths\"],pierce[\"Price\"],nan_policy=\"omit\"))\n",
        "print(stats.ttest_ind(kitsap[\"Baths\"],kitsap[\"Price\"],nan_policy=\"omit\"))"
      ],
      "execution_count": 89,
      "outputs": [
        {
          "output_type": "stream",
          "text": [
            "Ttest_indResult(statistic=-23.810449766665535, pvalue=6.168318916054933e-90)\n",
            "Ttest_indResult(statistic=-14.7527603063579, pvalue=7.750934374357328e-38)\n",
            "Ttest_indResult(statistic=-17.48370929005409, pvalue=4.661817043087161e-49)\n",
            "Ttest_indResult(statistic=-34.981344837231816, pvalue=8.199610303840599e-156)\n",
            "Ttest_indResult(statistic=-33.46453329074655, pvalue=2.582825920629922e-162)\n",
            "Ttest_indResult(statistic=-40.08280189078368, pvalue=1.2155823032861202e-189)\n",
            "Ttest_indResult(statistic=-24.048324769796412, pvalue=2.3531281887170743e-100)\n"
          ],
          "name": "stdout"
        }
      ]
    },
    {
      "cell_type": "code",
      "metadata": {
        "id": "WbkTkWfbW0Nu",
        "outputId": "9d5570fd-64b5-47aa-d7d7-eb4529d6c8bf",
        "colab": {
          "base_uri": "https://localhost:8080/",
          "height": 136
        }
      },
      "source": [
        "#Testing to see for each county if the # of baths affects affordability\n",
        "print(stats.ttest_ind(whatcom[\"Baths\"],whatcom[\"%Above_Below_Affordable\"],nan_policy=\"omit\"))\n",
        "print(stats.ttest_ind(island[\"Baths\"],island[\"%Above_Below_Affordable\"],nan_policy=\"omit\"))\n",
        "print(stats.ttest_ind(skagit[\"Baths\"],skagit[\"%Above_Below_Affordable\"],nan_policy=\"omit\"))\n",
        "print(stats.ttest_ind(snohomish[\"Baths\"],snohomish[\"%Above_Below_Affordable\"],nan_policy=\"omit\"))\n",
        "print(stats.ttest_ind(king[\"Baths\"],king[\"%Above_Below_Affordable\"],nan_policy=\"omit\"))\n",
        "print(stats.ttest_ind(pierce[\"Baths\"],pierce[\"%Above_Below_Affordable\"],nan_policy=\"omit\"))\n",
        "print(stats.ttest_ind(kitsap[\"Baths\"],kitsap[\"%Above_Below_Affordable\"],nan_policy=\"omit\"))"
      ],
      "execution_count": 90,
      "outputs": [
        {
          "output_type": "stream",
          "text": [
            "Ttest_indResult(statistic=22.367290568099612, pvalue=4.499852923675823e-82)\n",
            "Ttest_indResult(statistic=11.448591802700065, pvalue=1.276857679822822e-25)\n",
            "Ttest_indResult(statistic=17.069955158886888, pvalue=2.0574841985802615e-47)\n",
            "Ttest_indResult(statistic=40.388238036263644, pvalue=4.8679536517264347e-185)\n",
            "Ttest_indResult(statistic=35.02842544950029, pvalue=1.1368556654979719e-172)\n",
            "Ttest_indResult(statistic=40.2281925487395, pvalue=1.8709032381827513e-190)\n",
            "Ttest_indResult(statistic=35.80753727682154, pvalue=6.615479581681027e-179)\n"
          ],
          "name": "stdout"
        }
      ]
    },
    {
      "cell_type": "code",
      "metadata": {
        "id": "km6kqYcIbAf_"
      },
      "source": [
        "number_of_baths = cleaned_data[\"Baths\"].unique().tolist()\n",
        "number_of_baths.sort()"
      ],
      "execution_count": 91,
      "outputs": []
    },
    {
      "cell_type": "code",
      "metadata": {
        "id": "UzZjbINbvmPx"
      },
      "source": [
        "Bath1 = cleaned_data.where(cleaned_data[\"Beds\"]==0.75).dropna()\n",
        "Bath2 = cleaned_data.where(cleaned_data[\"Beds\"]==1.0).dropna()\n",
        "Bath3 = cleaned_data.where(cleaned_data[\"Beds\"]==1.25).dropna()\n",
        "Bath4 = cleaned_data.where(cleaned_data[\"Beds\"]==1.5).dropna()\n",
        "Bath5 = cleaned_data.where(cleaned_data[\"Beds\"]==1.75).dropna()\n",
        "Bath6 = cleaned_data.where(cleaned_data[\"Beds\"]==2).dropna()\n",
        "Bath7 = cleaned_data.where(cleaned_data[\"Beds\"]==2.25).dropna()\n",
        "Bath8 = cleaned_data.where(cleaned_data[\"Beds\"]==2.5).dropna()\n",
        "Bath9 = cleaned_data.where(cleaned_data[\"Beds\"]==2.75).dropna()\n",
        "Bath10 = cleaned_data.where(cleaned_data[\"Beds\"]==3).dropna()\n",
        "Bath11 = cleaned_data.where(cleaned_data[\"Beds\"]==3.25).dropna()\n",
        "Bath12 = cleaned_data.where(cleaned_data[\"Beds\"]==3.5).dropna()\n",
        "Bath13 = cleaned_data.where(cleaned_data[\"Beds\"]==3.75).dropna()\n",
        "Bath14 = cleaned_data.where(cleaned_data[\"Beds\"]==4).dropna()\n",
        "Bath15 = cleaned_data.where(cleaned_data[\"Beds\"]==4.25).dropna()\n",
        "Bath16 = cleaned_data.where(cleaned_data[\"Beds\"]==4.5).dropna()\n",
        "Bath17 = cleaned_data.where(cleaned_data[\"Beds\"]==4.75).dropna()\n",
        "Bath18 = cleaned_data.where(cleaned_data[\"Beds\"]==5).dropna()\n",
        "Bath19 = cleaned_data.where(cleaned_data[\"Beds\"]==5.25).dropna()\n",
        "Bath20 = cleaned_data.where(cleaned_data[\"Beds\"]==5.5).dropna()\n",
        "Bath21 = cleaned_data.where(cleaned_data[\"Beds\"]==5.75).dropna()\n",
        "Bath22 = cleaned_data.where(cleaned_data[\"Beds\"]==6).dropna()\n",
        "Bath23 = cleaned_data.where(cleaned_data[\"Beds\"]==6.25).dropna()\n",
        "Bath24 = cleaned_data.where(cleaned_data[\"Beds\"]==6.75).dropna()\n",
        "Bath25 = cleaned_data.where(cleaned_data[\"Beds\"]==7).dropna()\n",
        "Bath26 = cleaned_data.where(cleaned_data[\"Beds\"]==7.5).dropna()\n",
        "Bath27 = cleaned_data.where(cleaned_data[\"Beds\"]==9).dropna()\n",
        "Bath28 = cleaned_data.where(cleaned_data[\"Beds\"]==10.5).dropna()"
      ],
      "execution_count": 92,
      "outputs": []
    },
    {
      "cell_type": "code",
      "metadata": {
        "id": "ynYHmCth1RDB",
        "outputId": "4cafd35e-cf24-4cd5-c2c2-355569fe93ee",
        "colab": {
          "base_uri": "https://localhost:8080/",
          "height": 34
        }
      },
      "source": [
        "print(sum(Bath1[\"Baths\"]))"
      ],
      "execution_count": 93,
      "outputs": [
        {
          "output_type": "stream",
          "text": [
            "0\n"
          ],
          "name": "stdout"
        }
      ]
    },
    {
      "cell_type": "code",
      "metadata": {
        "id": "rr9uUPXvxOWN"
      },
      "source": [
        "Baths_Price = [\n",
        "               Bath1[\"Price\"].mean(),Bath2[\"Price\"].mean(),Bath3[\"Price\"].mean(),\n",
        "               Bath4[\"Price\"].mean(),Bath5[\"Price\"].mean(),Bath6[\"Price\"].mean(),\n",
        "               Bath7[\"Price\"].mean(),Bath8[\"Price\"].mean(),Bath9[\"Price\"].mean(),\n",
        "               Bath10[\"Price\"].mean(),Bath11[\"Price\"].mean(),Bath12[\"Price\"].mean(),\n",
        "               Bath13[\"Price\"].mean(),Bath14[\"Price\"].mean(),Bath15[\"Price\"].mean(),\n",
        "               Bath16[\"Price\"].mean(),Bath17[\"Price\"].mean(),Bath18[\"Price\"].mean(),\n",
        "               Bath19[\"Price\"].mean(),Bath20[\"Price\"].mean(),Bath21[\"Price\"].mean(),\n",
        "               Bath22[\"Price\"].mean(),Bath23[\"Price\"].mean(),Bath24[\"Price\"].mean(),\n",
        "               Bath25[\"Price\"].mean(),Bath26[\"Price\"].mean(),Bath27[\"Price\"].mean(),\n",
        "               Bath28[\"Price\"].mean()\n",
        "               ]"
      ],
      "execution_count": 94,
      "outputs": []
    },
    {
      "cell_type": "code",
      "metadata": {
        "id": "fLeTk5efaGwp",
        "outputId": "e4a8fdc5-67b5-4e31-9989-0bd97025a686",
        "colab": {
          "base_uri": "https://localhost:8080/",
          "height": 312
        }
      },
      "source": [
        "#GRAPH all properties # of Beds vs Price\n",
        "%matplotlib inline\n",
        "plt.style.use('ggplot')\n",
        "\n",
        "x = number_of_baths\n",
        "y = Baths_Price\n",
        "\n",
        "x_pos = [i for i, _ in enumerate(x)]\n",
        "\n",
        "plt.bar(x_pos, y, color='orange')\n",
        "plt.xlabel(\"Number of Baths\")\n",
        "plt.ylabel(\"Average Price\")\n",
        "plt.title(\"Price and Number of Baths\")\n",
        "\n",
        "plt.xticks(x_pos, x,rotation=\"vertical\")\n",
        "\n",
        "plt.show()"
      ],
      "execution_count": 95,
      "outputs": [
        {
          "output_type": "display_data",
          "data": {
            "image/png": "[encoded data removed]",
            "text/plain": [
              "<Figure size 432x288 with 1 Axes>"
            ]
          },
          "metadata": {
            "tags": []
          }
        }
      ]
    },
    {
      "cell_type": "code",
      "metadata": {
        "id": "k-jikKoN333_"
      },
      "source": [
        "Baths_Afford = [\n",
        "                Bath1[\"%Above_Below_Affordable\"].mean(),Bath2[\"%Above_Below_Affordable\"].mean(),\n",
        "                Bath3[\"%Above_Below_Affordable\"].mean(),Bath4[\"%Above_Below_Affordable\"].mean(),\n",
        "                Bath5[\"%Above_Below_Affordable\"].mean(),Bath6[\"%Above_Below_Affordable\"].mean(),\n",
        "                Bath7[\"%Above_Below_Affordable\"].mean(),Bath8[\"%Above_Below_Affordable\"].mean(),\n",
        "                Bath9[\"%Above_Below_Affordable\"].mean(),Bath10[\"%Above_Below_Affordable\"].mean(),\n",
        "                Bath11[\"%Above_Below_Affordable\"].mean(),Bath12[\"%Above_Below_Affordable\"].mean(),\n",
        "                Bath13[\"%Above_Below_Affordable\"].mean(),Bath14[\"%Above_Below_Affordable\"].mean(),\n",
        "                Bath15[\"%Above_Below_Affordable\"].mean(),Bath16[\"%Above_Below_Affordable\"].mean(),\n",
        "                Bath17[\"%Above_Below_Affordable\"].mean(),Bath18[\"%Above_Below_Affordable\"].mean(),\n",
        "                Bath19[\"%Above_Below_Affordable\"].mean(),Bath20[\"%Above_Below_Affordable\"].mean(),\n",
        "                Bath21[\"%Above_Below_Affordable\"].mean(),Bath22[\"%Above_Below_Affordable\"].mean(),\n",
        "                Bath23[\"%Above_Below_Affordable\"].mean(),Bath24[\"%Above_Below_Affordable\"].mean(),\n",
        "                Bath25[\"%Above_Below_Affordable\"].mean(),Bath26[\"%Above_Below_Affordable\"].mean(),\n",
        "                Bath27[\"%Above_Below_Affordable\"].mean(),Bath28[\"%Above_Below_Affordable\"].mean(),\n",
        "               ]"
      ],
      "execution_count": 96,
      "outputs": []
    },
    {
      "cell_type": "code",
      "metadata": {
        "id": "hpo7b9lNbMe9",
        "outputId": "543513c8-aa91-47d4-f85d-1d566ff68240",
        "colab": {
          "base_uri": "https://localhost:8080/",
          "height": 312
        }
      },
      "source": [
        "#GRAPH all properties # of Beds vs Affordability\n",
        "%matplotlib inline\n",
        "plt.style.use('ggplot')\n",
        "\n",
        "x = number_of_baths\n",
        "y = Baths_Afford\n",
        "\n",
        "x_pos = [i for i, _ in enumerate(x)]\n",
        "\n",
        "plt.bar(x_pos, y, color='orange')\n",
        "plt.xlabel(\"Number of Baths\")\n",
        "plt.ylabel(\"Percent Above Affordable\")\n",
        "plt.title(\"Percent Above Affordable and Number of Baths\")\n",
        "\n",
        "plt.xticks(x_pos, x,rotation=\"vertical\")\n",
        "\n",
        "plt.show()"
      ],
      "execution_count": 97,
      "outputs": [
        {
          "output_type": "display_data",
          "data": {
            "image/png": "[encoded data removed]",
            "text/plain": [
              "<Figure size 432x288 with 1 Axes>"
            ]
          },
          "metadata": {
            "tags": []
          }
        }
      ]
    },
    {
      "cell_type": "code",
      "metadata": {
        "id": "tH7VWyMbz3_2"
      },
      "source": [
        "Affordable_Baths = [\n",
        "               sum(Bath1[\"Affordable\"]),sum(Bath2[\"Affordable\"]),sum(Bath3[\"Affordable\"]),\n",
        "               sum(Bath4[\"Affordable\"]),sum(Bath5[\"Affordable\"]),sum(Bath6[\"Affordable\"]),\n",
        "               sum(Bath7[\"Affordable\"]),sum(Bath8[\"Affordable\"]),sum(Bath9[\"Affordable\"]),\n",
        "               sum(Bath10[\"Affordable\"]),sum(Bath11[\"Affordable\"]),sum(Bath12[\"Affordable\"]),\n",
        "               sum(Bath13[\"Affordable\"]),sum(Bath14[\"Affordable\"]),sum(Bath15[\"Affordable\"]),\n",
        "               sum(Bath16[\"Affordable\"]),sum(Bath17[\"Affordable\"]),sum(Bath18[\"Affordable\"]),\n",
        "               sum(Bath19[\"Affordable\"]),sum(Bath20[\"Affordable\"]),sum(Bath21[\"Affordable\"]),\n",
        "               sum(Bath22[\"Affordable\"]),sum(Bath23[\"Affordable\"]),sum(Bath24[\"Affordable\"]),\n",
        "               sum(Bath25[\"Affordable\"]),sum(Bath26[\"Affordable\"]),sum(Bath27[\"Affordable\"]),\n",
        "               sum(Bath28[\"Affordable\"])\n",
        "               ]"
      ],
      "execution_count": 167,
      "outputs": []
    },
    {
      "cell_type": "code",
      "metadata": {
        "id": "4jPhsXXX0vsu",
        "outputId": "328fc5ee-676c-4b75-febf-613960c629f2",
        "colab": {
          "base_uri": "https://localhost:8080/",
          "height": 312
        }
      },
      "source": [
        "#GRAPH all properties # of Beds vs Affordability\n",
        "%matplotlib inline\n",
        "plt.style.use('ggplot')\n",
        "\n",
        "x = number_of_baths\n",
        "y = Affordable_Baths\n",
        "\n",
        "x_pos = [i for i, _ in enumerate(x)]\n",
        "\n",
        "plt.bar(x_pos, y, color='orange')\n",
        "plt.xlabel(\"Number of Baths\")\n",
        "plt.ylabel(\"Number of Affordable Properties\")\n",
        "plt.title(\"Affordable Properties and Number of Baths\")\n",
        "\n",
        "plt.xticks(x_pos, x,rotation=\"vertical\")\n",
        "\n",
        "plt.show()"
      ],
      "execution_count": 169,
      "outputs": [
        {
          "output_type": "display_data",
          "data": {
            "image/png": "[encoded data removed]",
            "text/plain": [
              "<Figure size 432x288 with 1 Axes>"
            ]
          },
          "metadata": {
            "tags": []
          }
        }
      ]
    },
    {
      "cell_type": "markdown",
      "metadata": {
        "id": "nYyCoIJtQXbz"
      },
      "source": [
        "## Number of Baths \n",
        "\n",
        "**Null Hypothesis**\n",
        "- The Number of Baths WILL NOT have a statistically signifigant affect on the price or affordability of the property. \n",
        "\n",
        "**Alternative Hypothesis**\n",
        "- The Number of Baths WILL have a statistically signifigant affect on the price or affordability of the property. \n",
        "\n",
        "**Conclusions**\n",
        "- I reject the null hypothesis"
      ]
    },
    {
      "cell_type": "markdown",
      "metadata": {
        "id": "T4LAjlJ9LQW0"
      },
      "source": [
        "## Ratio of Beds to Baths and Affordability\n",
        "\n",
        "**Null Hypothesis**\n",
        "- The ratio of beds to baths WILL NOT have a statistically signifigant importance to the affordability\n",
        "\n",
        "**Alternative Hypothesis**\n",
        "- The ratio of beds to baths WILL have a statistically signifigant importance to the affordability"
      ]
    },
    {
      "cell_type": "code",
      "metadata": {
        "id": "bijuT05flc1e"
      },
      "source": [
        "hypothesis_beds_baths = cleaned_data[[\"Beds\",\"Baths\",\"Ratio_BedBath\",\"Price\",\"Affordable\"]]"
      ],
      "execution_count": 98,
      "outputs": []
    },
    {
      "cell_type": "code",
      "metadata": {
        "id": "CwR_UcDLLS1A",
        "outputId": "b260d666-15dd-439a-c156-aa19c0be6433",
        "colab": {
          "base_uri": "https://localhost:8080/",
          "height": 111
        }
      },
      "source": [
        "hypothesis_beds_baths.head(2)"
      ],
      "execution_count": 99,
      "outputs": [
        {
          "output_type": "execute_result",
          "data": {
            "text/html": [
              "<div>\n",
              "<style scoped>\n",
              "    .dataframe tbody tr th:only-of-type {\n",
              "        vertical-align: middle;\n",
              "    }\n",
              "\n",
              "    .dataframe tbody tr th {\n",
              "        vertical-align: top;\n",
              "    }\n",
              "\n",
              "    .dataframe thead th {\n",
              "        text-align: right;\n",
              "    }\n",
              "</style>\n",
              "<table border=\"1\" class=\"dataframe\">\n",
              "  <thead>\n",
              "    <tr style=\"text-align: right;\">\n",
              "      <th></th>\n",
              "      <th>Beds</th>\n",
              "      <th>Baths</th>\n",
              "      <th>Ratio_BedBath</th>\n",
              "      <th>Price</th>\n",
              "      <th>Affordable</th>\n",
              "    </tr>\n",
              "  </thead>\n",
              "  <tbody>\n",
              "    <tr>\n",
              "      <th>0</th>\n",
              "      <td>3</td>\n",
              "      <td>2.25</td>\n",
              "      <td>1.0</td>\n",
              "      <td>380000</td>\n",
              "      <td>False</td>\n",
              "    </tr>\n",
              "    <tr>\n",
              "      <th>1</th>\n",
              "      <td>2</td>\n",
              "      <td>1.00</td>\n",
              "      <td>2.0</td>\n",
              "      <td>300000</td>\n",
              "      <td>False</td>\n",
              "    </tr>\n",
              "  </tbody>\n",
              "</table>\n",
              "</div>"
            ],
            "text/plain": [
              "   Beds  Baths  Ratio_BedBath   Price  Affordable\n",
              "0     3   2.25            1.0  380000       False\n",
              "1     2   1.00            2.0  300000       False"
            ]
          },
          "metadata": {
            "tags": []
          },
          "execution_count": 99
        }
      ]
    },
    {
      "cell_type": "code",
      "metadata": {
        "id": "eUtrdRpjFpez",
        "outputId": "ad04c81d-4d04-4600-ea08-efaac252080c",
        "colab": {
          "base_uri": "https://localhost:8080/",
          "height": 119
        }
      },
      "source": [
        "hypothesis_beds_baths[\"Affordable\"] = hypothesis_beds_baths[\"Affordable\"].astype(int)"
      ],
      "execution_count": 100,
      "outputs": [
        {
          "output_type": "stream",
          "text": [
            "/usr/local/lib/python3.6/dist-packages/ipykernel_launcher.py:1: SettingWithCopyWarning: \n",
            "A value is trying to be set on a copy of a slice from a DataFrame.\n",
            "Try using .loc[row_indexer,col_indexer] = value instead\n",
            "\n",
            "See the caveats in the documentation: https://pandas.pydata.org/pandas-docs/stable/user_guide/indexing.html#returning-a-view-versus-a-copy\n",
            "  \"\"\"Entry point for launching an IPython kernel.\n"
          ],
          "name": "stderr"
        }
      ]
    },
    {
      "cell_type": "code",
      "metadata": {
        "id": "OpDZbxvlORbL",
        "outputId": "3a39fc3e-fb4d-4b4d-a5da-747ad6a2dcdd",
        "colab": {
          "base_uri": "https://localhost:8080/",
          "height": 34
        }
      },
      "source": [
        "affordable_condition = hypothesis_beds_baths[\"Affordable\"]==1\n",
        "affordable = hypothesis_beds_baths[affordable_condition]\n",
        "print(affordable.shape)"
      ],
      "execution_count": 101,
      "outputs": [
        {
          "output_type": "stream",
          "text": [
            "(75, 5)\n"
          ],
          "name": "stdout"
        }
      ]
    },
    {
      "cell_type": "code",
      "metadata": {
        "id": "jdHiCN0JPxxT"
      },
      "source": [
        "affordable_bedbath = [\n",
        "                      round((sum(affordable[\"Ratio_BedBath\"]==0)/75),2),\n",
        "                      round((sum(affordable[\"Ratio_BedBath\"]==1)/75),2),\n",
        "                      round((sum(affordable[\"Ratio_BedBath\"]==2)/75),2),\n",
        "                      round((sum(affordable[\"Ratio_BedBath\"]==3)/75),2),\n",
        "                      round((sum(affordable[\"Ratio_BedBath\"]==4)/75),2),\n",
        "                      round((sum(affordable[\"Ratio_BedBath\"]==5)/75),2)\n",
        "]"
      ],
      "execution_count": 102,
      "outputs": []
    },
    {
      "cell_type": "code",
      "metadata": {
        "id": "RnuGzVzgVUA-",
        "outputId": "3a1a16a1-85f3-404d-b8e5-14d7c71322da",
        "colab": {
          "base_uri": "https://localhost:8080/",
          "height": 299
        }
      },
      "source": [
        "affordable_bedbath\n",
        "x_axis = [0,1,2,3,4,5]\n",
        "plt.plot(x_axis,affordable_bedbath)\n",
        "plt.title('Affordable Properties and Bed/Bath Ratio')\n",
        "plt.xlabel('Ratio of Beds to Baths')\n",
        "plt.ylabel('% of Properties')\n",
        "plt.show()"
      ],
      "execution_count": 170,
      "outputs": [
        {
          "output_type": "display_data",
          "data": {
            "image/png": "[encoded data removed]",
            "text/plain": [
              "<Figure size 432x288 with 1 Axes>"
            ]
          },
          "metadata": {
            "tags": []
          }
        }
      ]
    },
    {
      "cell_type": "code",
      "metadata": {
        "id": "5kESBL15OU26",
        "outputId": "55236cbf-79ea-49b0-da91-e31701095584",
        "colab": {
          "base_uri": "https://localhost:8080/",
          "height": 34
        }
      },
      "source": [
        "not_affordable_condition = hypothesis_beds_baths[\"Affordable\"]==0\n",
        "not_affordable = hypothesis_beds_baths[not_affordable_condition]\n",
        "print(not_affordable.shape)"
      ],
      "execution_count": 104,
      "outputs": [
        {
          "output_type": "stream",
          "text": [
            "(2252, 5)\n"
          ],
          "name": "stdout"
        }
      ]
    },
    {
      "cell_type": "code",
      "metadata": {
        "id": "_MyOxHX_P1Xq"
      },
      "source": [
        "notaffordable_bedbath = [\n",
        "                         round((sum(not_affordable[\"Ratio_BedBath\"]==0)/2252),2),\n",
        "                         round((sum(not_affordable[\"Ratio_BedBath\"]==1)/2252),2),\n",
        "                         round((sum(not_affordable[\"Ratio_BedBath\"]==2)/2252),2),\n",
        "                         round((sum(not_affordable[\"Ratio_BedBath\"]==3)/2252),2),\n",
        "                         round((sum(not_affordable[\"Ratio_BedBath\"]==4)/2252),2),\n",
        "                         round((sum(not_affordable[\"Ratio_BedBath\"]==5)/2252),2)\n",
        "]"
      ],
      "execution_count": 105,
      "outputs": []
    },
    {
      "cell_type": "code",
      "metadata": {
        "id": "ghfiCnsmSr4U",
        "outputId": "2253704f-fad1-4637-89d3-5e1f70402a2d",
        "colab": {
          "base_uri": "https://localhost:8080/",
          "height": 299
        }
      },
      "source": [
        "notaffordable_bedbath\n",
        "x_axis = [0,1,2,3,4,5]\n",
        "plt.plot(x_axis,notaffordable_bedbath)\n",
        "plt.title('Not Affordable')\n",
        "plt.xlabel('Ratio of Beds to Baths')\n",
        "plt.ylabel('% of Properties ')\n",
        "plt.show()"
      ],
      "execution_count": 106,
      "outputs": [
        {
          "output_type": "display_data",
          "data": {
            "image/png": "[encoded data removed]",
            "text/plain": [
              "<Figure size 432x288 with 1 Axes>"
            ]
          },
          "metadata": {
            "tags": []
          }
        }
      ]
    },
    {
      "cell_type": "code",
      "metadata": {
        "id": "1N61KBeoAOG2",
        "outputId": "8e854de0-b1c8-41b0-d632-cecb7f604fa4",
        "colab": {
          "base_uri": "https://localhost:8080/",
          "height": 299
        }
      },
      "source": [
        "affordable_graph = [.01,.61,.33,.04,.0,.0]\n",
        "not_affordable_graph = [.07,.72,.16,.04,.01,.0]\n",
        "x_axis = [0,1,2,3,4,5]\n",
        "plt.plot(x_axis,affordable_graph,color = \"green\")\n",
        "plt.plot(x_axis,not_affordable_graph,color = \"red\")\n",
        "plt.title('Not Affordable')\n",
        "plt.xlabel('Ratio of Beds to Baths')\n",
        "plt.ylabel('% of Properties ')\n",
        "plt.show()"
      ],
      "execution_count": 107,
      "outputs": [
        {
          "output_type": "display_data",
          "data": {
            "image/png": "[encoded data removed]",
            "text/plain": [
              "<Figure size 432x288 with 1 Axes>"
            ]
          },
          "metadata": {
            "tags": []
          }
        }
      ]
    },
    {
      "cell_type": "code",
      "metadata": {
        "id": "Su49GxOpkMVV",
        "outputId": "5d265ec9-7d63-4a1a-ea19-2a67d43988db",
        "colab": {
          "base_uri": "https://localhost:8080/",
          "height": 34
        }
      },
      "source": [
        "#T Test\n",
        "#Bed bath Ratio vs Affordable\n",
        "stats.ttest_ind(hypothesis_beds_baths[\"Ratio_BedBath\"],hypothesis_beds_baths[\"Affordable\"],nan_policy=\"omit\")"
      ],
      "execution_count": 108,
      "outputs": [
        {
          "output_type": "execute_result",
          "data": {
            "text/plain": [
              "Ttest_indResult(statistic=83.32433611766007, pvalue=0.0)"
            ]
          },
          "metadata": {
            "tags": []
          },
          "execution_count": 108
        }
      ]
    },
    {
      "cell_type": "code",
      "metadata": {
        "id": "7HSP5JfAOTK_",
        "outputId": "3fc852a1-6145-463a-b11f-20f295abac04",
        "colab": {
          "base_uri": "https://localhost:8080/",
          "height": 34
        }
      },
      "source": [
        "#Chi Squared\n",
        "#Bed bath Ratio vs Affordable\n",
        "g, p, dof, exptd = stats.chi2_contingency(pd.crosstab(hypothesis_beds_baths[\"Ratio_BedBath\"],hypothesis_beds_baths[\"Affordable\"]))\n",
        "print(p)"
      ],
      "execution_count": 109,
      "outputs": [
        {
          "output_type": "stream",
          "text": [
            "0.0021405145703753243\n"
          ],
          "name": "stdout"
        }
      ]
    },
    {
      "cell_type": "markdown",
      "metadata": {
        "id": "6BwEko1BVrKy"
      },
      "source": [
        "## Ratio of Beds to Baths and Affordability \n",
        "\n",
        "**Null Hypothesis**\n",
        "- The ratio of beds to baths WILL NOT have a statistically signifigant importance to the affordability\n",
        "\n",
        "**Alternative Hypothesis**\n",
        "- The ratio of beds to baths WILL have a statistically signifigant importance to the affordability\n",
        "\n",
        "**Conclusions**\n",
        "- I reject the null hypothesis. "
      ]
    },
    {
      "cell_type": "markdown",
      "metadata": {
        "id": "thGlePxiQkCk"
      },
      "source": [
        "## Square Feet VS Affordability \n",
        "\n",
        "**Null Hypothesis**\n",
        "- Property square footage WILL NOT have a statistically signifigant importance to the affordability of the property.\n",
        "\n",
        "**Alternative Hypothesis**\n",
        "- Property square footage WILL have a statistically signifigant importance to the affordability of the property."
      ]
    },
    {
      "cell_type": "code",
      "metadata": {
        "id": "tQOAnwldSXjy",
        "outputId": "57776813-f14f-4ca3-9690-17e6293498c2",
        "colab": {
          "base_uri": "https://localhost:8080/",
          "height": 34
        }
      },
      "source": [
        "#TTEST\n",
        "stats.ttest_ind(cleaned_data[\"Square_Feet\"],cleaned_data[\"Price\"],nan_policy=\"omit\")"
      ],
      "execution_count": 110,
      "outputs": [
        {
          "output_type": "execute_result",
          "data": {
            "text/plain": [
              "Ttest_indResult(statistic=-63.67556689755124, pvalue=0.0)"
            ]
          },
          "metadata": {
            "tags": []
          },
          "execution_count": 110
        }
      ]
    },
    {
      "cell_type": "code",
      "metadata": {
        "id": "BGR67kxnQrNP",
        "outputId": "810126a3-77ae-4e25-8f89-2f26fefff30a",
        "colab": {
          "base_uri": "https://localhost:8080/",
          "height": 136
        }
      },
      "source": [
        "#Testing to see for each county if the # of square feet affects the property price\n",
        "print(stats.ttest_ind(whatcom[\"Square_Feet\"],whatcom[\"Price\"],nan_policy=\"omit\"))\n",
        "print(stats.ttest_ind(island[\"Square_Feet\"],island[\"Price\"],nan_policy=\"omit\"))\n",
        "print(stats.ttest_ind(skagit[\"Square_Feet\"],skagit[\"Price\"],nan_policy=\"omit\"))\n",
        "print(stats.ttest_ind(snohomish[\"Square_Feet\"],snohomish[\"Price\"],nan_policy=\"omit\"))\n",
        "print(stats.ttest_ind(king[\"Square_Feet\"],king[\"Price\"],nan_policy=\"omit\"))\n",
        "print(stats.ttest_ind(pierce[\"Square_Feet\"],pierce[\"Price\"],nan_policy=\"omit\"))\n",
        "print(stats.ttest_ind(kitsap[\"Square_Feet\"],kitsap[\"Price\"],nan_policy=\"omit\"))"
      ],
      "execution_count": 111,
      "outputs": [
        {
          "output_type": "stream",
          "text": [
            "Ttest_indResult(statistic=-23.726400697704456, pvalue=1.7744958335384768e-89)\n",
            "Ttest_indResult(statistic=-14.71089708652535, pvalue=1.1190780763426392e-37)\n",
            "Ttest_indResult(statistic=-17.424820316179975, pvalue=7.994045722843637e-49)\n",
            "Ttest_indResult(statistic=-34.86386447457153, pvalue=3.664993640068881e-155)\n",
            "Ttest_indResult(statistic=-33.382541122653855, pvalue=9.045327047112022e-162)\n",
            "Ttest_indResult(statistic=-39.91590577036675, pvalue=1.0448117657244607e-188)\n",
            "Ttest_indResult(statistic=-23.96432765688648, pvalue=8.30594247122199e-100)\n"
          ],
          "name": "stdout"
        }
      ]
    },
    {
      "cell_type": "code",
      "metadata": {
        "id": "HRT3EIAAYAyF",
        "outputId": "f86133b4-0bca-4585-cd82-8e88400b3232",
        "colab": {
          "base_uri": "https://localhost:8080/",
          "height": 136
        }
      },
      "source": [
        "#Testing to see for each county if the # of square feet affects affordability\n",
        "print(stats.ttest_ind(whatcom[\"Square_Feet\"],whatcom[\"%Above_Below_Affordable\"],nan_policy=\"omit\"))\n",
        "print(stats.ttest_ind(island[\"Square_Feet\"],island[\"%Above_Below_Affordable\"],nan_policy=\"omit\"))\n",
        "print(stats.ttest_ind(skagit[\"Square_Feet\"],skagit[\"%Above_Below_Affordable\"],nan_policy=\"omit\"))\n",
        "print(stats.ttest_ind(snohomish[\"Square_Feet\"],snohomish[\"%Above_Below_Affordable\"],nan_policy=\"omit\"))\n",
        "print(stats.ttest_ind(king[\"Square_Feet\"],king[\"%Above_Below_Affordable\"],nan_policy=\"omit\"))\n",
        "print(stats.ttest_ind(pierce[\"Square_Feet\"],pierce[\"%Above_Below_Affordable\"],nan_policy=\"omit\"))\n",
        "print(stats.ttest_ind(kitsap[\"Square_Feet\"],kitsap[\"%Above_Below_Affordable\"],nan_policy=\"omit\"))"
      ],
      "execution_count": 112,
      "outputs": [
        {
          "output_type": "stream",
          "text": [
            "Ttest_indResult(statistic=31.13116503495322, pvalue=1.0867046884529359e-129)\n",
            "Ttest_indResult(statistic=24.06871048174971, pvalue=1.926857098419046e-73)\n",
            "Ttest_indResult(statistic=24.867743919420008, pvalue=5.436084467628367e-78)\n",
            "Ttest_indResult(statistic=41.69900432597129, pvalue=6.678287959871945e-192)\n",
            "Ttest_indResult(statistic=41.03552102559405, pvalue=9.442789828239086e-212)\n",
            "Ttest_indResult(statistic=43.710001379228956, pvalue=1.3611306205666264e-209)\n",
            "Ttest_indResult(statistic=48.1617170013549, pvalue=4.091847566650264e-258)\n"
          ],
          "name": "stdout"
        }
      ]
    },
    {
      "cell_type": "code",
      "metadata": {
        "id": "y6-UH6S65OJ3"
      },
      "source": [
        "average_sqft = [\n",
        "    whatcom[\"Square_Feet\"].mean(),\n",
        "    island[\"Square_Feet\"].mean(),\n",
        "    skagit[\"Square_Feet\"].mean(),\n",
        "    snohomish[\"Square_Feet\"].mean(),\n",
        "    king[\"Square_Feet\"].mean(),\n",
        "    pierce[\"Square_Feet\"].mean(),\n",
        "    kitsap[\"Square_Feet\"].mean()\n",
        "]"
      ],
      "execution_count": 173,
      "outputs": []
    },
    {
      "cell_type": "code",
      "metadata": {
        "id": "5fHD0q3lXKOV"
      },
      "source": [
        "min_sqft = [\n",
        "    whatcom[\"Square_Feet\"].min(),\n",
        "    island[\"Square_Feet\"].min(),\n",
        "    skagit[\"Square_Feet\"].min(),\n",
        "    snohomish[\"Square_Feet\"].min(),\n",
        "    king[\"Square_Feet\"].min(),\n",
        "    pierce[\"Square_Feet\"].min(),\n",
        "    kitsap[\"Square_Feet\"].min()\n",
        "    ]"
      ],
      "execution_count": 255,
      "outputs": []
    },
    {
      "cell_type": "code",
      "metadata": {
        "id": "z3IXVXZyXN0V"
      },
      "source": [
        "max_sqft = [\n",
        "    whatcom[\"Square_Feet\"].max(),\n",
        "    island[\"Square_Feet\"].max(),\n",
        "    skagit[\"Square_Feet\"].max(),\n",
        "    snohomish[\"Square_Feet\"].max(),\n",
        "    king[\"Square_Feet\"].max(),\n",
        "    pierce[\"Square_Feet\"].max(),\n",
        "    kitsap[\"Square_Feet\"].max()\n",
        "    ]"
      ],
      "execution_count": 256,
      "outputs": []
    },
    {
      "cell_type": "code",
      "metadata": {
        "id": "7U1pHBTt6NSo",
        "outputId": "b6270b95-3843-4278-93e9-46ed2000a93c",
        "colab": {
          "base_uri": "https://localhost:8080/",
          "height": 299
        }
      },
      "source": [
        "%matplotlib inline\n",
        "plt.style.use('ggplot')\n",
        "\n",
        "x = [\"Whatcom\",\"Island\",\"Skagit\",\"Snohomish\",\"King\",\"Pierce\",\"Kitsap\"]\n",
        "y = average_sqft\n",
        "\n",
        "x_pos = [i for i, _ in enumerate(x)]\n",
        "\n",
        "plt.bar(x_pos, y, color='green')\n",
        "plt.xlabel(\"County North to South\")\n",
        "plt.ylabel(\"Average Square Feet\")\n",
        "plt.title(\"Average Square Feet by County\")\n",
        "\n",
        "plt.xticks(x_pos, x)\n",
        "\n",
        "plt.show()"
      ],
      "execution_count": 174,
      "outputs": [
        {
          "output_type": "display_data",
          "data": {
            "image/png": "[encoded data removed]",
            "text/plain": [
              "<Figure size 432x288 with 1 Axes>"
            ]
          },
          "metadata": {
            "tags": []
          }
        }
      ]
    },
    {
      "cell_type": "code",
      "metadata": {
        "id": "0cS9MnHiXnr6",
        "outputId": "1b97e7c9-f182-4aff-86a9-87fa2bca0218",
        "colab": {
          "base_uri": "https://localhost:8080/",
          "height": 299
        }
      },
      "source": [
        "%matplotlib inline\n",
        "plt.style.use('ggplot')\n",
        "\n",
        "x = [\"Whatcom\",\"Island\",\"Skagit\",\"Snohomish\",\"King\",\"Pierce\",\"Kitsap\"]\n",
        "ymin = min_sqft\n",
        "ymax = max_sqft\n",
        "x_pos = [i for i, _ in enumerate(x)]\n",
        "\n",
        "plt.bar(x_pos, ymin, color='green')\n",
        "plt.bar(x_pos, ymax, color='green')\n",
        "plt.xlabel(\"County North to South\")\n",
        "plt.ylabel(\"Average Square Feet\")\n",
        "plt.title(\"Average Square Feet by County\")\n",
        "\n",
        "plt.xticks(x_pos, x)\n",
        "\n",
        "plt.show()"
      ],
      "execution_count": 258,
      "outputs": [
        {
          "output_type": "display_data",
          "data": {
            "image/png": "[encoded data removed]",
            "text/plain": [
              "<Figure size 432x288 with 1 Axes>"
            ]
          },
          "metadata": {
            "tags": []
          }
        }
      ]
    },
    {
      "cell_type": "code",
      "metadata": {
        "id": "8A9r6IcXB4Y3",
        "outputId": "aa6e7f5f-73d5-4541-fbcc-ac54a6a5c9a7",
        "colab": {
          "base_uri": "https://localhost:8080/",
          "height": 34
        }
      },
      "source": [
        "affordable_condition = cleaned_data[\"Affordable\"]==1\n",
        "square_feet = cleaned_data[affordable_condition]"
      ],
      "execution_count": 189,
      "outputs": [
        {
          "output_type": "execute_result",
          "data": {
            "text/plain": [
              "(75, 28)"
            ]
          },
          "metadata": {
            "tags": []
          },
          "execution_count": 189
        }
      ]
    },
    {
      "cell_type": "code",
      "metadata": {
        "id": "wDU6SM2lL-8C"
      },
      "source": [
        "square_feet = square_feet.sort_values(\"Square_Feet\")"
      ],
      "execution_count": 224,
      "outputs": []
    },
    {
      "cell_type": "code",
      "metadata": {
        "id": "YizlKm8GaR5F",
        "outputId": "b0f27ca5-0792-471b-bdb1-4a9f540a1144",
        "colab": {
          "base_uri": "https://localhost:8080/",
          "height": 299
        }
      },
      "source": [
        "%matplotlib inline\n",
        "plt.style.use('ggplot')\n",
        "\n",
        "x = square_feet[\"Square_Feet\"]\n",
        "y = square_feet[\"Price\"]\n",
        "\n",
        "#x_pos = [i for i, _ in enumerate(x)]\n",
        "\n",
        "plt.scatter(x, y, color='green')\n",
        "plt.xlabel(\"Square Feet\")\n",
        "plt.ylabel(\"Price\")\n",
        "plt.title(\"Price and Square Feet of Affordable Properties\")\n",
        "\n",
        "#plt.xticks(x_pos, x)\n",
        "\n",
        "plt.show()"
      ],
      "execution_count": 226,
      "outputs": [
        {
          "output_type": "display_data",
          "data": {
            "image/png": "[encoded data removed]",
            "text/plain": [
              "<Figure size 432x288 with 1 Axes>"
            ]
          },
          "metadata": {
            "tags": []
          }
        }
      ]
    },
    {
      "cell_type": "markdown",
      "metadata": {
        "id": "gsbw4Ix_Qrcy"
      },
      "source": [
        "## Square Feet VS Affordability \n",
        "\n",
        "**Null Hypothesis**\n",
        "- Property square footage WILL NOT have a statistically signifigant importance to the affordability of the property.\n",
        "\n",
        "**Alternative Hypothesis**\n",
        "- Property square footage WILL have a statistically signifigant importance to the affordability of the property.\n",
        "\n",
        "**Conclusions**\n",
        "- I reject the null hypothesis"
      ]
    },
    {
      "cell_type": "markdown",
      "metadata": {
        "id": "3dXJ03yBSb3b"
      },
      "source": [
        "## $ Per Square Feet VS Affordability\n",
        "\n",
        "**Null Hypothesis**\n",
        "\n",
        "- $/Sq. Feet WILL NOT have a statistically signifigant importance to the affordability of the property.\n",
        "\n",
        "**Alternative Hypothesis**\n",
        "\n",
        "- $/Sq. Feet WILL have a statistically signifigant importance to the affordability of the property."
      ]
    },
    {
      "cell_type": "code",
      "metadata": {
        "id": "NKUtXGi6Sbgq",
        "outputId": "a9b4103a-dc46-4b6d-836e-986ac5e78c34",
        "colab": {
          "base_uri": "https://localhost:8080/",
          "height": 34
        }
      },
      "source": [
        "##TTEST\n",
        "stats.ttest_ind(cleaned_data[\"$/Square_Feet\"],cleaned_data[\"Price\"],nan_policy=\"omit\")"
      ],
      "execution_count": 114,
      "outputs": [
        {
          "output_type": "execute_result",
          "data": {
            "text/plain": [
              "Ttest_indResult(statistic=-63.85185539723664, pvalue=0.0)"
            ]
          },
          "metadata": {
            "tags": []
          },
          "execution_count": 114
        }
      ]
    },
    {
      "cell_type": "code",
      "metadata": {
        "id": "diw_yQ1TZb_v",
        "outputId": "262c2b40-81d7-4a61-f91e-e0fd132da3c9",
        "colab": {
          "base_uri": "https://localhost:8080/",
          "height": 136
        }
      },
      "source": [
        "#Testing to see for each county if the $/Square_Feet affects the property price\n",
        "print(stats.ttest_ind(whatcom[\"$/Square_Feet\"],whatcom[\"Price\"],nan_policy=\"omit\"))\n",
        "print(stats.ttest_ind(island[\"$/Square_Feet\"],island[\"Price\"],nan_policy=\"omit\"))\n",
        "print(stats.ttest_ind(skagit[\"$/Square_Feet\"],skagit[\"Price\"],nan_policy=\"omit\"))\n",
        "print(stats.ttest_ind(snohomish[\"$/Square_Feet\"],snohomish[\"Price\"],nan_policy=\"omit\"))\n",
        "print(stats.ttest_ind(king[\"$/Square_Feet\"],king[\"Price\"],nan_policy=\"omit\"))\n",
        "print(stats.ttest_ind(pierce[\"$/Square_Feet\"],pierce[\"Price\"],nan_policy=\"omit\"))\n",
        "print(stats.ttest_ind(kitsap[\"$/Square_Feet\"],kitsap[\"Price\"],nan_policy=\"omit\"))"
      ],
      "execution_count": 115,
      "outputs": [
        {
          "output_type": "stream",
          "text": [
            "Ttest_indResult(statistic=-23.7996086132995, pvalue=7.069102781195934e-90)\n",
            "Ttest_indResult(statistic=-14.746133745443101, pvalue=8.215003701018275e-38)\n",
            "Ttest_indResult(statistic=-17.476217244198494, pvalue=4.9929138601172336e-49)\n",
            "Ttest_indResult(statistic=-34.962854069135645, pvalue=1.0377773942888452e-155)\n",
            "Ttest_indResult(statistic=-33.44831420448085, pvalue=3.309489284430281e-162)\n",
            "Ttest_indResult(statistic=-40.06302476915104, pvalue=1.568268028519503e-189)\n",
            "Ttest_indResult(statistic=-24.038111553737547, pvalue=2.7432842142891447e-100)\n"
          ],
          "name": "stdout"
        }
      ]
    },
    {
      "cell_type": "code",
      "metadata": {
        "id": "T7mBi3GRZppb",
        "outputId": "7b7bffd0-645f-4926-dcf6-e3981b96a7ee",
        "colab": {
          "base_uri": "https://localhost:8080/",
          "height": 136
        }
      },
      "source": [
        "#Testing to see for each county if the $/Square_Feet affects affordability\n",
        "print(stats.ttest_ind(whatcom[\"$/Square_Feet\"],whatcom[\"%Above_Below_Affordable\"],nan_policy=\"omit\"))\n",
        "print(stats.ttest_ind(island[\"$/Square_Feet\"],island[\"%Above_Below_Affordable\"],nan_policy=\"omit\"))\n",
        "print(stats.ttest_ind(skagit[\"$/Square_Feet\"],skagit[\"%Above_Below_Affordable\"],nan_policy=\"omit\"))\n",
        "print(stats.ttest_ind(snohomish[\"$/Square_Feet\"],snohomish[\"%Above_Below_Affordable\"],nan_policy=\"omit\"))\n",
        "print(stats.ttest_ind(king[\"$/Square_Feet\"],king[\"%Above_Below_Affordable\"],nan_policy=\"omit\"))\n",
        "print(stats.ttest_ind(pierce[\"$/Square_Feet\"],pierce[\"%Above_Below_Affordable\"],nan_policy=\"omit\"))\n",
        "print(stats.ttest_ind(kitsap[\"$/Square_Feet\"],kitsap[\"%Above_Below_Affordable\"],nan_policy=\"omit\"))"
      ],
      "execution_count": 116,
      "outputs": [
        {
          "output_type": "stream",
          "text": [
            "Ttest_indResult(statistic=36.67785650793629, pvalue=1.134491008716685e-158)\n",
            "Ttest_indResult(statistic=19.039742068263724, pvalue=2.244808945649447e-54)\n",
            "Ttest_indResult(statistic=35.577904089759244, pvalue=1.1954159149945108e-115)\n",
            "Ttest_indResult(statistic=59.66789025237594, pvalue=9.997042268345618e-277)\n",
            "Ttest_indResult(statistic=58.7907748338214, pvalue=3.835835e-317)\n",
            "Ttest_indResult(statistic=54.16558523402685, pvalue=3.7635880738848846e-263)\n",
            "Ttest_indResult(statistic=47.36103938327297, pvalue=3.357342475875656e-253)\n"
          ],
          "name": "stdout"
        }
      ]
    },
    {
      "cell_type": "code",
      "metadata": {
        "id": "lBiKosJgU8yQ"
      },
      "source": [
        "per_sqfoot = [\n",
        "              whatcom[\"$/Square_Feet\"].mean(),\n",
        "              island[\"$/Square_Feet\"].mean(),\n",
        "              skagit[\"$/Square_Feet\"].mean(),\n",
        "              snohomish[\"$/Square_Feet\"].mean(),\n",
        "              king[\"$/Square_Feet\"].mean(),\n",
        "              pierce[\"$/Square_Feet\"].mean(),\n",
        "              kitsap[\"$/Square_Feet\"].mean(),\n",
        "]"
      ],
      "execution_count": 250,
      "outputs": []
    },
    {
      "cell_type": "code",
      "metadata": {
        "id": "Yu0t9vdKaT87",
        "outputId": "19380417-bc03-4279-ce6e-5be6deed4724",
        "colab": {
          "base_uri": "https://localhost:8080/",
          "height": 299
        }
      },
      "source": [
        "%matplotlib inline\n",
        "plt.style.use('ggplot')\n",
        "\n",
        "x = [\"Whatcom\",\"Island\",\"Skagit\",\"Snohomish\",\"King\",\"Pierce\",\"Kitsap\"]\n",
        "y = per_sqfoot\n",
        "\n",
        "x_pos = [i for i, _ in enumerate(x)]\n",
        "\n",
        "plt.bar(x_pos, y, color='green')\n",
        "plt.xlabel(\"County North to South\")\n",
        "plt.ylabel(\"$ Per Square Foot\")\n",
        "plt.title(\"$ Per Square Foot by County\")\n",
        "\n",
        "plt.xticks(x_pos, x)\n",
        "\n",
        "plt.show()"
      ],
      "execution_count": 252,
      "outputs": [
        {
          "output_type": "display_data",
          "data": {
            "image/png": "[encoded data removed]",
            "text/plain": [
              "<Figure size 432x288 with 1 Axes>"
            ]
          },
          "metadata": {
            "tags": []
          }
        }
      ]
    },
    {
      "cell_type": "markdown",
      "metadata": {
        "id": "CWrkQdPSS1xl"
      },
      "source": [
        "## $ Per Square Feet VS Affordability\n",
        "\n",
        "**Null Hypothesis**\n",
        "\n",
        "- $/Sq. Feet WILL NOT have a statistically signifigant importance to the affordability of the property.\n",
        "\n",
        "**Alternative Hypothesis**\n",
        "\n",
        "- $/Sq. Feet WILL have a statistically signifigant importance to the affordability of the property.\n",
        "\n",
        "**Conclusions**\n",
        "- I reject the null hypothesis"
      ]
    },
    {
      "cell_type": "markdown",
      "metadata": {
        "id": "empmUFbR-3k_"
      },
      "source": [
        "## County VS Property Price\n",
        "\n",
        "**Null Hypothesis**\n",
        "- The county where the property is located DOES NOT have a statistically signifigant impact on the affordability of the property.\n",
        "\n",
        "**Alternative Hypothesis**\n",
        "- The county where the property is located DOES have a statistically signifigant impact on the affordability of the property."
      ]
    },
    {
      "cell_type": "code",
      "metadata": {
        "id": "yoFKAcwUQFgs",
        "outputId": "d6dc2048-c4fa-43dd-f3d4-d079c8f2f452",
        "colab": {
          "base_uri": "https://localhost:8080/",
          "height": 221
        }
      },
      "source": [
        "hypothesis_county[\"Affordable\"] = hypothesis_county[\"Affordable\"].astype(int)\n",
        "hypothesis_county[\"Affordable_Seattle_Mean_Income\"] = hypothesis_county[\"Affordable_Seattle_Mean_Income\"].astype(int)"
      ],
      "execution_count": 118,
      "outputs": [
        {
          "output_type": "stream",
          "text": [
            "/usr/local/lib/python3.6/dist-packages/ipykernel_launcher.py:1: SettingWithCopyWarning: \n",
            "A value is trying to be set on a copy of a slice from a DataFrame.\n",
            "Try using .loc[row_indexer,col_indexer] = value instead\n",
            "\n",
            "See the caveats in the documentation: https://pandas.pydata.org/pandas-docs/stable/user_guide/indexing.html#returning-a-view-versus-a-copy\n",
            "  \"\"\"Entry point for launching an IPython kernel.\n",
            "/usr/local/lib/python3.6/dist-packages/ipykernel_launcher.py:2: SettingWithCopyWarning: \n",
            "A value is trying to be set on a copy of a slice from a DataFrame.\n",
            "Try using .loc[row_indexer,col_indexer] = value instead\n",
            "\n",
            "See the caveats in the documentation: https://pandas.pydata.org/pandas-docs/stable/user_guide/indexing.html#returning-a-view-versus-a-copy\n",
            "  \n"
          ],
          "name": "stderr"
        }
      ]
    },
    {
      "cell_type": "code",
      "metadata": {
        "id": "Gd-lm2azUi7I"
      },
      "source": [
        "county_affordable_properties = [ (round((sum(whatcom[\"Affordable\"]==1)/75),2)),\n",
        "                                round((sum(island[\"Affordable\"]==1)/75),2),\n",
        "                                round((sum(skagit[\"Affordable\"]==1)/75),2),\n",
        "                                round((sum(snohomish[\"Affordable\"]==1)/75),2),\n",
        "                                round((sum(king[\"Affordable\"]==1)/75),2),\n",
        "                                round((sum(pierce[\"Affordable\"]==1)/75),2),\n",
        "                                round((sum(kitsap[\"Affordable\"]==1)/75),2)]"
      ],
      "execution_count": 119,
      "outputs": []
    },
    {
      "cell_type": "code",
      "metadata": {
        "id": "K0MFPUvZXbM9",
        "outputId": "47a9e5e8-ab8f-46e0-ac51-5c4b34071e3c",
        "colab": {
          "base_uri": "https://localhost:8080/",
          "height": 299
        }
      },
      "source": [
        "%matplotlib inline\n",
        "plt.style.use('ggplot')\n",
        "\n",
        "x = [\"Whatcom\",\"Island\",\"Skagit\",\"Snohomish\",\"King\",\"Pierce\",\"Kitsap\"]\n",
        "y = county_affordable_properties\n",
        "\n",
        "x_pos = [i for i, _ in enumerate(x)]\n",
        "\n",
        "plt.bar(x_pos, y, color='green')\n",
        "plt.xlabel(\"County North to South\")\n",
        "plt.ylabel(\"% of Properties\")\n",
        "plt.title(\"Affordable for County Workers\")\n",
        "\n",
        "plt.xticks(x_pos, x)\n",
        "\n",
        "plt.show()"
      ],
      "execution_count": 263,
      "outputs": [
        {
          "output_type": "display_data",
          "data": {
            "image/png": "[encoded data removed]",
            "text/plain": [
              "<Figure size 432x288 with 1 Axes>"
            ]
          },
          "metadata": {
            "tags": []
          }
        }
      ]
    },
    {
      "cell_type": "code",
      "metadata": {
        "id": "9LWrdzsLYQOb"
      },
      "source": [
        "seattle_affordable_properties = [ (round((sum(whatcom[\"Affordable_Seattle_Mean_Income\"]==1)/128),2)),\n",
        "                                round((sum(island[\"Affordable_Seattle_Mean_Income\"]==1)/128),2),\n",
        "                                round((sum(skagit[\"Affordable_Seattle_Mean_Income\"]==1)/128),2),\n",
        "                                round((sum(snohomish[\"Affordable_Seattle_Mean_Income\"]==1)/128),2),\n",
        "                                round((sum(king[\"Affordable_Seattle_Mean_Income\"]==1)/128),2),\n",
        "                                round((sum(pierce[\"Affordable_Seattle_Mean_Income\"]==1)/128),2),\n",
        "                                round((sum(kitsap[\"Affordable_Seattle_Mean_Income\"]==1)/128),2)]"
      ],
      "execution_count": 121,
      "outputs": []
    },
    {
      "cell_type": "code",
      "metadata": {
        "id": "wYwyyjnmYH3X",
        "outputId": "790e5bb2-e3c1-4a58-c814-beee91a40152",
        "colab": {
          "base_uri": "https://localhost:8080/",
          "height": 299
        }
      },
      "source": [
        "%matplotlib inline\n",
        "plt.style.use('ggplot')\n",
        "\n",
        "x = [\"Whatcom\",\"Island\",\"Skagit\",\"Snohomish\",\"King\",\"Pierce\",\"Kitsap\"]\n",
        "y = seattle_affordable_properties\n",
        "\n",
        "x_pos = [i for i, _ in enumerate(x)]\n",
        "\n",
        "plt.bar(x_pos, y, color='green')\n",
        "plt.xlabel(\"County North to South\")\n",
        "plt.ylabel(\"% of Properties\")\n",
        "plt.title(\"Affordable For Seattle Workers\")\n",
        "\n",
        "plt.xticks(x_pos, x)\n",
        "\n",
        "plt.show()"
      ],
      "execution_count": 122,
      "outputs": [
        {
          "output_type": "display_data",
          "data": {
            "image/png": "[encoded data removed]",
            "text/plain": [
              "<Figure size 432x288 with 1 Axes>"
            ]
          },
          "metadata": {
            "tags": []
          }
        }
      ]
    },
    {
      "cell_type": "code",
      "metadata": {
        "id": "6xidKMq_Yn4h",
        "outputId": "292b6d05-2eaf-458b-e36f-b731f61de672",
        "colab": {
          "base_uri": "https://localhost:8080/",
          "height": 282
        }
      },
      "source": [
        "N = 7\n",
        "county = county_affordable_properties\n",
        "seattle = seattle_affordable_properties\n",
        "\n",
        "ind = np.arange(N) \n",
        "width = 0.35       \n",
        "plt.bar(ind, county, width,label= \"County\")\n",
        "plt.bar(ind + width, seattle, width,label= \"Seattle\")\n",
        "\n",
        "plt.ylabel('% of Properties')\n",
        "plt.title('Not Affordable for County vs Seattle Workers')\n",
        "\n",
        "plt.xticks(ind + width / 2, (\"Whatcom\",\"Island\",\"Skagit\",\"Snohomish\",\"King\",\"Pierce\",\"Kitsap\"))\n",
        "plt.legend(loc='best')\n",
        "plt.show()"
      ],
      "execution_count": 123,
      "outputs": [
        {
          "output_type": "display_data",
          "data": {
            "image/png": "[encoded data removed]",
            "text/plain": [
              "<Figure size 432x288 with 1 Axes>"
            ]
          },
          "metadata": {
            "tags": []
          }
        }
      ]
    },
    {
      "cell_type": "code",
      "metadata": {
        "id": "Vk2zXh7lYxUA"
      },
      "source": [
        "county_notaffordable_properties = [ (round((sum(whatcom[\"Affordable\"]==0)/(len(whatcom))),2)),\n",
        "                                round((sum(island[\"Affordable\"]==0)/(len(island))),2),\n",
        "                                round((sum(skagit[\"Affordable\"]==0)/(len(skagit))),2),\n",
        "                                round((sum(snohomish[\"Affordable\"]==0)/(len(snohomish))),2),\n",
        "                                round((sum(king[\"Affordable\"]==0)/(len(king))),2),\n",
        "                                round((sum(pierce[\"Affordable\"]==0)/(len(pierce))),2),\n",
        "                                round((sum(kitsap[\"Affordable\"]==0)/(len(kitsap))),2)]"
      ],
      "execution_count": 124,
      "outputs": []
    },
    {
      "cell_type": "code",
      "metadata": {
        "id": "IOKTcfqiZ3-K"
      },
      "source": [
        "seattle_notaffordable_properties = [ (round((sum(whatcom[\"Affordable_Seattle_Mean_Income\"]==0)/(len(whatcom))),2)),\n",
        "                                round((sum(island[\"Affordable_Seattle_Mean_Income\"]==0)/(len(island))),2),\n",
        "                                round((sum(skagit[\"Affordable_Seattle_Mean_Income\"]==0)/(len(skagit))),2),\n",
        "                                round((sum(snohomish[\"Affordable_Seattle_Mean_Income\"]==0)/(len(snohomish))),2),\n",
        "                                round((sum(king[\"Affordable_Seattle_Mean_Income\"]==0)/(len(king))),2),\n",
        "                                round((sum(pierce[\"Affordable_Seattle_Mean_Income\"]==0)/(len(pierce))),2),\n",
        "                                round((sum(kitsap[\"Affordable_Seattle_Mean_Income\"]==0)/(len(kitsap))),2)]"
      ],
      "execution_count": 125,
      "outputs": []
    },
    {
      "cell_type": "code",
      "metadata": {
        "id": "gkPshqlNa5-f",
        "outputId": "7e6b0923-9ef3-492f-9b44-da6ec114e055",
        "colab": {
          "base_uri": "https://localhost:8080/",
          "height": 299
        }
      },
      "source": [
        "%matplotlib inline\n",
        "plt.style.use('ggplot')\n",
        "\n",
        "x = [\"Whatcom\",\"Island\",\"Skagit\",\"Snohomish\",\"King\",\"Pierce\",\"Kitsap\"]\n",
        "y = county_notaffordable_properties\n",
        "\n",
        "x_pos = [i for i, _ in enumerate(x)]\n",
        "\n",
        "plt.bar(x_pos, y, color='green')\n",
        "plt.xlabel(\"County North to South\")\n",
        "plt.ylabel(\"% of Properties\")\n",
        "plt.title(\"Not Affordable\")\n",
        "\n",
        "plt.xticks(x_pos, x)\n",
        "\n",
        "plt.show()"
      ],
      "execution_count": 126,
      "outputs": [
        {
          "output_type": "display_data",
          "data": {
            "image/png": "[encoded data removed]",
            "text/plain": [
              "<Figure size 432x288 with 1 Axes>"
            ]
          },
          "metadata": {
            "tags": []
          }
        }
      ]
    },
    {
      "cell_type": "code",
      "metadata": {
        "id": "LJatxGiqbLv6",
        "outputId": "745b4eb7-a0c9-4b50-ab2d-075193abf4ec",
        "colab": {
          "base_uri": "https://localhost:8080/",
          "height": 299
        }
      },
      "source": [
        "%matplotlib inline\n",
        "plt.style.use('ggplot')\n",
        "\n",
        "x = [\"Whatcom\",\"Island\",\"Skagit\",\"Snohomish\",\"King\",\"Pierce\",\"Kitsap\"]\n",
        "y = seattle_notaffordable_properties\n",
        "\n",
        "x_pos = [i for i, _ in enumerate(x)]\n",
        "\n",
        "plt.bar(x_pos, y, color='green')\n",
        "plt.xlabel(\"County North to South\")\n",
        "plt.ylabel(\"% of Properties\")\n",
        "plt.title(\"Not Affordable For Seattle Workers\")\n",
        "\n",
        "plt.xticks(x_pos, x)\n",
        "\n",
        "plt.show()"
      ],
      "execution_count": 127,
      "outputs": [
        {
          "output_type": "display_data",
          "data": {
            "image/png": "[encoded data removed]",
            "text/plain": [
              "<Figure size 432x288 with 1 Axes>"
            ]
          },
          "metadata": {
            "tags": []
          }
        }
      ]
    },
    {
      "cell_type": "code",
      "metadata": {
        "id": "NMvTyAUMbiU4",
        "outputId": "20d5273c-6a5f-43b8-aca9-29421d5397fd",
        "colab": {
          "base_uri": "https://localhost:8080/",
          "height": 282
        }
      },
      "source": [
        "N = 7\n",
        "county = county_notaffordable_properties\n",
        "seattle = seattle_notaffordable_properties\n",
        "\n",
        "ind = np.arange(N) \n",
        "width = 0.35       \n",
        "plt.bar(ind, county, width,label= \"County\")\n",
        "plt.bar(ind + width, seattle, width,label= \"Seattle\")\n",
        "\n",
        "plt.ylabel('% of Properties')\n",
        "plt.title('Not Affordable for County vs Seattle Workers')\n",
        "\n",
        "plt.xticks(ind + width / 2, (\"Whatcom\",\"Island\",\"Skagit\",\"Snohomish\",\"King\",\"Pierce\",\"Kitsap\"))\n",
        "plt.legend(loc='best')\n",
        "plt.show()"
      ],
      "execution_count": 128,
      "outputs": [
        {
          "output_type": "display_data",
          "data": {
            "image/png": "[encoded data removed]",
            "text/plain": [
              "<Figure size 432x288 with 1 Axes>"
            ]
          },
          "metadata": {
            "tags": []
          }
        }
      ]
    },
    {
      "cell_type": "code",
      "metadata": {
        "id": "Qy11L69qdEKc",
        "outputId": "c4c5f03a-263c-47b0-c41a-366337d9aa4a",
        "colab": {
          "base_uri": "https://localhost:8080/",
          "height": 282
        }
      },
      "source": [
        "N = 7\n",
        "county = county_notaffordable_properties\n",
        "seattle = seattle_notaffordable_properties\n",
        "\n",
        "county_na = county_notaffordable_properties\n",
        "seattle_na = seattle_notaffordable_properties\n",
        "\n",
        "ind = np.arange(N) \n",
        "width = 0.25       \n",
        "plt.bar(ind, county, width,label= \"County\")\n",
        "plt.bar(ind + width, seattle, width,label= \"Seattle\")\n",
        "plt.bar(ind + width*2, county_na, width,label= \"County Not Affordable\")\n",
        "plt.bar(ind + width*3, seattle_na, width,label= \"Seattle Not Affordable\")\n",
        "\n",
        "plt.ylabel('% of Properties')\n",
        "plt.title('County vs Seattle Workers')\n",
        "\n",
        "plt.xticks(ind + width / 2, (\"Whatcom\",\"Island\",\"Skagit\",\"Snohomish\",\"King\",\"Pierce\",\"Kitsap\"))\n",
        "plt.legend(loc='best')\n",
        "plt.show()"
      ],
      "execution_count": 129,
      "outputs": [
        {
          "output_type": "display_data",
          "data": {
            "image/png": "[encoded data removed]",
            "text/plain": [
              "<Figure size 432x288 with 1 Axes>"
            ]
          },
          "metadata": {
            "tags": []
          }
        }
      ]
    },
    {
      "cell_type": "code",
      "metadata": {
        "id": "-COQluuBkzd8",
        "outputId": "cdb8a5d8-1d92-407e-8531-06a0472a15b8",
        "colab": {
          "base_uri": "https://localhost:8080/",
          "height": 299
        }
      },
      "source": [
        "seattle_notaffordable_properties\n",
        "county_notaffordable_properties\n",
        "county_affordable_properties\n",
        "seattle_affordable_properties\n",
        "x_axis = [\"Whatcom\",\"Island\",\"Skagit\",\"Snohomish\",\"King\",\"Pierce\",\"Kitsap\"]\n",
        "plt.plot(x_axis,county_affordable_properties,color= \"green\")\n",
        "plt.plot(x_axis,seattle_notaffordable_properties,color = \"teal\")\n",
        "plt.plot(x_axis,county_notaffordable_properties,color = \"red\")\n",
        "plt.plot(x_axis,seattle_affordable_properties, color = \"blue\")\n",
        "plt.title('County and Affordability')\n",
        "plt.xlabel('County North to South')\n",
        "plt.ylabel('% of Properties')\n",
        "plt.show()"
      ],
      "execution_count": 130,
      "outputs": [
        {
          "output_type": "display_data",
          "data": {
            "image/png": "[encoded data removed]",
            "text/plain": [
              "<Figure size 432x288 with 1 Axes>"
            ]
          },
          "metadata": {
            "tags": []
          }
        }
      ]
    },
    {
      "cell_type": "code",
      "metadata": {
        "id": "mx9Uw-YdkR6-",
        "outputId": "b17a7942-8d89-42eb-e2e5-856f0ef80b3c",
        "colab": {
          "base_uri": "https://localhost:8080/",
          "height": 34
        }
      },
      "source": [
        "#T Test\n",
        "#% Above Below Affordable for county workers vs seattle workers\n",
        "#Affordable for county workers vs seattle workers\n",
        "#Not Affordable for county workers vs seattle workers\n",
        "stats.ttest_ind(hypothesis_county[\"County\"],hypothesis_county[\"Affordable\"],nan_policy=\"omit\")"
      ],
      "execution_count": 131,
      "outputs": [
        {
          "output_type": "execute_result",
          "data": {
            "text/plain": [
              "Ttest_indResult(statistic=74.97625495076291, pvalue=0.0)"
            ]
          },
          "metadata": {
            "tags": []
          },
          "execution_count": 131
        }
      ]
    },
    {
      "cell_type": "code",
      "metadata": {
        "id": "mmsI7foxcEPi",
        "outputId": "d6bae2f9-aaa6-47cb-8421-a87b5a70a55d",
        "colab": {
          "base_uri": "https://localhost:8080/",
          "height": 34
        }
      },
      "source": [
        "stats.ttest_ind(hypothesis_county[\"County\"],hypothesis_county[\"Affordable_Seattle_Mean_Income\"],nan_policy=\"omit\")"
      ],
      "execution_count": 132,
      "outputs": [
        {
          "output_type": "execute_result",
          "data": {
            "text/plain": [
              "Ttest_indResult(statistic=74.17815756743612, pvalue=0.0)"
            ]
          },
          "metadata": {
            "tags": []
          },
          "execution_count": 132
        }
      ]
    },
    {
      "cell_type": "code",
      "metadata": {
        "id": "RrzLgKWhf2uS"
      },
      "source": [
        "#pd.crosstab(index = hypothesis_county[\"%Above_Below_Affordable\"], columns = hypothesis_county[\"County\"], normalize= \"index\")"
      ],
      "execution_count": 133,
      "outputs": []
    },
    {
      "cell_type": "code",
      "metadata": {
        "id": "6ZKY4c6ictSW",
        "outputId": "7684eefe-ba01-419a-b128-a6e040c474e7",
        "colab": {
          "base_uri": "https://localhost:8080/",
          "height": 34
        }
      },
      "source": [
        "g, p, dof, exptd = stats.chi2_contingency(pd.crosstab(hypothesis_county[\"County\"],hypothesis_county[\"%Above_Below_Affordable\"]))\n",
        "print(p)"
      ],
      "execution_count": 134,
      "outputs": [
        {
          "output_type": "stream",
          "text": [
            "8.427492082444081e-47\n"
          ],
          "name": "stdout"
        }
      ]
    },
    {
      "cell_type": "code",
      "metadata": {
        "id": "r23jPa_Gc2yF",
        "outputId": "aaa7a0e2-116c-4284-dd31-bc8a9d2bbe0f",
        "colab": {
          "base_uri": "https://localhost:8080/",
          "height": 34
        }
      },
      "source": [
        "g, p, dof, exptd = stats.chi2_contingency(pd.crosstab(hypothesis_county[\"County\"],hypothesis_county[\"Seattle%AboveBelow_Affordable\"]))\n",
        "print(p)"
      ],
      "execution_count": 135,
      "outputs": [
        {
          "output_type": "stream",
          "text": [
            "1.8270386302398578e-36\n"
          ],
          "name": "stdout"
        }
      ]
    },
    {
      "cell_type": "markdown",
      "metadata": {
        "id": "KTfx3H1nfNFi"
      },
      "source": [
        "## County VS Property Price\n",
        "\n",
        "**Null Hypothesis**\n",
        "\n",
        "The county where the property is located DOES NOT have a statistically signifigant impact on the affordability of the property.\n",
        "\n",
        "**Alternative Hypothesis**\n",
        "\n",
        "The county where the property is located DOES have a statistically signifigant impact on the affordability of the property.\n",
        "\n",
        "**Conclusions**\n",
        "\n",
        "I reject the null hypothesis. "
      ]
    },
    {
      "cell_type": "markdown",
      "metadata": {
        "id": "SP5Bdb9U5Qhb"
      },
      "source": [
        "## Mean Income by County VS County Property Price\n",
        "\n",
        "**Null Hypothesis** \n",
        "- The County Mean Income will NOT have an effect on the County mean property price\n",
        "\n",
        "**Alternative Hypothesis**\n",
        "- The County Mean Income will NOT have an effect on the County mean property price"
      ]
    },
    {
      "cell_type": "code",
      "metadata": {
        "id": "6QGS5JVwBoq4"
      },
      "source": [
        "county_mean_income = [\n",
        "                  round(whatcom[\"Mean_Income\"].mean(),2),\n",
        "                  round(island[\"Mean_Income\"].mean(),2),\n",
        "                  round(skagit[\"Mean_Income\"].mean(),2),\n",
        "                  round(snohomish[\"Mean_Income\"].mean(),2),\n",
        "                  round(king[\"Mean_Income\"].mean(),2),\n",
        "                  round(pierce[\"Mean_Income\"].mean(),2),\n",
        "                  round(kitsap[\"Mean_Income\"].mean(),2)\n",
        "]"
      ],
      "execution_count": 136,
      "outputs": []
    },
    {
      "cell_type": "code",
      "metadata": {
        "id": "o1R7brwC9Oq-"
      },
      "source": [
        "county_mean_ns = [\n",
        "                  round(whatcom[\"Price\"].mean(),2),\n",
        "                  round(island[\"Price\"].mean(),2),\n",
        "                  round(skagit[\"Price\"].mean(),2),\n",
        "                  round(snohomish[\"Price\"].mean(),2),\n",
        "                  round(king[\"Price\"].mean(),2),\n",
        "                  round(pierce[\"Price\"].mean(),2),\n",
        "                  round(kitsap[\"Price\"].mean(),2)\n",
        "]"
      ],
      "execution_count": 137,
      "outputs": []
    },
    {
      "cell_type": "code",
      "metadata": {
        "id": "_CkhHgMSSJpM",
        "outputId": "d74b244a-6f63-49a9-f129-5fc774e7b21d",
        "colab": {
          "base_uri": "https://localhost:8080/",
          "height": 299
        }
      },
      "source": [
        "%matplotlib inline\n",
        "plt.style.use('ggplot')\n",
        "\n",
        "x = [\"Whatcom\",\"Island\",\"Skagit\",\"Snohomish\",\"King\",\"Pierce\",\"Kitsap\"]\n",
        "y = county_mean_ns\n",
        "\n",
        "x_pos = [i for i, _ in enumerate(x)]\n",
        "\n",
        "plt.bar(x_pos, y, color='blue')\n",
        "plt.xlabel(\"County North to South\")\n",
        "plt.ylabel(\"Price\")\n",
        "plt.title(\"County and Average Property Price\")\n",
        "\n",
        "plt.xticks(x_pos, x)\n",
        "\n",
        "plt.show()"
      ],
      "execution_count": 138,
      "outputs": [
        {
          "output_type": "display_data",
          "data": {
            "image/png": "[encoded data removed]",
            "text/plain": [
              "<Figure size 432x288 with 1 Axes>"
            ]
          },
          "metadata": {
            "tags": []
          }
        }
      ]
    },
    {
      "cell_type": "code",
      "metadata": {
        "id": "NrbYMxD2Smj8",
        "outputId": "f8905b06-5cba-46e4-8d6d-abdef3d8600b",
        "colab": {
          "base_uri": "https://localhost:8080/",
          "height": 299
        }
      },
      "source": [
        "%matplotlib inline\n",
        "plt.style.use('ggplot')\n",
        "\n",
        "x = [\"Whatcom\",\"Island\",\"Skagit\",\"Snohomish\",\"King\",\"Pierce\",\"Kitsap\"]\n",
        "y = county_mean_income\n",
        "\n",
        "x_pos = [i for i, _ in enumerate(x)]\n",
        "\n",
        "plt.bar(x_pos, y, color='green')\n",
        "plt.xlabel('County North to South')\n",
        "plt.ylabel('Mean Income')\n",
        "plt.title(\"County and Mean Income\")\n",
        "\n",
        "plt.xticks(x_pos, x)\n",
        "\n",
        "plt.show()"
      ],
      "execution_count": 139,
      "outputs": [
        {
          "output_type": "display_data",
          "data": {
            "image/png": "[encoded data removed]",
            "text/plain": [
              "<Figure size 432x288 with 1 Axes>"
            ]
          },
          "metadata": {
            "tags": []
          }
        }
      ]
    },
    {
      "cell_type": "code",
      "metadata": {
        "id": "PWnyOPRaJUHl",
        "outputId": "b3af70d9-2b7a-40a5-cbfe-ed177881b353",
        "colab": {
          "base_uri": "https://localhost:8080/",
          "height": 301
        }
      },
      "source": [
        "%matplotlib inline\n",
        "plt.style.use('ggplot')\n",
        "\n",
        "x = [\"Whatcom\",\"Island\",\"Skagit\",\"Snohomish\",\"King\",\"Pierce\",\"Kitsap\"]\n",
        "x_pos = [i for i, _ in enumerate(x)]\n",
        "\n",
        "county_mean_ns\n",
        "county_mean_income\n",
        "\n",
        "plt.subplot(2,1,1)\n",
        "plt.bar(x_pos, county_mean_ns, color='blue')\n",
        "plt.ylabel('Property Average Price')\n",
        "\n",
        "plt.xticks(x_pos, x)\n",
        "\n",
        "plt.subplot(2,1,2)\n",
        "\n",
        "Mean_Income = plt.bar(x_pos, county_mean_income, color='green')\n",
        "plt.xlabel('County North to South')\n",
        "plt.ylabel('Mean Income')\n",
        "\n",
        "plt.xticks(x_pos, x)\n",
        "\n",
        "plt.show()"
      ],
      "execution_count": 140,
      "outputs": [
        {
          "output_type": "display_data",
          "data": {
            "image/png": "[encoded data removed]",
            "text/plain": [
              "<Figure size 432x288 with 2 Axes>"
            ]
          },
          "metadata": {
            "tags": []
          }
        }
      ]
    },
    {
      "cell_type": "code",
      "metadata": {
        "id": "2xa8SIwnW2lv"
      },
      "source": [
        "#Chi Squared "
      ],
      "execution_count": 141,
      "outputs": []
    },
    {
      "cell_type": "markdown",
      "metadata": {
        "id": "nADdMuZdeDQ-"
      },
      "source": [
        "## Mean Income by County VS County Property Price\n",
        "\n",
        "**Null Hypothesis** \n",
        "- The County Mean Income will NOT have an effect on the County mean property price\n",
        "\n",
        "**Alternative Hypothesis**\n",
        "- The County Mean Income will NOT have an effect on the County mean property price\n",
        "\n",
        "**Conclusions**\n",
        "- ."
      ]
    },
    {
      "cell_type": "markdown",
      "metadata": {
        "id": "fDyMdEvg6RES"
      },
      "source": [
        "# Visualizations"
      ]
    },
    {
      "cell_type": "code",
      "metadata": {
        "id": "8GEbSwXbtb8M"
      },
      "source": [
        "#mean income north to south"
      ],
      "execution_count": 142,
      "outputs": []
    },
    {
      "cell_type": "code",
      "metadata": {
        "id": "Stgcuynxyo5H"
      },
      "source": [
        "#Graph to show percentage mortgage, home maintenance, insurance, property tax is out of a total budget"
      ],
      "execution_count": 143,
      "outputs": []
    },
    {
      "cell_type": "code",
      "metadata": {
        "id": "kq_AbZ0cBBaj"
      },
      "source": [
        "visualization1 = cleaned_data[['Price','Mortgage','Property_Tax_Rate','%For_Home_Maintenance','Affordable']]"
      ],
      "execution_count": 144,
      "outputs": []
    },
    {
      "cell_type": "code",
      "metadata": {
        "id": "e3rf5r64CIDK",
        "outputId": "8afb5de8-a694-46c1-fd43-182004e91fc8",
        "colab": {
          "base_uri": "https://localhost:8080/",
          "height": 111
        }
      },
      "source": [
        "visualization1.head(2)"
      ],
      "execution_count": 145,
      "outputs": [
        {
          "output_type": "execute_result",
          "data": {
            "text/html": [
              "<div>\n",
              "<style scoped>\n",
              "    .dataframe tbody tr th:only-of-type {\n",
              "        vertical-align: middle;\n",
              "    }\n",
              "\n",
              "    .dataframe tbody tr th {\n",
              "        vertical-align: top;\n",
              "    }\n",
              "\n",
              "    .dataframe thead th {\n",
              "        text-align: right;\n",
              "    }\n",
              "</style>\n",
              "<table border=\"1\" class=\"dataframe\">\n",
              "  <thead>\n",
              "    <tr style=\"text-align: right;\">\n",
              "      <th></th>\n",
              "      <th>Price</th>\n",
              "      <th>Mortgage</th>\n",
              "      <th>Property_Tax_Rate</th>\n",
              "      <th>%For_Home_Maintenance</th>\n",
              "      <th>Affordable</th>\n",
              "    </tr>\n",
              "  </thead>\n",
              "  <tbody>\n",
              "    <tr>\n",
              "      <th>0</th>\n",
              "      <td>380000</td>\n",
              "      <td>1281.66</td>\n",
              "      <td>0.0101</td>\n",
              "      <td>0.04</td>\n",
              "      <td>False</td>\n",
              "    </tr>\n",
              "    <tr>\n",
              "      <th>1</th>\n",
              "      <td>300000</td>\n",
              "      <td>1011.84</td>\n",
              "      <td>0.0101</td>\n",
              "      <td>0.04</td>\n",
              "      <td>False</td>\n",
              "    </tr>\n",
              "  </tbody>\n",
              "</table>\n",
              "</div>"
            ],
            "text/plain": [
              "    Price  Mortgage  Property_Tax_Rate  %For_Home_Maintenance  Affordable\n",
              "0  380000   1281.66             0.0101                   0.04       False\n",
              "1  300000   1011.84             0.0101                   0.04       False"
            ]
          },
          "metadata": {
            "tags": []
          },
          "execution_count": 145
        }
      ]
    },
    {
      "cell_type": "code",
      "metadata": {
        "id": "xuUf2nndCMfR",
        "outputId": "51b2a4cb-a330-4dd7-d015-0cba6db06ff0",
        "colab": {
          "base_uri": "https://localhost:8080/",
          "height": 119
        }
      },
      "source": [
        "visualization1[\"Insurance\"] = round((visualization1['Price']*.01)/12,2)"
      ],
      "execution_count": 146,
      "outputs": [
        {
          "output_type": "stream",
          "text": [
            "/usr/local/lib/python3.6/dist-packages/ipykernel_launcher.py:1: SettingWithCopyWarning: \n",
            "A value is trying to be set on a copy of a slice from a DataFrame.\n",
            "Try using .loc[row_indexer,col_indexer] = value instead\n",
            "\n",
            "See the caveats in the documentation: https://pandas.pydata.org/pandas-docs/stable/user_guide/indexing.html#returning-a-view-versus-a-copy\n",
            "  \"\"\"Entry point for launching an IPython kernel.\n"
          ],
          "name": "stderr"
        }
      ]
    },
    {
      "cell_type": "code",
      "metadata": {
        "id": "3XLr7GgtCXJ-",
        "outputId": "16d584b6-5c42-484f-ef45-e74c0c41758b",
        "colab": {
          "base_uri": "https://localhost:8080/",
          "height": 119
        }
      },
      "source": [
        "visualization1[\"Property_Tax\"] = round((visualization1['Price']*visualization1['Property_Tax_Rate'])/12,2)"
      ],
      "execution_count": 147,
      "outputs": [
        {
          "output_type": "stream",
          "text": [
            "/usr/local/lib/python3.6/dist-packages/ipykernel_launcher.py:1: SettingWithCopyWarning: \n",
            "A value is trying to be set on a copy of a slice from a DataFrame.\n",
            "Try using .loc[row_indexer,col_indexer] = value instead\n",
            "\n",
            "See the caveats in the documentation: https://pandas.pydata.org/pandas-docs/stable/user_guide/indexing.html#returning-a-view-versus-a-copy\n",
            "  \"\"\"Entry point for launching an IPython kernel.\n"
          ],
          "name": "stderr"
        }
      ]
    },
    {
      "cell_type": "code",
      "metadata": {
        "id": "fPI1KuSYCcXp",
        "outputId": "d97390cd-6e78-4dc5-eee7-803312c1749d",
        "colab": {
          "base_uri": "https://localhost:8080/",
          "height": 119
        }
      },
      "source": [
        "visualization1[\"Home_Maintenance\"] = round((visualization1['Price']*visualization1['%For_Home_Maintenance'])/12,2)"
      ],
      "execution_count": 148,
      "outputs": [
        {
          "output_type": "stream",
          "text": [
            "/usr/local/lib/python3.6/dist-packages/ipykernel_launcher.py:1: SettingWithCopyWarning: \n",
            "A value is trying to be set on a copy of a slice from a DataFrame.\n",
            "Try using .loc[row_indexer,col_indexer] = value instead\n",
            "\n",
            "See the caveats in the documentation: https://pandas.pydata.org/pandas-docs/stable/user_guide/indexing.html#returning-a-view-versus-a-copy\n",
            "  \"\"\"Entry point for launching an IPython kernel.\n"
          ],
          "name": "stderr"
        }
      ]
    },
    {
      "cell_type": "code",
      "metadata": {
        "id": "nktvXIkiDnux",
        "outputId": "d6bbb03b-b2a2-49d7-f4fd-468d338345b0",
        "colab": {
          "base_uri": "https://localhost:8080/",
          "height": 119
        }
      },
      "source": [
        "visualization1[\"Cost_of_Home_Ownership\"] = visualization1['Mortgage']+visualization1['Property_Tax']+visualization1['Insurance']+visualization1['Home_Maintenance']"
      ],
      "execution_count": 149,
      "outputs": [
        {
          "output_type": "stream",
          "text": [
            "/usr/local/lib/python3.6/dist-packages/ipykernel_launcher.py:1: SettingWithCopyWarning: \n",
            "A value is trying to be set on a copy of a slice from a DataFrame.\n",
            "Try using .loc[row_indexer,col_indexer] = value instead\n",
            "\n",
            "See the caveats in the documentation: https://pandas.pydata.org/pandas-docs/stable/user_guide/indexing.html#returning-a-view-versus-a-copy\n",
            "  \"\"\"Entry point for launching an IPython kernel.\n"
          ],
          "name": "stderr"
        }
      ]
    },
    {
      "cell_type": "code",
      "metadata": {
        "id": "-ioVuwNPEDQo",
        "outputId": "6f2ba9ed-2105-4393-cc2f-1017559a757b",
        "colab": {
          "base_uri": "https://localhost:8080/",
          "height": 119
        }
      },
      "source": [
        "visualization1['Budget_to_Afford'] = round(visualization1['Cost_of_Home_Ownership']*(100/30),2)"
      ],
      "execution_count": 150,
      "outputs": [
        {
          "output_type": "stream",
          "text": [
            "/usr/local/lib/python3.6/dist-packages/ipykernel_launcher.py:1: SettingWithCopyWarning: \n",
            "A value is trying to be set on a copy of a slice from a DataFrame.\n",
            "Try using .loc[row_indexer,col_indexer] = value instead\n",
            "\n",
            "See the caveats in the documentation: https://pandas.pydata.org/pandas-docs/stable/user_guide/indexing.html#returning-a-view-versus-a-copy\n",
            "  \"\"\"Entry point for launching an IPython kernel.\n"
          ],
          "name": "stderr"
        }
      ]
    },
    {
      "cell_type": "code",
      "metadata": {
        "id": "9rSrD_28FAA9"
      },
      "source": [
        "visualization1 = visualization1.drop(['Property_Tax_Rate','%For_Home_Maintenance'],axis=1);"
      ],
      "execution_count": 151,
      "outputs": []
    },
    {
      "cell_type": "code",
      "metadata": {
        "id": "1vN6mcvWGiHV"
      },
      "source": [
        "visualization1['Budget_Minus_Housing'] = visualization1['Budget_to_Afford']-visualization1['Cost_of_Home_Ownership']"
      ],
      "execution_count": 152,
      "outputs": []
    },
    {
      "cell_type": "code",
      "metadata": {
        "id": "Pd_t-KcHDCwZ",
        "outputId": "0005025a-f1e4-4ff6-8f6c-0a32855db4cf",
        "colab": {
          "base_uri": "https://localhost:8080/",
          "height": 111
        }
      },
      "source": [
        "visualization1.head(2)"
      ],
      "execution_count": 153,
      "outputs": [
        {
          "output_type": "execute_result",
          "data": {
            "text/html": [
              "<div>\n",
              "<style scoped>\n",
              "    .dataframe tbody tr th:only-of-type {\n",
              "        vertical-align: middle;\n",
              "    }\n",
              "\n",
              "    .dataframe tbody tr th {\n",
              "        vertical-align: top;\n",
              "    }\n",
              "\n",
              "    .dataframe thead th {\n",
              "        text-align: right;\n",
              "    }\n",
              "</style>\n",
              "<table border=\"1\" class=\"dataframe\">\n",
              "  <thead>\n",
              "    <tr style=\"text-align: right;\">\n",
              "      <th></th>\n",
              "      <th>Price</th>\n",
              "      <th>Mortgage</th>\n",
              "      <th>Affordable</th>\n",
              "      <th>Insurance</th>\n",
              "      <th>Property_Tax</th>\n",
              "      <th>Home_Maintenance</th>\n",
              "      <th>Cost_of_Home_Ownership</th>\n",
              "      <th>Budget_to_Afford</th>\n",
              "      <th>Budget_Minus_Housing</th>\n",
              "    </tr>\n",
              "  </thead>\n",
              "  <tbody>\n",
              "    <tr>\n",
              "      <th>0</th>\n",
              "      <td>380000</td>\n",
              "      <td>1281.66</td>\n",
              "      <td>False</td>\n",
              "      <td>316.67</td>\n",
              "      <td>319.83</td>\n",
              "      <td>1266.67</td>\n",
              "      <td>3184.83</td>\n",
              "      <td>10616.10</td>\n",
              "      <td>7431.27</td>\n",
              "    </tr>\n",
              "    <tr>\n",
              "      <th>1</th>\n",
              "      <td>300000</td>\n",
              "      <td>1011.84</td>\n",
              "      <td>False</td>\n",
              "      <td>250.00</td>\n",
              "      <td>252.50</td>\n",
              "      <td>1000.00</td>\n",
              "      <td>2514.34</td>\n",
              "      <td>8381.13</td>\n",
              "      <td>5866.79</td>\n",
              "    </tr>\n",
              "  </tbody>\n",
              "</table>\n",
              "</div>"
            ],
            "text/plain": [
              "    Price  Mortgage  ...  Budget_to_Afford  Budget_Minus_Housing\n",
              "0  380000   1281.66  ...          10616.10               7431.27\n",
              "1  300000   1011.84  ...           8381.13               5866.79\n",
              "\n",
              "[2 rows x 9 columns]"
            ]
          },
          "metadata": {
            "tags": []
          },
          "execution_count": 153
        }
      ]
    },
    {
      "cell_type": "code",
      "metadata": {
        "id": "yo-caG_PF9Zp",
        "outputId": "38a35f6a-d9d2-4fb6-9189-faecd4884c55",
        "colab": {
          "base_uri": "https://localhost:8080/",
          "height": 248
        }
      },
      "source": [
        "labels = 'Mortgage','Insurance','Property Tax','Home Maintenance','Misc'\n",
        "sizes = [1281.66, 316.67, 319.83, 1266.67, 7431.27]\n",
        "explode = (.1,0,0,0,0)\n",
        "\n",
        "fig1, ax1 = plt.subplots()\n",
        "ax1.pie(sizes, explode=explode, labels=labels, autopct='%1.1f%%',\n",
        "        shadow=True, startangle=90)\n",
        "ax1.axis('equal')\n",
        "\n",
        "plt.show();"
      ],
      "execution_count": 154,
      "outputs": [
        {
          "output_type": "display_data",
          "data": {
            "image/png": "[encoded data removed]",
            "text/plain": [
              "<Figure size 432x288 with 1 Axes>"
            ]
          },
          "metadata": {
            "tags": []
          }
        }
      ]
    },
    {
      "cell_type": "code",
      "metadata": {
        "id": "Q1Hq4C1IIzAL",
        "outputId": "089f8e31-4994-4e1d-d376-5f0b7b0e859c",
        "colab": {
          "base_uri": "https://localhost:8080/",
          "height": 299
        }
      },
      "source": [
        "#as a home ages the % for home maintenance increases as well\n",
        "\n",
        "y_axis = ['1%','1.5%','2%','2.5%','3%','3.5%','4%','4%']\n",
        "x_axis = [\"New\",'4','8','12','16','20','24','25']\n",
        "\n",
        "plt.plot(x_axis,y_axis,color=\"red\")\n",
        "\n",
        "plt.title('Maintenance Cost Goes up as Properties Age')\n",
        "plt.xlabel('Age of Properties')\n",
        "plt.ylabel('Percentage for Home Maintenance')\n",
        "\n",
        "plt.show()"
      ],
      "execution_count": 155,
      "outputs": [
        {
          "output_type": "display_data",
          "data": {
            "image/png": "[encoded data removed]",
            "text/plain": [
              "<Figure size 432x288 with 1 Axes>"
            ]
          },
          "metadata": {
            "tags": []
          }
        }
      ]
    },
    {
      "cell_type": "code",
      "metadata": {
        "id": "AS-67kf4MGTN",
        "outputId": "d9d56c01-ed65-48dd-d23b-78e5eb09ba33",
        "colab": {
          "base_uri": "https://localhost:8080/",
          "height": 165
        }
      },
      "source": [
        "cleaned_data.head(2)"
      ],
      "execution_count": 156,
      "outputs": [
        {
          "output_type": "execute_result",
          "data": {
            "text/html": [
              "<div>\n",
              "<style scoped>\n",
              "    .dataframe tbody tr th:only-of-type {\n",
              "        vertical-align: middle;\n",
              "    }\n",
              "\n",
              "    .dataframe tbody tr th {\n",
              "        vertical-align: top;\n",
              "    }\n",
              "\n",
              "    .dataframe thead th {\n",
              "        text-align: right;\n",
              "    }\n",
              "</style>\n",
              "<table border=\"1\" class=\"dataframe\">\n",
              "  <thead>\n",
              "    <tr style=\"text-align: right;\">\n",
              "      <th></th>\n",
              "      <th>MLS#</th>\n",
              "      <th>County</th>\n",
              "      <th>County_Name</th>\n",
              "      <th>City</th>\n",
              "      <th>City_Name</th>\n",
              "      <th>Zipcode</th>\n",
              "      <th>Lot_Size</th>\n",
              "      <th>Square_Feet</th>\n",
              "      <th>$/Square_Feet</th>\n",
              "      <th>Beds</th>\n",
              "      <th>Baths</th>\n",
              "      <th>Ratio_BedBath</th>\n",
              "      <th>Year_Built</th>\n",
              "      <th>Price</th>\n",
              "      <th>Property_Tax_Rate</th>\n",
              "      <th>Mean_Income</th>\n",
              "      <th>Age</th>\n",
              "      <th>%For_Home_Maintenance</th>\n",
              "      <th>Financed$</th>\n",
              "      <th>Mortgage</th>\n",
              "      <th>Total%_Cost_To_Own</th>\n",
              "      <th>Total$_Cost_To_Own</th>\n",
              "      <th>Income_Req_To_Afford</th>\n",
              "      <th>Affordable</th>\n",
              "      <th>Cost_to_Own%of_Mean_Income</th>\n",
              "      <th>%Above_Below_Affordable</th>\n",
              "      <th>Affordable_Seattle_Mean_Income</th>\n",
              "      <th>Seattle%AboveBelow_Affordable</th>\n",
              "    </tr>\n",
              "  </thead>\n",
              "  <tbody>\n",
              "    <tr>\n",
              "      <th>0</th>\n",
              "      <td>1666770</td>\n",
              "      <td>4</td>\n",
              "      <td>Skagit</td>\n",
              "      <td>80</td>\n",
              "      <td>Mount Vernon</td>\n",
              "      <td>98273</td>\n",
              "      <td>4792</td>\n",
              "      <td>1540</td>\n",
              "      <td>247</td>\n",
              "      <td>3</td>\n",
              "      <td>2.25</td>\n",
              "      <td>1.0</td>\n",
              "      <td>1970</td>\n",
              "      <td>380000</td>\n",
              "      <td>0.0101</td>\n",
              "      <td>70955</td>\n",
              "      <td>50</td>\n",
              "      <td>0.04</td>\n",
              "      <td>304000</td>\n",
              "      <td>1281.66</td>\n",
              "      <td>0.0601</td>\n",
              "      <td>3184.83</td>\n",
              "      <td>127393.2</td>\n",
              "      <td>False</td>\n",
              "      <td>0.538623</td>\n",
              "      <td>0.24</td>\n",
              "      <td>False</td>\n",
              "      <td>0.10</td>\n",
              "    </tr>\n",
              "    <tr>\n",
              "      <th>1</th>\n",
              "      <td>1670882</td>\n",
              "      <td>4</td>\n",
              "      <td>Skagit</td>\n",
              "      <td>80</td>\n",
              "      <td>Mount Vernon</td>\n",
              "      <td>98273</td>\n",
              "      <td>4972</td>\n",
              "      <td>916</td>\n",
              "      <td>328</td>\n",
              "      <td>2</td>\n",
              "      <td>1.00</td>\n",
              "      <td>2.0</td>\n",
              "      <td>1970</td>\n",
              "      <td>300000</td>\n",
              "      <td>0.0101</td>\n",
              "      <td>70955</td>\n",
              "      <td>50</td>\n",
              "      <td>0.04</td>\n",
              "      <td>240000</td>\n",
              "      <td>1011.84</td>\n",
              "      <td>0.0601</td>\n",
              "      <td>2514.34</td>\n",
              "      <td>100573.6</td>\n",
              "      <td>False</td>\n",
              "      <td>0.425228</td>\n",
              "      <td>0.13</td>\n",
              "      <td>False</td>\n",
              "      <td>0.02</td>\n",
              "    </tr>\n",
              "  </tbody>\n",
              "</table>\n",
              "</div>"
            ],
            "text/plain": [
              "      MLS#  ...  Seattle%AboveBelow_Affordable\n",
              "0  1666770  ...                           0.10\n",
              "1  1670882  ...                           0.02\n",
              "\n",
              "[2 rows x 28 columns]"
            ]
          },
          "metadata": {
            "tags": []
          },
          "execution_count": 156
        }
      ]
    },
    {
      "cell_type": "code",
      "metadata": {
        "id": "N188IdRJN-J2"
      },
      "source": [
        "blogdata = cleaned_data[['Beds','Baths','Ratio_BedBath','Year_Built','Price','Mortgage','Affordable']]"
      ],
      "execution_count": 157,
      "outputs": []
    },
    {
      "cell_type": "code",
      "metadata": {
        "id": "TE594-wGOVH3",
        "outputId": "78c9704f-8286-4cb9-e043-0bf41c96309f",
        "colab": {
          "base_uri": "https://localhost:8080/",
          "height": 111
        }
      },
      "source": [
        "blogdata.head(2)"
      ],
      "execution_count": 158,
      "outputs": [
        {
          "output_type": "execute_result",
          "data": {
            "text/html": [
              "<div>\n",
              "<style scoped>\n",
              "    .dataframe tbody tr th:only-of-type {\n",
              "        vertical-align: middle;\n",
              "    }\n",
              "\n",
              "    .dataframe tbody tr th {\n",
              "        vertical-align: top;\n",
              "    }\n",
              "\n",
              "    .dataframe thead th {\n",
              "        text-align: right;\n",
              "    }\n",
              "</style>\n",
              "<table border=\"1\" class=\"dataframe\">\n",
              "  <thead>\n",
              "    <tr style=\"text-align: right;\">\n",
              "      <th></th>\n",
              "      <th>Beds</th>\n",
              "      <th>Baths</th>\n",
              "      <th>Ratio_BedBath</th>\n",
              "      <th>Year_Built</th>\n",
              "      <th>Price</th>\n",
              "      <th>Mortgage</th>\n",
              "      <th>Affordable</th>\n",
              "    </tr>\n",
              "  </thead>\n",
              "  <tbody>\n",
              "    <tr>\n",
              "      <th>0</th>\n",
              "      <td>3</td>\n",
              "      <td>2.25</td>\n",
              "      <td>1.0</td>\n",
              "      <td>1970</td>\n",
              "      <td>380000</td>\n",
              "      <td>1281.66</td>\n",
              "      <td>False</td>\n",
              "    </tr>\n",
              "    <tr>\n",
              "      <th>1</th>\n",
              "      <td>2</td>\n",
              "      <td>1.00</td>\n",
              "      <td>2.0</td>\n",
              "      <td>1970</td>\n",
              "      <td>300000</td>\n",
              "      <td>1011.84</td>\n",
              "      <td>False</td>\n",
              "    </tr>\n",
              "  </tbody>\n",
              "</table>\n",
              "</div>"
            ],
            "text/plain": [
              "   Beds  Baths  Ratio_BedBath  Year_Built   Price  Mortgage  Affordable\n",
              "0     3   2.25            1.0        1970  380000   1281.66       False\n",
              "1     2   1.00            2.0        1970  300000   1011.84       False"
            ]
          },
          "metadata": {
            "tags": []
          },
          "execution_count": 158
        }
      ]
    },
    {
      "cell_type": "code",
      "metadata": {
        "id": "u_lMw8H6OXjN",
        "outputId": "4c37e962-1c17-423b-c174-c832c829e475",
        "colab": {
          "base_uri": "https://localhost:8080/",
          "height": 136
        }
      },
      "source": [
        "np.where(blogdata[\"Affordable\"])[0]"
      ],
      "execution_count": 159,
      "outputs": [
        {
          "output_type": "execute_result",
          "data": {
            "text/plain": [
              "array([ 150,  158,  161,  163,  165,  201,  207,  302,  303,  368,  369,\n",
              "        409,  420,  450,  451,  452,  453,  459,  460,  498,  499,  511,\n",
              "        523,  524,  527,  529,  530,  534,  544,  572,  585,  819,  820,\n",
              "        821,  825,  826,  827,  828,  829,  830,  831,  839,  841,  842,\n",
              "        857, 1087, 1089, 1145, 1146, 1238, 1243, 1271, 1311, 1401, 1641,\n",
              "       1643, 1660, 1686, 1705, 1767, 1774, 1783, 1797, 1800, 1809, 1819,\n",
              "       1868, 1945, 1948, 1949, 2012, 2104, 2145, 2178, 2267])"
            ]
          },
          "metadata": {
            "tags": []
          },
          "execution_count": 159
        }
      ]
    },
    {
      "cell_type": "code",
      "metadata": {
        "id": "F4DKHzLqOnB8"
      },
      "source": [
        "blogdata = blogdata[160:168]"
      ],
      "execution_count": 160,
      "outputs": []
    },
    {
      "cell_type": "code",
      "metadata": {
        "id": "JYqO-3v5QVvL"
      },
      "source": [
        "blogdata = blogdata.reset_index();"
      ],
      "execution_count": 161,
      "outputs": []
    },
    {
      "cell_type": "code",
      "metadata": {
        "id": "aTrD1WK_Qw8b"
      },
      "source": [
        "blogdata = blogdata.drop(\"index\",axis=1)"
      ],
      "execution_count": 162,
      "outputs": []
    },
    {
      "cell_type": "code",
      "metadata": {
        "id": "0sKeSNsMQjkZ"
      },
      "source": [
        "blogdata.columns = ['Beds', 'Baths', 'Ratio of Beds to Baths', 'Year Built', 'Price', 'Mortgage',\n",
        "       'Affordable']"
      ],
      "execution_count": 163,
      "outputs": []
    },
    {
      "cell_type": "code",
      "metadata": {
        "id": "N9RW1G8KRO6P",
        "outputId": "66813c6e-41b5-4e94-e971-dbb5729faa5f",
        "colab": {
          "base_uri": "https://localhost:8080/",
          "height": 204
        }
      },
      "source": [
        "blogdata.head()"
      ],
      "execution_count": 164,
      "outputs": [
        {
          "output_type": "execute_result",
          "data": {
            "text/html": [
              "<div>\n",
              "<style scoped>\n",
              "    .dataframe tbody tr th:only-of-type {\n",
              "        vertical-align: middle;\n",
              "    }\n",
              "\n",
              "    .dataframe tbody tr th {\n",
              "        vertical-align: top;\n",
              "    }\n",
              "\n",
              "    .dataframe thead th {\n",
              "        text-align: right;\n",
              "    }\n",
              "</style>\n",
              "<table border=\"1\" class=\"dataframe\">\n",
              "  <thead>\n",
              "    <tr style=\"text-align: right;\">\n",
              "      <th></th>\n",
              "      <th>Beds</th>\n",
              "      <th>Baths</th>\n",
              "      <th>Ratio of Beds to Baths</th>\n",
              "      <th>Year Built</th>\n",
              "      <th>Price</th>\n",
              "      <th>Mortgage</th>\n",
              "      <th>Affordable</th>\n",
              "    </tr>\n",
              "  </thead>\n",
              "  <tbody>\n",
              "    <tr>\n",
              "      <th>0</th>\n",
              "      <td>3</td>\n",
              "      <td>2.0</td>\n",
              "      <td>1.0</td>\n",
              "      <td>1970</td>\n",
              "      <td>325000</td>\n",
              "      <td>1096.16</td>\n",
              "      <td>False</td>\n",
              "    </tr>\n",
              "    <tr>\n",
              "      <th>1</th>\n",
              "      <td>1</td>\n",
              "      <td>1.0</td>\n",
              "      <td>1.0</td>\n",
              "      <td>1970</td>\n",
              "      <td>180000</td>\n",
              "      <td>607.10</td>\n",
              "      <td>True</td>\n",
              "    </tr>\n",
              "    <tr>\n",
              "      <th>2</th>\n",
              "      <td>3</td>\n",
              "      <td>2.0</td>\n",
              "      <td>1.0</td>\n",
              "      <td>1970</td>\n",
              "      <td>450000</td>\n",
              "      <td>1517.76</td>\n",
              "      <td>False</td>\n",
              "    </tr>\n",
              "    <tr>\n",
              "      <th>3</th>\n",
              "      <td>3</td>\n",
              "      <td>1.5</td>\n",
              "      <td>2.0</td>\n",
              "      <td>1970</td>\n",
              "      <td>199000</td>\n",
              "      <td>671.19</td>\n",
              "      <td>True</td>\n",
              "    </tr>\n",
              "    <tr>\n",
              "      <th>4</th>\n",
              "      <td>3</td>\n",
              "      <td>2.0</td>\n",
              "      <td>1.0</td>\n",
              "      <td>1970</td>\n",
              "      <td>699000</td>\n",
              "      <td>2357.59</td>\n",
              "      <td>False</td>\n",
              "    </tr>\n",
              "  </tbody>\n",
              "</table>\n",
              "</div>"
            ],
            "text/plain": [
              "   Beds  Baths  Ratio of Beds to Baths  ...   Price  Mortgage  Affordable\n",
              "0     3    2.0                     1.0  ...  325000   1096.16       False\n",
              "1     1    1.0                     1.0  ...  180000    607.10        True\n",
              "2     3    2.0                     1.0  ...  450000   1517.76       False\n",
              "3     3    1.5                     2.0  ...  199000    671.19        True\n",
              "4     3    2.0                     1.0  ...  699000   2357.59       False\n",
              "\n",
              "[5 rows x 7 columns]"
            ]
          },
          "metadata": {
            "tags": []
          },
          "execution_count": 164
        }
      ]
    },
    {
      "cell_type": "code",
      "metadata": {
        "id": "q8NEUk8O0SLd",
        "outputId": "632e9513-3894-43c6-b6cc-cd443c051488",
        "colab": {
          "base_uri": "https://localhost:8080/",
          "height": 34
        }
      },
      "source": [
        "sum(cleaned_data[\"Affordable\"]==1)*100/(sum(cleaned_data['Affordable']==0))"
      ],
      "execution_count": 273,
      "outputs": [
        {
          "output_type": "execute_result",
          "data": {
            "text/plain": [
              "3.330373001776199"
            ]
          },
          "metadata": {
            "tags": []
          },
          "execution_count": 273
        }
      ]
    },
    {
      "cell_type": "code",
      "metadata": {
        "id": "-1pLQeOh0JQu",
        "outputId": "3796273c-14fa-4697-ca1c-80b640564332",
        "colab": {
          "base_uri": "https://localhost:8080/",
          "height": 34
        }
      },
      "source": [
        ""
      ],
      "execution_count": 272,
      "outputs": [
        {
          "output_type": "execute_result",
          "data": {
            "text/plain": [
              "2252"
            ]
          },
          "metadata": {
            "tags": []
          },
          "execution_count": 272
        }
      ]
    },
    {
      "cell_type": "code",
      "metadata": {
        "id": "3mOH8ddf3CUA"
      },
      "source": [
        ""
      ],
      "execution_count": null,
      "outputs": []
    }
  ]
}